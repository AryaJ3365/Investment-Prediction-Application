{
  "nbformat": 4,
  "nbformat_minor": 0,
  "metadata": {
    "colab": {
      "provenance": [],
      "authorship_tag": "ABX9TyNPkZLb1ISbbxeuqyXexHWB",
      "include_colab_link": true
    },
    "kernelspec": {
      "name": "python3",
      "display_name": "Python 3"
    },
    "language_info": {
      "name": "python"
    }
  },
  "cells": [
    {
      "cell_type": "markdown",
      "metadata": {
        "id": "view-in-github",
        "colab_type": "text"
      },
      "source": [
        "<a href=\"https://colab.research.google.com/github/AryaJ3365/Investment-Prediction-Application/blob/main/Investment_Prediction_Application.ipynb\" target=\"_parent\"><img src=\"https://colab.research.google.com/assets/colab-badge.svg\" alt=\"Open In Colab\"/></a>"
      ]
    },
    {
      "cell_type": "markdown",
      "source": [
        "#**Investment Prediction App featuring Scikit-Learn**"
      ],
      "metadata": {
        "id": "7Yn82jwbVl-q"
      }
    },
    {
      "cell_type": "markdown",
      "source": [
        "##**Load Data**"
      ],
      "metadata": {
        "id": "BmrsDu28V7Mz"
      }
    },
    {
      "cell_type": "markdown",
      "source": [
        "###Import various needed python packages such as scikit-learn, pandas, and seaborn"
      ],
      "metadata": {
        "id": "eYkevG6OWDaf"
      }
    },
    {
      "cell_type": "markdown",
      "source": [
        "Scikit-learn is what provides us the capabilities to build our own standalone machine learning environment based on the data we feed it. This application will use a Random Forest Classifier as it's main model. Pandas package will be needed to allow me to manipulate the data as needed."
      ],
      "metadata": {
        "id": "EX5w67B9WW3L"
      }
    },
    {
      "cell_type": "code",
      "execution_count": null,
      "metadata": {
        "id": "8P3WB17cQhJM"
      },
      "outputs": [],
      "source": [
        "import pandas as pd\n",
        "import seaborn as sns\n",
        "import matplotlib.pyplot as plt\n",
        "from sklearn.ensemble import RandomForestClassifier\n",
        "from sklearn.linear_model import LinearRegression\n",
        "from sklearn.svm import SVC\n",
        "from sklearn import svm\n",
        "from sklearn.neural_network import MLPClassifier\n",
        "from sklearn.metrics import confusion_matrix, classification_report\n",
        "from sklearn.preprocessing import StandardScaler, LabelEncoder\n",
        "from sklearn.model_selection import train_test_split\n",
        "%matplotlib inline"
      ]
    },
    {
      "cell_type": "markdown",
      "source": [
        "Here we read in the CSV file that contains examples of past successful and unsuccessful investments to train the machine learning environment that I created through online research. Note: In the future I hope to create using startup investment data gathered fully through WiProsper."
      ],
      "metadata": {
        "id": "JzyGuvpAWvcY"
      }
    },
    {
      "cell_type": "code",
      "source": [
        "investmentDF = pd.read_csv(\"https://raw.githubusercontent.com/AryaJ3365/Datasets/main/regression.csv\")"
      ],
      "metadata": {
        "id": "UainAL4oUVoc"
      },
      "execution_count": null,
      "outputs": []
    },
    {
      "cell_type": "markdown",
      "source": [
        "##**Data Preparation**"
      ],
      "metadata": {
        "id": "QhfX29hOXIXZ"
      }
    },
    {
      "cell_type": "markdown",
      "source": [
        "###Analysis of the data"
      ],
      "metadata": {
        "id": "IvgizR-wXan3"
      }
    },
    {
      "cell_type": "markdown",
      "source": [
        "First we look through the head of the data set which essentially is just showing us how the first five rows of the data set look like.\n",
        "\n",
        "Here is the key for the data set:\n",
        "\n",
        "1.   Investment: Total dollars invested (USD)\n",
        "2.   Time: Short-term = 1, Long-term = 2\n",
        "3.   Skill: Low = 1, Medium = 2, High = 3\n",
        "4.   Impact: Low = 1, Medium = 2, High = 3\n",
        "5.   Successful: No = 0, Yes = 1\n",
        "\n"
      ],
      "metadata": {
        "id": "NpO0bMh1Xgjy"
      }
    },
    {
      "cell_type": "code",
      "source": [
        "investmentDF.head()"
      ],
      "metadata": {
        "colab": {
          "base_uri": "https://localhost:8080/",
          "height": 206
        },
        "id": "xH-HsxLDVCrr",
        "outputId": "5eaf893c-b889-4e0c-9c40-1a1df69bef02"
      },
      "execution_count": null,
      "outputs": [
        {
          "output_type": "execute_result",
          "data": {
            "text/plain": [
              "   Investment  Time  Skill  Impact  Successful\n",
              "0       10000     2      3       3           1\n",
              "1       15000     1      2       3           1\n",
              "2       20000     2      1       1           0\n",
              "3       25000     1      3       1           0\n",
              "4        5000     2      2       3           1"
            ],
            "text/html": [
              "\n",
              "  <div id=\"df-92cd40f8-b10b-486c-8d48-acdba7e69d98\">\n",
              "    <div class=\"colab-df-container\">\n",
              "      <div>\n",
              "<style scoped>\n",
              "    .dataframe tbody tr th:only-of-type {\n",
              "        vertical-align: middle;\n",
              "    }\n",
              "\n",
              "    .dataframe tbody tr th {\n",
              "        vertical-align: top;\n",
              "    }\n",
              "\n",
              "    .dataframe thead th {\n",
              "        text-align: right;\n",
              "    }\n",
              "</style>\n",
              "<table border=\"1\" class=\"dataframe\">\n",
              "  <thead>\n",
              "    <tr style=\"text-align: right;\">\n",
              "      <th></th>\n",
              "      <th>Investment</th>\n",
              "      <th>Time</th>\n",
              "      <th>Skill</th>\n",
              "      <th>Impact</th>\n",
              "      <th>Successful</th>\n",
              "    </tr>\n",
              "  </thead>\n",
              "  <tbody>\n",
              "    <tr>\n",
              "      <th>0</th>\n",
              "      <td>10000</td>\n",
              "      <td>2</td>\n",
              "      <td>3</td>\n",
              "      <td>3</td>\n",
              "      <td>1</td>\n",
              "    </tr>\n",
              "    <tr>\n",
              "      <th>1</th>\n",
              "      <td>15000</td>\n",
              "      <td>1</td>\n",
              "      <td>2</td>\n",
              "      <td>3</td>\n",
              "      <td>1</td>\n",
              "    </tr>\n",
              "    <tr>\n",
              "      <th>2</th>\n",
              "      <td>20000</td>\n",
              "      <td>2</td>\n",
              "      <td>1</td>\n",
              "      <td>1</td>\n",
              "      <td>0</td>\n",
              "    </tr>\n",
              "    <tr>\n",
              "      <th>3</th>\n",
              "      <td>25000</td>\n",
              "      <td>1</td>\n",
              "      <td>3</td>\n",
              "      <td>1</td>\n",
              "      <td>0</td>\n",
              "    </tr>\n",
              "    <tr>\n",
              "      <th>4</th>\n",
              "      <td>5000</td>\n",
              "      <td>2</td>\n",
              "      <td>2</td>\n",
              "      <td>3</td>\n",
              "      <td>1</td>\n",
              "    </tr>\n",
              "  </tbody>\n",
              "</table>\n",
              "</div>\n",
              "      <button class=\"colab-df-convert\" onclick=\"convertToInteractive('df-92cd40f8-b10b-486c-8d48-acdba7e69d98')\"\n",
              "              title=\"Convert this dataframe to an interactive table.\"\n",
              "              style=\"display:none;\">\n",
              "        \n",
              "  <svg xmlns=\"http://www.w3.org/2000/svg\" height=\"24px\"viewBox=\"0 0 24 24\"\n",
              "       width=\"24px\">\n",
              "    <path d=\"M0 0h24v24H0V0z\" fill=\"none\"/>\n",
              "    <path d=\"M18.56 5.44l.94 2.06.94-2.06 2.06-.94-2.06-.94-.94-2.06-.94 2.06-2.06.94zm-11 1L8.5 8.5l.94-2.06 2.06-.94-2.06-.94L8.5 2.5l-.94 2.06-2.06.94zm10 10l.94 2.06.94-2.06 2.06-.94-2.06-.94-.94-2.06-.94 2.06-2.06.94z\"/><path d=\"M17.41 7.96l-1.37-1.37c-.4-.4-.92-.59-1.43-.59-.52 0-1.04.2-1.43.59L10.3 9.45l-7.72 7.72c-.78.78-.78 2.05 0 2.83L4 21.41c.39.39.9.59 1.41.59.51 0 1.02-.2 1.41-.59l7.78-7.78 2.81-2.81c.8-.78.8-2.07 0-2.86zM5.41 20L4 18.59l7.72-7.72 1.47 1.35L5.41 20z\"/>\n",
              "  </svg>\n",
              "      </button>\n",
              "      \n",
              "  <style>\n",
              "    .colab-df-container {\n",
              "      display:flex;\n",
              "      flex-wrap:wrap;\n",
              "      gap: 12px;\n",
              "    }\n",
              "\n",
              "    .colab-df-convert {\n",
              "      background-color: #E8F0FE;\n",
              "      border: none;\n",
              "      border-radius: 50%;\n",
              "      cursor: pointer;\n",
              "      display: none;\n",
              "      fill: #1967D2;\n",
              "      height: 32px;\n",
              "      padding: 0 0 0 0;\n",
              "      width: 32px;\n",
              "    }\n",
              "\n",
              "    .colab-df-convert:hover {\n",
              "      background-color: #E2EBFA;\n",
              "      box-shadow: 0px 1px 2px rgba(60, 64, 67, 0.3), 0px 1px 3px 1px rgba(60, 64, 67, 0.15);\n",
              "      fill: #174EA6;\n",
              "    }\n",
              "\n",
              "    [theme=dark] .colab-df-convert {\n",
              "      background-color: #3B4455;\n",
              "      fill: #D2E3FC;\n",
              "    }\n",
              "\n",
              "    [theme=dark] .colab-df-convert:hover {\n",
              "      background-color: #434B5C;\n",
              "      box-shadow: 0px 1px 3px 1px rgba(0, 0, 0, 0.15);\n",
              "      filter: drop-shadow(0px 1px 2px rgba(0, 0, 0, 0.3));\n",
              "      fill: #FFFFFF;\n",
              "    }\n",
              "  </style>\n",
              "\n",
              "      <script>\n",
              "        const buttonEl =\n",
              "          document.querySelector('#df-92cd40f8-b10b-486c-8d48-acdba7e69d98 button.colab-df-convert');\n",
              "        buttonEl.style.display =\n",
              "          google.colab.kernel.accessAllowed ? 'block' : 'none';\n",
              "\n",
              "        async function convertToInteractive(key) {\n",
              "          const element = document.querySelector('#df-92cd40f8-b10b-486c-8d48-acdba7e69d98');\n",
              "          const dataTable =\n",
              "            await google.colab.kernel.invokeFunction('convertToInteractive',\n",
              "                                                     [key], {});\n",
              "          if (!dataTable) return;\n",
              "\n",
              "          const docLinkHtml = 'Like what you see? Visit the ' +\n",
              "            '<a target=\"_blank\" href=https://colab.research.google.com/notebooks/data_table.ipynb>data table notebook</a>'\n",
              "            + ' to learn more about interactive tables.';\n",
              "          element.innerHTML = '';\n",
              "          dataTable['output_type'] = 'display_data';\n",
              "          await google.colab.output.renderOutput(dataTable, element);\n",
              "          const docLink = document.createElement('div');\n",
              "          docLink.innerHTML = docLinkHtml;\n",
              "          element.appendChild(docLink);\n",
              "        }\n",
              "      </script>\n",
              "    </div>\n",
              "  </div>\n",
              "  "
            ]
          },
          "metadata": {},
          "execution_count": 3
        }
      ]
    },
    {
      "cell_type": "markdown",
      "source": [
        "Next, we use the info() command to figure out the data type each column is using, since we are primarily using linear regression and random forest models we would like for our data types to either be an integer (whole number) or a float (decimal)."
      ],
      "metadata": {
        "id": "5SD3msPgZOtZ"
      }
    },
    {
      "cell_type": "code",
      "source": [
        "investmentDF.info()"
      ],
      "metadata": {
        "colab": {
          "base_uri": "https://localhost:8080/"
        },
        "id": "llmd9CBwVHEx",
        "outputId": "d95eedda-7154-47d1-cab7-b1f19e4923d7"
      },
      "execution_count": null,
      "outputs": [
        {
          "output_type": "stream",
          "name": "stdout",
          "text": [
            "<class 'pandas.core.frame.DataFrame'>\n",
            "RangeIndex: 70 entries, 0 to 69\n",
            "Data columns (total 5 columns):\n",
            " #   Column      Non-Null Count  Dtype\n",
            "---  ------      --------------  -----\n",
            " 0   Investment  70 non-null     int64\n",
            " 1   Time        70 non-null     int64\n",
            " 2   Skill       70 non-null     int64\n",
            " 3   Impact      70 non-null     int64\n",
            " 4   Successful  70 non-null     int64\n",
            "dtypes: int64(5)\n",
            "memory usage: 2.9 KB\n"
          ]
        }
      ]
    },
    {
      "cell_type": "markdown",
      "source": [
        "Next we use the isnull() command to verify that there is no null values (values with nothing in it) that may accidentally change the results we are looking for. Good thing here as we can see below is there are no null values in any of the columns."
      ],
      "metadata": {
        "id": "wja_ftwbZgY9"
      }
    },
    {
      "cell_type": "code",
      "source": [
        "investmentDF.isnull().sum()"
      ],
      "metadata": {
        "colab": {
          "base_uri": "https://localhost:8080/"
        },
        "id": "27CFT_9GVKoS",
        "outputId": "4431437e-a452-4d86-c71a-9668260a4db0"
      },
      "execution_count": null,
      "outputs": [
        {
          "output_type": "execute_result",
          "data": {
            "text/plain": [
              "Investment    0\n",
              "Time          0\n",
              "Skill         0\n",
              "Impact        0\n",
              "Successful    0\n",
              "dtype: int64"
            ]
          },
          "metadata": {},
          "execution_count": 5
        }
      ]
    },
    {
      "cell_type": "markdown",
      "source": [
        "Since, in this scenario our successful column can only have two values: 1 (buisness is successful) or 0 (buisness is not successful) we are able to continue with the process of starting the Machine Learning Model. If there were multiple values we would have needed to use a label encoder."
      ],
      "metadata": {
        "id": "RCo98UY1aLCj"
      }
    },
    {
      "cell_type": "code",
      "source": [
        "investmentDF['Successful'].value_counts()"
      ],
      "metadata": {
        "colab": {
          "base_uri": "https://localhost:8080/"
        },
        "id": "BDFzBjZBWcCm",
        "outputId": "8cf044b8-aaa9-43aa-df83-2623979acb20"
      },
      "execution_count": null,
      "outputs": [
        {
          "output_type": "execute_result",
          "data": {
            "text/plain": [
              "1    41\n",
              "0    29\n",
              "Name: Successful, dtype: int64"
            ]
          },
          "metadata": {},
          "execution_count": 6
        }
      ]
    },
    {
      "cell_type": "markdown",
      "source": [
        "Data separation as X and y."
      ],
      "metadata": {
        "id": "H_rcajWUa_f8"
      }
    },
    {
      "cell_type": "code",
      "source": [
        "X = investmentDF.drop('Successful', axis = 1)\n",
        "y = investmentDF['Successful']"
      ],
      "metadata": {
        "id": "8h_FX9BlWo9-"
      },
      "execution_count": null,
      "outputs": []
    },
    {
      "cell_type": "markdown",
      "source": [
        "###Data Splitting"
      ],
      "metadata": {
        "id": "7_HMZaZha15Y"
      }
    },
    {
      "cell_type": "markdown",
      "source": [
        "We have decided a test size of 0.2 which means our test data set will contain 20% of the values and our training data set will contain the other 80% of the values. This is important since if follows the correct procedures for Machine Learning data feeding."
      ],
      "metadata": {
        "id": "pX91rZYNcoy5"
      }
    },
    {
      "cell_type": "code",
      "source": [
        "X_train, X_test, y_train, y_test = train_test_split(X, y, test_size = 0.2, random_state = 42)"
      ],
      "metadata": {
        "id": "Y2Pv-NQDW0gJ"
      },
      "execution_count": null,
      "outputs": []
    },
    {
      "cell_type": "markdown",
      "source": [
        "Standard scaling is used in order for us to get more optimized results."
      ],
      "metadata": {
        "id": "-3f_r8PPdks7"
      }
    },
    {
      "cell_type": "code",
      "source": [
        "sc = StandardScaler()"
      ],
      "metadata": {
        "id": "mqnGvOyzXD0P"
      },
      "execution_count": null,
      "outputs": []
    },
    {
      "cell_type": "markdown",
      "source": [
        "Applying standard scaling to our testing data set and our training data set."
      ],
      "metadata": {
        "id": "q9kx7xsBdwnV"
      }
    },
    {
      "cell_type": "code",
      "source": [
        "X_train = sc.fit_transform(X_train)\n",
        "X_test = sc.fit_transform(X_test)"
      ],
      "metadata": {
        "id": "iS8oflzVXGzb"
      },
      "execution_count": null,
      "outputs": []
    },
    {
      "cell_type": "markdown",
      "source": [
        "##**Model Building**"
      ],
      "metadata": {
        "id": "KnYPGz1AdOn0"
      }
    },
    {
      "cell_type": "markdown",
      "source": [
        "###**Random Forest Classifier**"
      ],
      "metadata": {
        "id": "SFx9XbgndUz5"
      }
    },
    {
      "cell_type": "markdown",
      "source": [
        "Training and applying the model in order to allows us to make a prediction."
      ],
      "metadata": {
        "id": "EHr2QAfreDaz"
      }
    },
    {
      "cell_type": "code",
      "source": [
        "rfc = RandomForestClassifier(n_estimators=200)\n",
        "rfc.fit(X_train, y_train)\n",
        "pred_rfc = rfc.predict(X_test)"
      ],
      "metadata": {
        "id": "0wEuMfhSZMyx"
      },
      "execution_count": null,
      "outputs": []
    },
    {
      "cell_type": "markdown",
      "source": [
        "Classifaction report results of our model's performance using the Random Forest Classifier model."
      ],
      "metadata": {
        "id": "5_KpageZeRw6"
      }
    },
    {
      "cell_type": "code",
      "source": [
        "print(classification_report(y_test, pred_rfc))"
      ],
      "metadata": {
        "id": "ytwNVEGIaYyN",
        "colab": {
          "base_uri": "https://localhost:8080/"
        },
        "outputId": "f7e0b062-e30b-4c04-ae70-3b90b54921be"
      },
      "execution_count": null,
      "outputs": [
        {
          "output_type": "stream",
          "name": "stdout",
          "text": [
            "              precision    recall  f1-score   support\n",
            "\n",
            "           0       1.00      0.71      0.83         7\n",
            "           1       0.78      1.00      0.88         7\n",
            "\n",
            "    accuracy                           0.86        14\n",
            "   macro avg       0.89      0.86      0.85        14\n",
            "weighted avg       0.89      0.86      0.85        14\n",
            "\n"
          ]
        }
      ]
    },
    {
      "cell_type": "markdown",
      "source": [
        "Confusion matrix results shows the number of true positives (TP) and true negatives (TN) that we are seeing within our data set.![1_Z54JgbS4DUwWSknhDCvNTQ.png](data:image/png;base64,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)"
      ],
      "metadata": {
        "id": "-0c4nJLCed7G"
      }
    },
    {
      "cell_type": "code",
      "source": [
        "print(confusion_matrix(y_test, pred_rfc))"
      ],
      "metadata": {
        "id": "Yv89VYtoYG7T",
        "colab": {
          "base_uri": "https://localhost:8080/"
        },
        "outputId": "3bb7fa65-f4ca-49b4-b43d-5cb83008653e"
      },
      "execution_count": 20,
      "outputs": [
        {
          "output_type": "stream",
          "name": "stdout",
          "text": [
            "[[5 2]\n",
            " [0 7]]\n"
          ]
        }
      ]
    },
    {
      "cell_type": "markdown",
      "source": [
        "These commands show us the accuracy of the random forest classifier which gives us an accuracy of 86%, however will go much higher once more data is added into the data set."
      ],
      "metadata": {
        "id": "-iYwci53fDMu"
      }
    },
    {
      "cell_type": "code",
      "source": [
        "from sklearn.metrics import accuracy_score\n",
        "cm = accuracy_score(y_test, pred_rfc)\n",
        "\n",
        "cm"
      ],
      "metadata": {
        "id": "DuyRIT1gYKBj",
        "colab": {
          "base_uri": "https://localhost:8080/"
        },
        "outputId": "c100044c-6df4-4c28-eb38-1839e68ec9dc"
      },
      "execution_count": null,
      "outputs": [
        {
          "output_type": "execute_result",
          "data": {
            "text/plain": [
              "0.8571428571428571"
            ]
          },
          "metadata": {},
          "execution_count": 14
        }
      ]
    },
    {
      "cell_type": "markdown",
      "source": [
        "##**Investment Prediction**"
      ],
      "metadata": {
        "id": "V8hApfhHfWwt"
      }
    },
    {
      "cell_type": "markdown",
      "source": [
        "###Dataset Information and Rules"
      ],
      "metadata": {
        "id": "5NMB88CHgE-0"
      }
    },
    {
      "cell_type": "markdown",
      "source": [
        "Bringing back the head of the CSV so we know the columns needed to set up our investment that we are trying to predict if it will be successful.\n",
        "\n",
        "Once again here is the key for the data set:\n",
        "\n",
        "1.   Investment: Total dollars invested (USD)\n",
        "2.   Time: Short-term = 1, Long-term = 2\n",
        "3.   Skill: Low = 1, Medium = 2, High = 3\n",
        "4.   Impact: Low = 1, Medium = 2, High = 3\n",
        "5.   Successful: No = 0, Yes = 1\n",
        "\n"
      ],
      "metadata": {
        "id": "cy9l70FiY5cK"
      }
    },
    {
      "cell_type": "code",
      "source": [
        "investmentDF.head(10)"
      ],
      "metadata": {
        "id": "gYrYqTr-YQaQ",
        "colab": {
          "base_uri": "https://localhost:8080/",
          "height": 363
        },
        "outputId": "3c3050c4-bcb1-468f-d9b2-4e5ec1f26c7c"
      },
      "execution_count": null,
      "outputs": [
        {
          "output_type": "execute_result",
          "data": {
            "text/plain": [
              "   Investment  Time  Skill  Impact  Successful\n",
              "0       10000     2      3       3           1\n",
              "1       15000     1      2       3           1\n",
              "2       20000     2      1       1           0\n",
              "3       25000     1      3       1           0\n",
              "4        5000     2      2       3           1\n",
              "5        7500     2      3       1           0\n",
              "6       35000     2      2       2           1\n",
              "7        5000     1      3       1           0\n",
              "8       30000     2      1       2           1\n",
              "9        2000     1      3       1           0"
            ],
            "text/html": [
              "\n",
              "  <div id=\"df-ab653806-7699-4128-bc2b-74325a17cba7\">\n",
              "    <div class=\"colab-df-container\">\n",
              "      <div>\n",
              "<style scoped>\n",
              "    .dataframe tbody tr th:only-of-type {\n",
              "        vertical-align: middle;\n",
              "    }\n",
              "\n",
              "    .dataframe tbody tr th {\n",
              "        vertical-align: top;\n",
              "    }\n",
              "\n",
              "    .dataframe thead th {\n",
              "        text-align: right;\n",
              "    }\n",
              "</style>\n",
              "<table border=\"1\" class=\"dataframe\">\n",
              "  <thead>\n",
              "    <tr style=\"text-align: right;\">\n",
              "      <th></th>\n",
              "      <th>Investment</th>\n",
              "      <th>Time</th>\n",
              "      <th>Skill</th>\n",
              "      <th>Impact</th>\n",
              "      <th>Successful</th>\n",
              "    </tr>\n",
              "  </thead>\n",
              "  <tbody>\n",
              "    <tr>\n",
              "      <th>0</th>\n",
              "      <td>10000</td>\n",
              "      <td>2</td>\n",
              "      <td>3</td>\n",
              "      <td>3</td>\n",
              "      <td>1</td>\n",
              "    </tr>\n",
              "    <tr>\n",
              "      <th>1</th>\n",
              "      <td>15000</td>\n",
              "      <td>1</td>\n",
              "      <td>2</td>\n",
              "      <td>3</td>\n",
              "      <td>1</td>\n",
              "    </tr>\n",
              "    <tr>\n",
              "      <th>2</th>\n",
              "      <td>20000</td>\n",
              "      <td>2</td>\n",
              "      <td>1</td>\n",
              "      <td>1</td>\n",
              "      <td>0</td>\n",
              "    </tr>\n",
              "    <tr>\n",
              "      <th>3</th>\n",
              "      <td>25000</td>\n",
              "      <td>1</td>\n",
              "      <td>3</td>\n",
              "      <td>1</td>\n",
              "      <td>0</td>\n",
              "    </tr>\n",
              "    <tr>\n",
              "      <th>4</th>\n",
              "      <td>5000</td>\n",
              "      <td>2</td>\n",
              "      <td>2</td>\n",
              "      <td>3</td>\n",
              "      <td>1</td>\n",
              "    </tr>\n",
              "    <tr>\n",
              "      <th>5</th>\n",
              "      <td>7500</td>\n",
              "      <td>2</td>\n",
              "      <td>3</td>\n",
              "      <td>1</td>\n",
              "      <td>0</td>\n",
              "    </tr>\n",
              "    <tr>\n",
              "      <th>6</th>\n",
              "      <td>35000</td>\n",
              "      <td>2</td>\n",
              "      <td>2</td>\n",
              "      <td>2</td>\n",
              "      <td>1</td>\n",
              "    </tr>\n",
              "    <tr>\n",
              "      <th>7</th>\n",
              "      <td>5000</td>\n",
              "      <td>1</td>\n",
              "      <td>3</td>\n",
              "      <td>1</td>\n",
              "      <td>0</td>\n",
              "    </tr>\n",
              "    <tr>\n",
              "      <th>8</th>\n",
              "      <td>30000</td>\n",
              "      <td>2</td>\n",
              "      <td>1</td>\n",
              "      <td>2</td>\n",
              "      <td>1</td>\n",
              "    </tr>\n",
              "    <tr>\n",
              "      <th>9</th>\n",
              "      <td>2000</td>\n",
              "      <td>1</td>\n",
              "      <td>3</td>\n",
              "      <td>1</td>\n",
              "      <td>0</td>\n",
              "    </tr>\n",
              "  </tbody>\n",
              "</table>\n",
              "</div>\n",
              "      <button class=\"colab-df-convert\" onclick=\"convertToInteractive('df-ab653806-7699-4128-bc2b-74325a17cba7')\"\n",
              "              title=\"Convert this dataframe to an interactive table.\"\n",
              "              style=\"display:none;\">\n",
              "        \n",
              "  <svg xmlns=\"http://www.w3.org/2000/svg\" height=\"24px\"viewBox=\"0 0 24 24\"\n",
              "       width=\"24px\">\n",
              "    <path d=\"M0 0h24v24H0V0z\" fill=\"none\"/>\n",
              "    <path d=\"M18.56 5.44l.94 2.06.94-2.06 2.06-.94-2.06-.94-.94-2.06-.94 2.06-2.06.94zm-11 1L8.5 8.5l.94-2.06 2.06-.94-2.06-.94L8.5 2.5l-.94 2.06-2.06.94zm10 10l.94 2.06.94-2.06 2.06-.94-2.06-.94-.94-2.06-.94 2.06-2.06.94z\"/><path d=\"M17.41 7.96l-1.37-1.37c-.4-.4-.92-.59-1.43-.59-.52 0-1.04.2-1.43.59L10.3 9.45l-7.72 7.72c-.78.78-.78 2.05 0 2.83L4 21.41c.39.39.9.59 1.41.59.51 0 1.02-.2 1.41-.59l7.78-7.78 2.81-2.81c.8-.78.8-2.07 0-2.86zM5.41 20L4 18.59l7.72-7.72 1.47 1.35L5.41 20z\"/>\n",
              "  </svg>\n",
              "      </button>\n",
              "      \n",
              "  <style>\n",
              "    .colab-df-container {\n",
              "      display:flex;\n",
              "      flex-wrap:wrap;\n",
              "      gap: 12px;\n",
              "    }\n",
              "\n",
              "    .colab-df-convert {\n",
              "      background-color: #E8F0FE;\n",
              "      border: none;\n",
              "      border-radius: 50%;\n",
              "      cursor: pointer;\n",
              "      display: none;\n",
              "      fill: #1967D2;\n",
              "      height: 32px;\n",
              "      padding: 0 0 0 0;\n",
              "      width: 32px;\n",
              "    }\n",
              "\n",
              "    .colab-df-convert:hover {\n",
              "      background-color: #E2EBFA;\n",
              "      box-shadow: 0px 1px 2px rgba(60, 64, 67, 0.3), 0px 1px 3px 1px rgba(60, 64, 67, 0.15);\n",
              "      fill: #174EA6;\n",
              "    }\n",
              "\n",
              "    [theme=dark] .colab-df-convert {\n",
              "      background-color: #3B4455;\n",
              "      fill: #D2E3FC;\n",
              "    }\n",
              "\n",
              "    [theme=dark] .colab-df-convert:hover {\n",
              "      background-color: #434B5C;\n",
              "      box-shadow: 0px 1px 3px 1px rgba(0, 0, 0, 0.15);\n",
              "      filter: drop-shadow(0px 1px 2px rgba(0, 0, 0, 0.3));\n",
              "      fill: #FFFFFF;\n",
              "    }\n",
              "  </style>\n",
              "\n",
              "      <script>\n",
              "        const buttonEl =\n",
              "          document.querySelector('#df-ab653806-7699-4128-bc2b-74325a17cba7 button.colab-df-convert');\n",
              "        buttonEl.style.display =\n",
              "          google.colab.kernel.accessAllowed ? 'block' : 'none';\n",
              "\n",
              "        async function convertToInteractive(key) {\n",
              "          const element = document.querySelector('#df-ab653806-7699-4128-bc2b-74325a17cba7');\n",
              "          const dataTable =\n",
              "            await google.colab.kernel.invokeFunction('convertToInteractive',\n",
              "                                                     [key], {});\n",
              "          if (!dataTable) return;\n",
              "\n",
              "          const docLinkHtml = 'Like what you see? Visit the ' +\n",
              "            '<a target=\"_blank\" href=https://colab.research.google.com/notebooks/data_table.ipynb>data table notebook</a>'\n",
              "            + ' to learn more about interactive tables.';\n",
              "          element.innerHTML = '';\n",
              "          dataTable['output_type'] = 'display_data';\n",
              "          await google.colab.output.renderOutput(dataTable, element);\n",
              "          const docLink = document.createElement('div');\n",
              "          docLink.innerHTML = docLinkHtml;\n",
              "          element.appendChild(docLink);\n",
              "        }\n",
              "      </script>\n",
              "    </div>\n",
              "  </div>\n",
              "  "
            ]
          },
          "metadata": {},
          "execution_count": 15
        }
      ]
    },
    {
      "cell_type": "markdown",
      "source": [
        "###Data Entry"
      ],
      "metadata": {
        "id": "AN2IErNmgNVd"
      }
    },
    {
      "cell_type": "markdown",
      "source": [
        "Within the Xnew line in our code in between each comma type in the data of the four features you are looking at using the above key and snippet of the data set as a guide. The Xnew line should be structured like this:\n",
        "\n",
        "**Xnew = [Investment, Time, Skill, Impact]**\n",
        "\n"
      ],
      "metadata": {
        "id": "AyA4RuK3fibE"
      }
    },
    {
      "cell_type": "code",
      "source": [
        "#Enter your investment data (information) here.\n",
        "Xnew = [[50000, 2, 3, 3]]\n",
        "\n",
        "ynew = rfc.predict(Xnew)"
      ],
      "metadata": {
        "id": "HHN8f2ZPYUn8"
      },
      "execution_count": null,
      "outputs": []
    },
    {
      "cell_type": "markdown",
      "source": [
        "This line will output whether the buisness above is either predicted to be successful or unsuccessful.\n",
        "\n"
      ],
      "metadata": {
        "id": "DlFVO6fEg4b8"
      }
    },
    {
      "cell_type": "code",
      "source": [
        "if(ynew == 1):\n",
        "  print(\"The investment is predicted to be successful.\")\n",
        "else:\n",
        "  print(\"The investment is predicted to be unsuccessful\")\n",
        "print(ynew)"
      ],
      "metadata": {
        "id": "-4cM5tScYmhF",
        "colab": {
          "base_uri": "https://localhost:8080/"
        },
        "outputId": "b6531672-75e0-4d8f-8fc5-de0ca0630e21"
      },
      "execution_count": 22,
      "outputs": [
        {
          "output_type": "stream",
          "name": "stdout",
          "text": [
            "The investment is predicted to be successful.\n",
            "[1]\n"
          ]
        }
      ]
    }
  ]
}