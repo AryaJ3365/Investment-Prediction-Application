{
  "nbformat": 4,
  "nbformat_minor": 0,
  "metadata": {
    "colab": {
      "provenance": [],
      "toc_visible": true,
      "authorship_tag": "ABX9TyNVjBf2GBbGeoXZFG2Z0w6w",
      "include_colab_link": true
    },
    "kernelspec": {
      "name": "python3",
      "display_name": "Python 3"
    },
    "language_info": {
      "name": "python"
    }
  },
  "cells": [
    {
      "cell_type": "markdown",
      "metadata": {
        "id": "view-in-github",
        "colab_type": "text"
      },
      "source": [
        "<a href=\"https://colab.research.google.com/github/AryaJ3365/Investment-Prediction-Application/blob/main/Investment_Prediction_Application_2_0.ipynb\" target=\"_parent\"><img src=\"https://colab.research.google.com/assets/colab-badge.svg\" alt=\"Open In Colab\"/></a>"
      ]
    },
    {
      "cell_type": "markdown",
      "source": [
        "#**Investment Prediction App featuring LGBM Regression**"
      ],
      "metadata": {
        "id": "VBUb_QlkS2K2"
      }
    },
    {
      "cell_type": "markdown",
      "source": [
        "##**Load Data**\n",
        "\n"
      ],
      "metadata": {
        "id": "CiOmryTLS-li"
      }
    },
    {
      "cell_type": "markdown",
      "source": [
        "###Import various needed python packages such as LGBM regressor, pandas, and seaborn"
      ],
      "metadata": {
        "id": "eYkevG6OWDaf"
      }
    },
    {
      "cell_type": "code",
      "execution_count": 24,
      "metadata": {
        "id": "2CAGjemsYFXP"
      },
      "outputs": [],
      "source": [
        "import pandas as pd\n",
        "import numpy as np\n",
        "import matplotlib.pyplot as plt\n",
        "%matplotlib inline\n",
        "import seaborn as sns\n",
        "from sklearn.preprocessing import OneHotEncoder, StandardScaler\n",
        "from sklearn.model_selection import GridSearchCV\n",
        "from lightgbm import LGBMRegressor\n",
        "from sklearn.pipeline import Pipeline\n",
        "from sklearn.compose import ColumnTransformer\n",
        "import joblib"
      ]
    },
    {
      "cell_type": "markdown",
      "source": [
        "Here we read in the CSV file that contains examples of past successful and unsuccessful investments to train the machine learning environment that I created through online research. Note: In the future I hope to create using startup investment data gathered fully through WiProsper."
      ],
      "metadata": {
        "id": "JzyGuvpAWvcY"
      }
    },
    {
      "cell_type": "code",
      "source": [
        "df = pd.read_csv(\"https://raw.githubusercontent.com/AryaJ3365/Datasets/main/regression.csv\")"
      ],
      "metadata": {
        "id": "RlyI52c9YHQD"
      },
      "execution_count": 25,
      "outputs": []
    },
    {
      "cell_type": "markdown",
      "source": [
        "##**Data Preparation**"
      ],
      "metadata": {
        "id": "QhfX29hOXIXZ"
      }
    },
    {
      "cell_type": "markdown",
      "source": [
        "###Analysis of the data"
      ],
      "metadata": {
        "id": "IvgizR-wXan3"
      }
    },
    {
      "cell_type": "markdown",
      "source": [
        "First we look through the head of the data set which essentially is just showing us how the first five rows of the data set look like.\n",
        "\n",
        "Here is the key for the data set:\n",
        "\n",
        "1.   Investment Name: The name of where the investment came from.\n",
        "2.   Investment: Total dollars invested (USD)\n",
        "3.   Time: Short-term = 1, Long-term = 2\n",
        "4.   Skill: Low = 1, Medium = 2, High = 3\n",
        "5.   Impact: Low = 1, Medium = 2, High = 3\n",
        "6.   Successful: The percentage represented as an integer of the investment being successful.\n",
        "\n"
      ],
      "metadata": {
        "id": "NpO0bMh1Xgjy"
      }
    },
    {
      "cell_type": "code",
      "source": [
        "df.head()"
      ],
      "metadata": {
        "colab": {
          "base_uri": "https://localhost:8080/",
          "height": 206
        },
        "id": "ilr1owYrTQwK",
        "outputId": "ebd75b88-f3f1-4912-cddd-133a113f2099"
      },
      "execution_count": 26,
      "outputs": [
        {
          "output_type": "execute_result",
          "data": {
            "text/plain": [
              "  Investment Name  Investment  Time  Skill  Impact  Successful\n",
              "0         Stock A       10000     2      3       3          70\n",
              "1         Stock B       15000     1      2       3          60\n",
              "2   Mutual Fund C       20000     2      1       1          80\n",
              "3           ETF D       25000     1      3       1          85\n",
              "4   Real Estate E        5000     2      2       3          75"
            ],
            "text/html": [
              "\n",
              "  <div id=\"df-e0188248-7de2-431e-82f0-9a1e1b10b954\">\n",
              "    <div class=\"colab-df-container\">\n",
              "      <div>\n",
              "<style scoped>\n",
              "    .dataframe tbody tr th:only-of-type {\n",
              "        vertical-align: middle;\n",
              "    }\n",
              "\n",
              "    .dataframe tbody tr th {\n",
              "        vertical-align: top;\n",
              "    }\n",
              "\n",
              "    .dataframe thead th {\n",
              "        text-align: right;\n",
              "    }\n",
              "</style>\n",
              "<table border=\"1\" class=\"dataframe\">\n",
              "  <thead>\n",
              "    <tr style=\"text-align: right;\">\n",
              "      <th></th>\n",
              "      <th>Investment Name</th>\n",
              "      <th>Investment</th>\n",
              "      <th>Time</th>\n",
              "      <th>Skill</th>\n",
              "      <th>Impact</th>\n",
              "      <th>Successful</th>\n",
              "    </tr>\n",
              "  </thead>\n",
              "  <tbody>\n",
              "    <tr>\n",
              "      <th>0</th>\n",
              "      <td>Stock A</td>\n",
              "      <td>10000</td>\n",
              "      <td>2</td>\n",
              "      <td>3</td>\n",
              "      <td>3</td>\n",
              "      <td>70</td>\n",
              "    </tr>\n",
              "    <tr>\n",
              "      <th>1</th>\n",
              "      <td>Stock B</td>\n",
              "      <td>15000</td>\n",
              "      <td>1</td>\n",
              "      <td>2</td>\n",
              "      <td>3</td>\n",
              "      <td>60</td>\n",
              "    </tr>\n",
              "    <tr>\n",
              "      <th>2</th>\n",
              "      <td>Mutual Fund C</td>\n",
              "      <td>20000</td>\n",
              "      <td>2</td>\n",
              "      <td>1</td>\n",
              "      <td>1</td>\n",
              "      <td>80</td>\n",
              "    </tr>\n",
              "    <tr>\n",
              "      <th>3</th>\n",
              "      <td>ETF D</td>\n",
              "      <td>25000</td>\n",
              "      <td>1</td>\n",
              "      <td>3</td>\n",
              "      <td>1</td>\n",
              "      <td>85</td>\n",
              "    </tr>\n",
              "    <tr>\n",
              "      <th>4</th>\n",
              "      <td>Real Estate E</td>\n",
              "      <td>5000</td>\n",
              "      <td>2</td>\n",
              "      <td>2</td>\n",
              "      <td>3</td>\n",
              "      <td>75</td>\n",
              "    </tr>\n",
              "  </tbody>\n",
              "</table>\n",
              "</div>\n",
              "      <button class=\"colab-df-convert\" onclick=\"convertToInteractive('df-e0188248-7de2-431e-82f0-9a1e1b10b954')\"\n",
              "              title=\"Convert this dataframe to an interactive table.\"\n",
              "              style=\"display:none;\">\n",
              "        \n",
              "  <svg xmlns=\"http://www.w3.org/2000/svg\" height=\"24px\"viewBox=\"0 0 24 24\"\n",
              "       width=\"24px\">\n",
              "    <path d=\"M0 0h24v24H0V0z\" fill=\"none\"/>\n",
              "    <path d=\"M18.56 5.44l.94 2.06.94-2.06 2.06-.94-2.06-.94-.94-2.06-.94 2.06-2.06.94zm-11 1L8.5 8.5l.94-2.06 2.06-.94-2.06-.94L8.5 2.5l-.94 2.06-2.06.94zm10 10l.94 2.06.94-2.06 2.06-.94-2.06-.94-.94-2.06-.94 2.06-2.06.94z\"/><path d=\"M17.41 7.96l-1.37-1.37c-.4-.4-.92-.59-1.43-.59-.52 0-1.04.2-1.43.59L10.3 9.45l-7.72 7.72c-.78.78-.78 2.05 0 2.83L4 21.41c.39.39.9.59 1.41.59.51 0 1.02-.2 1.41-.59l7.78-7.78 2.81-2.81c.8-.78.8-2.07 0-2.86zM5.41 20L4 18.59l7.72-7.72 1.47 1.35L5.41 20z\"/>\n",
              "  </svg>\n",
              "      </button>\n",
              "      \n",
              "  <style>\n",
              "    .colab-df-container {\n",
              "      display:flex;\n",
              "      flex-wrap:wrap;\n",
              "      gap: 12px;\n",
              "    }\n",
              "\n",
              "    .colab-df-convert {\n",
              "      background-color: #E8F0FE;\n",
              "      border: none;\n",
              "      border-radius: 50%;\n",
              "      cursor: pointer;\n",
              "      display: none;\n",
              "      fill: #1967D2;\n",
              "      height: 32px;\n",
              "      padding: 0 0 0 0;\n",
              "      width: 32px;\n",
              "    }\n",
              "\n",
              "    .colab-df-convert:hover {\n",
              "      background-color: #E2EBFA;\n",
              "      box-shadow: 0px 1px 2px rgba(60, 64, 67, 0.3), 0px 1px 3px 1px rgba(60, 64, 67, 0.15);\n",
              "      fill: #174EA6;\n",
              "    }\n",
              "\n",
              "    [theme=dark] .colab-df-convert {\n",
              "      background-color: #3B4455;\n",
              "      fill: #D2E3FC;\n",
              "    }\n",
              "\n",
              "    [theme=dark] .colab-df-convert:hover {\n",
              "      background-color: #434B5C;\n",
              "      box-shadow: 0px 1px 3px 1px rgba(0, 0, 0, 0.15);\n",
              "      filter: drop-shadow(0px 1px 2px rgba(0, 0, 0, 0.3));\n",
              "      fill: #FFFFFF;\n",
              "    }\n",
              "  </style>\n",
              "\n",
              "      <script>\n",
              "        const buttonEl =\n",
              "          document.querySelector('#df-e0188248-7de2-431e-82f0-9a1e1b10b954 button.colab-df-convert');\n",
              "        buttonEl.style.display =\n",
              "          google.colab.kernel.accessAllowed ? 'block' : 'none';\n",
              "\n",
              "        async function convertToInteractive(key) {\n",
              "          const element = document.querySelector('#df-e0188248-7de2-431e-82f0-9a1e1b10b954');\n",
              "          const dataTable =\n",
              "            await google.colab.kernel.invokeFunction('convertToInteractive',\n",
              "                                                     [key], {});\n",
              "          if (!dataTable) return;\n",
              "\n",
              "          const docLinkHtml = 'Like what you see? Visit the ' +\n",
              "            '<a target=\"_blank\" href=https://colab.research.google.com/notebooks/data_table.ipynb>data table notebook</a>'\n",
              "            + ' to learn more about interactive tables.';\n",
              "          element.innerHTML = '';\n",
              "          dataTable['output_type'] = 'display_data';\n",
              "          await google.colab.output.renderOutput(dataTable, element);\n",
              "          const docLink = document.createElement('div');\n",
              "          docLink.innerHTML = docLinkHtml;\n",
              "          element.appendChild(docLink);\n",
              "        }\n",
              "      </script>\n",
              "    </div>\n",
              "  </div>\n",
              "  "
            ]
          },
          "metadata": {},
          "execution_count": 26
        }
      ]
    },
    {
      "cell_type": "markdown",
      "source": [
        "Next we use the isna() command to verify that there is no null values (values with nothing in it) that may accidentally change the results we are looking for. Good thing here as we can see below is there are no null values in any of the columns."
      ],
      "metadata": {
        "id": "5SD3msPgZOtZ"
      }
    },
    {
      "cell_type": "code",
      "source": [
        "df.isna().sum()"
      ],
      "metadata": {
        "colab": {
          "base_uri": "https://localhost:8080/"
        },
        "id": "teGWlLn8Y-or",
        "outputId": "e4c8e892-1eb6-41b8-df1b-e822e886b509"
      },
      "execution_count": 27,
      "outputs": [
        {
          "output_type": "execute_result",
          "data": {
            "text/plain": [
              "Investment Name    0\n",
              "Investment         0\n",
              "Time               0\n",
              "Skill              0\n",
              "Impact             0\n",
              "Successful         0\n",
              "dtype: int64"
            ]
          },
          "metadata": {},
          "execution_count": 27
        }
      ]
    },
    {
      "cell_type": "markdown",
      "source": [
        "Data separation as X and y."
      ],
      "metadata": {
        "id": "H_rcajWUa_f8"
      }
    },
    {
      "cell_type": "code",
      "source": [
        "X, y = df.drop('Successful', axis = 1), df['Successful']"
      ],
      "metadata": {
        "id": "N_yzTym0Yetp"
      },
      "execution_count": 28,
      "outputs": []
    },
    {
      "cell_type": "markdown",
      "source": [
        "##**Data Splitting**"
      ],
      "metadata": {
        "id": "7_HMZaZha15Y"
      }
    },
    {
      "cell_type": "markdown",
      "source": [
        "###Column Transformer"
      ],
      "metadata": {
        "id": "pOZuTh1mt7xo"
      }
    },
    {
      "cell_type": "markdown",
      "source": [
        "The goal of the column transformer is to take non-quantitive data columns such as Investment Name for example and leave that out of the shape of the data set. This is to ensure that the machine learning algorithm is forming conclusions on the prediction based on quantitive data from our training and testing data sets. However, these columns will still be used later but will be seperately encoded into quantitive data at a later point in the program."
      ],
      "metadata": {
        "id": "KBVOAg-frAtO"
      }
    },
    {
      "cell_type": "code",
      "source": [
        "cat_cols = X.dtypes[X.dtypes == 'O'].index.tolist()\n",
        "cat_cols"
      ],
      "metadata": {
        "colab": {
          "base_uri": "https://localhost:8080/"
        },
        "id": "Ron-aaWnYsBo",
        "outputId": "5e789dea-511d-4616-ad5f-1865f6706a84"
      },
      "execution_count": 29,
      "outputs": [
        {
          "output_type": "execute_result",
          "data": {
            "text/plain": [
              "['Investment Name']"
            ]
          },
          "metadata": {},
          "execution_count": 29
        }
      ]
    },
    {
      "cell_type": "code",
      "source": [
        "ct = ColumnTransformer([\n",
        "#     ('num', StandardScaler(), ['Successful', 'Success Rate']),\n",
        "    ('ohe', OneHotEncoder(sparse=False, handle_unknown='ignore'), cat_cols)\n",
        "], remainder='passthrough')"
      ],
      "metadata": {
        "id": "y4qTtXskbJh4"
      },
      "execution_count": 30,
      "outputs": []
    },
    {
      "cell_type": "code",
      "source": [
        "ct.fit_transform(X).shape"
      ],
      "metadata": {
        "colab": {
          "base_uri": "https://localhost:8080/"
        },
        "id": "cCQiyHg8bJu1",
        "outputId": "5691cb2e-be4e-4458-d17c-9fac6aac1dba"
      },
      "execution_count": 31,
      "outputs": [
        {
          "output_type": "stream",
          "name": "stderr",
          "text": [
            "/usr/local/lib/python3.10/dist-packages/sklearn/preprocessing/_encoders.py:868: FutureWarning: `sparse` was renamed to `sparse_output` in version 1.2 and will be removed in 1.4. `sparse_output` is ignored unless you leave `sparse` to its default value.\n",
            "  warnings.warn(\n"
          ]
        },
        {
          "output_type": "execute_result",
          "data": {
            "text/plain": [
              "(70, 74)"
            ]
          },
          "metadata": {},
          "execution_count": 31
        }
      ]
    },
    {
      "cell_type": "markdown",
      "source": [
        "###LightGBM Regressor Implementation"
      ],
      "metadata": {
        "id": "X2AwAu-qvKQg"
      }
    },
    {
      "cell_type": "markdown",
      "source": [
        "To implement the machine learning model and column transformer we use a pipeline. Essentially first the pipeline will apply the column transformer then next it will apply the LGBM regressor machine learning algorithm.\n",
        "\n",
        "Unlike other machine learning algorithms the LGBM regressor uses a tree based algorithm that grows vertically rather than horizontally. To explain further it chooses a leaf that provides the maximum value for the model to learn based on estimators. Which means it is choosing leafs that will allow the algorithm to learn faster rather than going through every single leaf making it a much more efficient algorithm."
      ],
      "metadata": {
        "id": "qiAmP2RFrDHg"
      }
    },
    {
      "cell_type": "code",
      "source": [
        "pipe = Pipeline([\n",
        "    ('trf', ct),\n",
        "    ('model', LGBMRegressor(random_state=0))\n",
        "])"
      ],
      "metadata": {
        "id": "qMj5uJocbPA1"
      },
      "execution_count": 32,
      "outputs": []
    },
    {
      "cell_type": "markdown",
      "source": [
        "###Gradient Boosting"
      ],
      "metadata": {
        "id": "9h5d03cE3_VZ"
      }
    },
    {
      "cell_type": "markdown",
      "source": [
        "Next to make our prediction model more accurate we are going to implement gradient boosting to allow us to compare between the different model boosting types.\n",
        "\n",
        "1. Dart Model: Utilizes easy handeling, pre-processing, and time series forecasting which allows us to be able to predict future trends as well.\n",
        "2. GDBT (Gradient Boosted Decision Tree) Model: Uses a variety of decision trees and analyzes them to predict the most likely value for the output.\n",
        "3. GOSS (Gradient Based One Side Sampling) Model: Selects a subset of data from the training set and selects the output based on the magnitude of the gradients that were calculated."
      ],
      "metadata": {
        "id": "F2B-5UHPrDvH"
      }
    },
    {
      "cell_type": "code",
      "source": [
        "params = {\n",
        "    'model__n_estimators':[100,130,150,170,190],\n",
        "    'model__boosting_type': ['dart', 'gbdt', 'goss']\n",
        "}"
      ],
      "metadata": {
        "id": "7YORsgDdbQXI"
      },
      "execution_count": 33,
      "outputs": []
    },
    {
      "cell_type": "markdown",
      "source": [
        "After all the models calculate the values for the output (predicted feature) the values get appended to a grid so we can then determine which model scored best based on the estimators that were assigned to it."
      ],
      "metadata": {
        "id": "fjZD3-RFrE9q"
      }
    },
    {
      "cell_type": "code",
      "source": [
        "gs = GridSearchCV(pipe, param_grid=params, scoring='neg_root_mean_squared_error', n_jobs=-1)"
      ],
      "metadata": {
        "id": "1hfzxYJJbSPZ"
      },
      "execution_count": 34,
      "outputs": []
    },
    {
      "cell_type": "markdown",
      "source": [
        "We then fit the data using One Hot Encoder which essentially justs takes our categorical data and then transforms it into numerical features of our dataset."
      ],
      "metadata": {
        "id": "W79LwY8grFfq"
      }
    },
    {
      "cell_type": "code",
      "source": [
        "gs.fit(X, y)"
      ],
      "metadata": {
        "colab": {
          "base_uri": "https://localhost:8080/",
          "height": 276
        },
        "id": "zFOB4qu0bSh3",
        "outputId": "a3f59fa1-b37a-4b01-ae1a-8e6a7eed224b"
      },
      "execution_count": 35,
      "outputs": [
        {
          "output_type": "stream",
          "name": "stderr",
          "text": [
            "/usr/local/lib/python3.10/dist-packages/sklearn/preprocessing/_encoders.py:868: FutureWarning: `sparse` was renamed to `sparse_output` in version 1.2 and will be removed in 1.4. `sparse_output` is ignored unless you leave `sparse` to its default value.\n",
            "  warnings.warn(\n"
          ]
        },
        {
          "output_type": "execute_result",
          "data": {
            "text/plain": [
              "GridSearchCV(estimator=Pipeline(steps=[('trf',\n",
              "                                        ColumnTransformer(remainder='passthrough',\n",
              "                                                          transformers=[('ohe',\n",
              "                                                                         OneHotEncoder(handle_unknown='ignore',\n",
              "                                                                                       sparse=False),\n",
              "                                                                         ['Investment '\n",
              "                                                                          'Name'])])),\n",
              "                                       ('model',\n",
              "                                        LGBMRegressor(random_state=0))]),\n",
              "             n_jobs=-1,\n",
              "             param_grid={'model__boosting_type': ['dart', 'gbdt', 'goss'],\n",
              "                         'model__n_estimators': [100, 130, 150, 170, 190]},\n",
              "             scoring='neg_root_mean_squared_error')"
            ],
            "text/html": [
              "<style>#sk-container-id-3 {color: black;background-color: white;}#sk-container-id-3 pre{padding: 0;}#sk-container-id-3 div.sk-toggleable {background-color: white;}#sk-container-id-3 label.sk-toggleable__label {cursor: pointer;display: block;width: 100%;margin-bottom: 0;padding: 0.3em;box-sizing: border-box;text-align: center;}#sk-container-id-3 label.sk-toggleable__label-arrow:before {content: \"▸\";float: left;margin-right: 0.25em;color: #696969;}#sk-container-id-3 label.sk-toggleable__label-arrow:hover:before {color: black;}#sk-container-id-3 div.sk-estimator:hover label.sk-toggleable__label-arrow:before {color: black;}#sk-container-id-3 div.sk-toggleable__content {max-height: 0;max-width: 0;overflow: hidden;text-align: left;background-color: #f0f8ff;}#sk-container-id-3 div.sk-toggleable__content pre {margin: 0.2em;color: black;border-radius: 0.25em;background-color: #f0f8ff;}#sk-container-id-3 input.sk-toggleable__control:checked~div.sk-toggleable__content {max-height: 200px;max-width: 100%;overflow: auto;}#sk-container-id-3 input.sk-toggleable__control:checked~label.sk-toggleable__label-arrow:before {content: \"▾\";}#sk-container-id-3 div.sk-estimator input.sk-toggleable__control:checked~label.sk-toggleable__label {background-color: #d4ebff;}#sk-container-id-3 div.sk-label input.sk-toggleable__control:checked~label.sk-toggleable__label {background-color: #d4ebff;}#sk-container-id-3 input.sk-hidden--visually {border: 0;clip: rect(1px 1px 1px 1px);clip: rect(1px, 1px, 1px, 1px);height: 1px;margin: -1px;overflow: hidden;padding: 0;position: absolute;width: 1px;}#sk-container-id-3 div.sk-estimator {font-family: monospace;background-color: #f0f8ff;border: 1px dotted black;border-radius: 0.25em;box-sizing: border-box;margin-bottom: 0.5em;}#sk-container-id-3 div.sk-estimator:hover {background-color: #d4ebff;}#sk-container-id-3 div.sk-parallel-item::after {content: \"\";width: 100%;border-bottom: 1px solid gray;flex-grow: 1;}#sk-container-id-3 div.sk-label:hover label.sk-toggleable__label {background-color: #d4ebff;}#sk-container-id-3 div.sk-serial::before {content: \"\";position: absolute;border-left: 1px solid gray;box-sizing: border-box;top: 0;bottom: 0;left: 50%;z-index: 0;}#sk-container-id-3 div.sk-serial {display: flex;flex-direction: column;align-items: center;background-color: white;padding-right: 0.2em;padding-left: 0.2em;position: relative;}#sk-container-id-3 div.sk-item {position: relative;z-index: 1;}#sk-container-id-3 div.sk-parallel {display: flex;align-items: stretch;justify-content: center;background-color: white;position: relative;}#sk-container-id-3 div.sk-item::before, #sk-container-id-3 div.sk-parallel-item::before {content: \"\";position: absolute;border-left: 1px solid gray;box-sizing: border-box;top: 0;bottom: 0;left: 50%;z-index: -1;}#sk-container-id-3 div.sk-parallel-item {display: flex;flex-direction: column;z-index: 1;position: relative;background-color: white;}#sk-container-id-3 div.sk-parallel-item:first-child::after {align-self: flex-end;width: 50%;}#sk-container-id-3 div.sk-parallel-item:last-child::after {align-self: flex-start;width: 50%;}#sk-container-id-3 div.sk-parallel-item:only-child::after {width: 0;}#sk-container-id-3 div.sk-dashed-wrapped {border: 1px dashed gray;margin: 0 0.4em 0.5em 0.4em;box-sizing: border-box;padding-bottom: 0.4em;background-color: white;}#sk-container-id-3 div.sk-label label {font-family: monospace;font-weight: bold;display: inline-block;line-height: 1.2em;}#sk-container-id-3 div.sk-label-container {text-align: center;}#sk-container-id-3 div.sk-container {/* jupyter's `normalize.less` sets `[hidden] { display: none; }` but bootstrap.min.css set `[hidden] { display: none !important; }` so we also need the `!important` here to be able to override the default hidden behavior on the sphinx rendered scikit-learn.org. See: https://github.com/scikit-learn/scikit-learn/issues/21755 */display: inline-block !important;position: relative;}#sk-container-id-3 div.sk-text-repr-fallback {display: none;}</style><div id=\"sk-container-id-3\" class=\"sk-top-container\"><div class=\"sk-text-repr-fallback\"><pre>GridSearchCV(estimator=Pipeline(steps=[(&#x27;trf&#x27;,\n",
              "                                        ColumnTransformer(remainder=&#x27;passthrough&#x27;,\n",
              "                                                          transformers=[(&#x27;ohe&#x27;,\n",
              "                                                                         OneHotEncoder(handle_unknown=&#x27;ignore&#x27;,\n",
              "                                                                                       sparse=False),\n",
              "                                                                         [&#x27;Investment &#x27;\n",
              "                                                                          &#x27;Name&#x27;])])),\n",
              "                                       (&#x27;model&#x27;,\n",
              "                                        LGBMRegressor(random_state=0))]),\n",
              "             n_jobs=-1,\n",
              "             param_grid={&#x27;model__boosting_type&#x27;: [&#x27;dart&#x27;, &#x27;gbdt&#x27;, &#x27;goss&#x27;],\n",
              "                         &#x27;model__n_estimators&#x27;: [100, 130, 150, 170, 190]},\n",
              "             scoring=&#x27;neg_root_mean_squared_error&#x27;)</pre><b>In a Jupyter environment, please rerun this cell to show the HTML representation or trust the notebook. <br />On GitHub, the HTML representation is unable to render, please try loading this page with nbviewer.org.</b></div><div class=\"sk-container\" hidden><div class=\"sk-item sk-dashed-wrapped\"><div class=\"sk-label-container\"><div class=\"sk-label sk-toggleable\"><input class=\"sk-toggleable__control sk-hidden--visually\" id=\"sk-estimator-id-16\" type=\"checkbox\" ><label for=\"sk-estimator-id-16\" class=\"sk-toggleable__label sk-toggleable__label-arrow\">GridSearchCV</label><div class=\"sk-toggleable__content\"><pre>GridSearchCV(estimator=Pipeline(steps=[(&#x27;trf&#x27;,\n",
              "                                        ColumnTransformer(remainder=&#x27;passthrough&#x27;,\n",
              "                                                          transformers=[(&#x27;ohe&#x27;,\n",
              "                                                                         OneHotEncoder(handle_unknown=&#x27;ignore&#x27;,\n",
              "                                                                                       sparse=False),\n",
              "                                                                         [&#x27;Investment &#x27;\n",
              "                                                                          &#x27;Name&#x27;])])),\n",
              "                                       (&#x27;model&#x27;,\n",
              "                                        LGBMRegressor(random_state=0))]),\n",
              "             n_jobs=-1,\n",
              "             param_grid={&#x27;model__boosting_type&#x27;: [&#x27;dart&#x27;, &#x27;gbdt&#x27;, &#x27;goss&#x27;],\n",
              "                         &#x27;model__n_estimators&#x27;: [100, 130, 150, 170, 190]},\n",
              "             scoring=&#x27;neg_root_mean_squared_error&#x27;)</pre></div></div></div><div class=\"sk-parallel\"><div class=\"sk-parallel-item\"><div class=\"sk-item\"><div class=\"sk-label-container\"><div class=\"sk-label sk-toggleable\"><input class=\"sk-toggleable__control sk-hidden--visually\" id=\"sk-estimator-id-17\" type=\"checkbox\" ><label for=\"sk-estimator-id-17\" class=\"sk-toggleable__label sk-toggleable__label-arrow\">estimator: Pipeline</label><div class=\"sk-toggleable__content\"><pre>Pipeline(steps=[(&#x27;trf&#x27;,\n",
              "                 ColumnTransformer(remainder=&#x27;passthrough&#x27;,\n",
              "                                   transformers=[(&#x27;ohe&#x27;,\n",
              "                                                  OneHotEncoder(handle_unknown=&#x27;ignore&#x27;,\n",
              "                                                                sparse=False),\n",
              "                                                  [&#x27;Investment Name&#x27;])])),\n",
              "                (&#x27;model&#x27;, LGBMRegressor(random_state=0))])</pre></div></div></div><div class=\"sk-serial\"><div class=\"sk-item\"><div class=\"sk-serial\"><div class=\"sk-item sk-dashed-wrapped\"><div class=\"sk-label-container\"><div class=\"sk-label sk-toggleable\"><input class=\"sk-toggleable__control sk-hidden--visually\" id=\"sk-estimator-id-18\" type=\"checkbox\" ><label for=\"sk-estimator-id-18\" class=\"sk-toggleable__label sk-toggleable__label-arrow\">trf: ColumnTransformer</label><div class=\"sk-toggleable__content\"><pre>ColumnTransformer(remainder=&#x27;passthrough&#x27;,\n",
              "                  transformers=[(&#x27;ohe&#x27;,\n",
              "                                 OneHotEncoder(handle_unknown=&#x27;ignore&#x27;,\n",
              "                                               sparse=False),\n",
              "                                 [&#x27;Investment Name&#x27;])])</pre></div></div></div><div class=\"sk-parallel\"><div class=\"sk-parallel-item\"><div class=\"sk-item\"><div class=\"sk-label-container\"><div class=\"sk-label sk-toggleable\"><input class=\"sk-toggleable__control sk-hidden--visually\" id=\"sk-estimator-id-19\" type=\"checkbox\" ><label for=\"sk-estimator-id-19\" class=\"sk-toggleable__label sk-toggleable__label-arrow\">ohe</label><div class=\"sk-toggleable__content\"><pre>[&#x27;Investment Name&#x27;]</pre></div></div></div><div class=\"sk-serial\"><div class=\"sk-item\"><div class=\"sk-estimator sk-toggleable\"><input class=\"sk-toggleable__control sk-hidden--visually\" id=\"sk-estimator-id-20\" type=\"checkbox\" ><label for=\"sk-estimator-id-20\" class=\"sk-toggleable__label sk-toggleable__label-arrow\">OneHotEncoder</label><div class=\"sk-toggleable__content\"><pre>OneHotEncoder(handle_unknown=&#x27;ignore&#x27;, sparse=False)</pre></div></div></div></div></div></div><div class=\"sk-parallel-item\"><div class=\"sk-item\"><div class=\"sk-label-container\"><div class=\"sk-label sk-toggleable\"><input class=\"sk-toggleable__control sk-hidden--visually\" id=\"sk-estimator-id-21\" type=\"checkbox\" ><label for=\"sk-estimator-id-21\" class=\"sk-toggleable__label sk-toggleable__label-arrow\">remainder</label><div class=\"sk-toggleable__content\"><pre>[&#x27;Investment&#x27;, &#x27;Time&#x27;, &#x27;Skill&#x27;, &#x27;Impact&#x27;]</pre></div></div></div><div class=\"sk-serial\"><div class=\"sk-item\"><div class=\"sk-estimator sk-toggleable\"><input class=\"sk-toggleable__control sk-hidden--visually\" id=\"sk-estimator-id-22\" type=\"checkbox\" ><label for=\"sk-estimator-id-22\" class=\"sk-toggleable__label sk-toggleable__label-arrow\">passthrough</label><div class=\"sk-toggleable__content\"><pre>passthrough</pre></div></div></div></div></div></div></div></div><div class=\"sk-item\"><div class=\"sk-estimator sk-toggleable\"><input class=\"sk-toggleable__control sk-hidden--visually\" id=\"sk-estimator-id-23\" type=\"checkbox\" ><label for=\"sk-estimator-id-23\" class=\"sk-toggleable__label sk-toggleable__label-arrow\">LGBMRegressor</label><div class=\"sk-toggleable__content\"><pre>LGBMRegressor(random_state=0)</pre></div></div></div></div></div></div></div></div></div></div></div></div>"
            ]
          },
          "metadata": {},
          "execution_count": 35
        }
      ]
    },
    {
      "cell_type": "markdown",
      "source": [
        "###Grid Search"
      ],
      "metadata": {
        "id": "2nYgtrEU_QBw"
      }
    },
    {
      "cell_type": "markdown",
      "source": [
        "Here are the results of the grid search algorithm so we can compare all three machine learning algorithms provided by gradient boosting. What we really are looking for to determine which model worked best is the mean test score that was closest to 0 then it just came down to which model had the fastest mean_fit_time."
      ],
      "metadata": {
        "id": "Ce6Vz8BTrGQy"
      }
    },
    {
      "cell_type": "code",
      "source": [
        "pd.DataFrame(gs.cv_results_).sort_values(by='rank_test_score')"
      ],
      "metadata": {
        "colab": {
          "base_uri": "https://localhost:8080/",
          "height": 844
        },
        "id": "FymlNnzmbc-1",
        "outputId": "5be39b92-feb6-481c-807e-ae04c1f01db9"
      },
      "execution_count": 36,
      "outputs": [
        {
          "output_type": "execute_result",
          "data": {
            "text/plain": [
              "    mean_fit_time  std_fit_time  mean_score_time  std_score_time  \\\n",
              "10       0.014585      0.000443         0.004604        0.000163   \n",
              "11       0.014408      0.002458         0.004832        0.000407   \n",
              "12       0.015201      0.003159         0.005176        0.000618   \n",
              "13       0.019170      0.006990         0.006276        0.001416   \n",
              "14       0.016631      0.003994         0.004550        0.000721   \n",
              "5        0.022165      0.008150         0.004591        0.000305   \n",
              "4        0.034582      0.004006         0.005730        0.001346   \n",
              "6        0.022437      0.002724         0.004831        0.000106   \n",
              "7        0.021553      0.000677         0.005430        0.000593   \n",
              "8        0.025761      0.005295         0.005284        0.000564   \n",
              "2        0.028399      0.001202         0.005144        0.000062   \n",
              "9        0.026966      0.001022         0.005248        0.000377   \n",
              "3        0.032986      0.002059         0.005126        0.000118   \n",
              "1        0.025743      0.000972         0.005523        0.000718   \n",
              "0        0.032694      0.012265         0.005392        0.000311   \n",
              "\n",
              "   param_model__boosting_type param_model__n_estimators  \\\n",
              "10                       goss                       100   \n",
              "11                       goss                       130   \n",
              "12                       goss                       150   \n",
              "13                       goss                       170   \n",
              "14                       goss                       190   \n",
              "5                        gbdt                       100   \n",
              "4                        dart                       190   \n",
              "6                        gbdt                       130   \n",
              "7                        gbdt                       150   \n",
              "8                        gbdt                       170   \n",
              "2                        dart                       150   \n",
              "9                        gbdt                       190   \n",
              "3                        dart                       170   \n",
              "1                        dart                       130   \n",
              "0                        dart                       100   \n",
              "\n",
              "                                               params  split0_test_score  \\\n",
              "10  {'model__boosting_type': 'goss', 'model__n_est...         -13.068328   \n",
              "11  {'model__boosting_type': 'goss', 'model__n_est...         -13.068328   \n",
              "12  {'model__boosting_type': 'goss', 'model__n_est...         -13.068328   \n",
              "13  {'model__boosting_type': 'goss', 'model__n_est...         -13.068328   \n",
              "14  {'model__boosting_type': 'goss', 'model__n_est...         -13.068328   \n",
              "5   {'model__boosting_type': 'gbdt', 'model__n_est...         -14.542610   \n",
              "4   {'model__boosting_type': 'dart', 'model__n_est...         -14.538462   \n",
              "6   {'model__boosting_type': 'gbdt', 'model__n_est...         -14.981748   \n",
              "7   {'model__boosting_type': 'gbdt', 'model__n_est...         -15.243332   \n",
              "8   {'model__boosting_type': 'gbdt', 'model__n_est...         -15.471337   \n",
              "2   {'model__boosting_type': 'dart', 'model__n_est...         -14.836728   \n",
              "9   {'model__boosting_type': 'gbdt', 'model__n_est...         -15.680951   \n",
              "3   {'model__boosting_type': 'dart', 'model__n_est...         -15.394337   \n",
              "1   {'model__boosting_type': 'dart', 'model__n_est...         -15.394387   \n",
              "0   {'model__boosting_type': 'dart', 'model__n_est...         -16.691284   \n",
              "\n",
              "    split1_test_score  split2_test_score  split3_test_score  \\\n",
              "10         -18.825505         -17.060896         -19.538983   \n",
              "11         -18.825505         -17.060896         -19.538983   \n",
              "12         -18.825505         -17.060896         -19.538983   \n",
              "13         -18.825505         -17.060896         -19.538983   \n",
              "14         -18.825505         -17.060896         -19.538983   \n",
              "5          -20.272219         -17.402771         -18.798100   \n",
              "4          -19.479327         -18.262659         -18.981625   \n",
              "6          -20.322212         -17.474634         -18.722705   \n",
              "7          -20.340535         -17.521777         -18.677814   \n",
              "8          -20.362157         -17.551274         -18.641471   \n",
              "2          -19.344637         -18.748300         -19.144304   \n",
              "9          -20.381171         -17.579807         -18.611270   \n",
              "3          -19.474072         -19.262917         -19.259372   \n",
              "1          -19.370469         -19.393868         -19.387299   \n",
              "0          -19.644923         -20.716120         -20.027658   \n",
              "\n",
              "    split4_test_score  mean_test_score  std_test_score  rank_test_score  \n",
              "10         -14.823776       -16.663498        2.425301                1  \n",
              "11         -14.823776       -16.663498        2.425301                1  \n",
              "12         -14.823776       -16.663498        2.425301                1  \n",
              "13         -14.823776       -16.663498        2.425301                1  \n",
              "14         -14.823776       -16.663498        2.425301                1  \n",
              "5          -15.169429       -17.237026        2.154607                6  \n",
              "4          -15.295704       -17.311555        2.007320                7  \n",
              "6          -15.310228       -17.362305        2.024965                8  \n",
              "7          -15.386258       -17.433943        1.949102                9  \n",
              "8          -15.435287       -17.492305        1.890806               10  \n",
              "2          -15.534311       -17.521656        1.929730               11  \n",
              "9          -15.483879       -17.547416        1.838743               12  \n",
              "3          -15.864476       -17.851035        1.821695               13  \n",
              "1          -15.909790       -17.891163        1.835463               14  \n",
              "0          -16.882075       -18.792412        1.674359               15  "
            ],
            "text/html": [
              "\n",
              "  <div id=\"df-254c1b3d-59c7-4217-b6ea-512c6922a48b\">\n",
              "    <div class=\"colab-df-container\">\n",
              "      <div>\n",
              "<style scoped>\n",
              "    .dataframe tbody tr th:only-of-type {\n",
              "        vertical-align: middle;\n",
              "    }\n",
              "\n",
              "    .dataframe tbody tr th {\n",
              "        vertical-align: top;\n",
              "    }\n",
              "\n",
              "    .dataframe thead th {\n",
              "        text-align: right;\n",
              "    }\n",
              "</style>\n",
              "<table border=\"1\" class=\"dataframe\">\n",
              "  <thead>\n",
              "    <tr style=\"text-align: right;\">\n",
              "      <th></th>\n",
              "      <th>mean_fit_time</th>\n",
              "      <th>std_fit_time</th>\n",
              "      <th>mean_score_time</th>\n",
              "      <th>std_score_time</th>\n",
              "      <th>param_model__boosting_type</th>\n",
              "      <th>param_model__n_estimators</th>\n",
              "      <th>params</th>\n",
              "      <th>split0_test_score</th>\n",
              "      <th>split1_test_score</th>\n",
              "      <th>split2_test_score</th>\n",
              "      <th>split3_test_score</th>\n",
              "      <th>split4_test_score</th>\n",
              "      <th>mean_test_score</th>\n",
              "      <th>std_test_score</th>\n",
              "      <th>rank_test_score</th>\n",
              "    </tr>\n",
              "  </thead>\n",
              "  <tbody>\n",
              "    <tr>\n",
              "      <th>10</th>\n",
              "      <td>0.014585</td>\n",
              "      <td>0.000443</td>\n",
              "      <td>0.004604</td>\n",
              "      <td>0.000163</td>\n",
              "      <td>goss</td>\n",
              "      <td>100</td>\n",
              "      <td>{'model__boosting_type': 'goss', 'model__n_est...</td>\n",
              "      <td>-13.068328</td>\n",
              "      <td>-18.825505</td>\n",
              "      <td>-17.060896</td>\n",
              "      <td>-19.538983</td>\n",
              "      <td>-14.823776</td>\n",
              "      <td>-16.663498</td>\n",
              "      <td>2.425301</td>\n",
              "      <td>1</td>\n",
              "    </tr>\n",
              "    <tr>\n",
              "      <th>11</th>\n",
              "      <td>0.014408</td>\n",
              "      <td>0.002458</td>\n",
              "      <td>0.004832</td>\n",
              "      <td>0.000407</td>\n",
              "      <td>goss</td>\n",
              "      <td>130</td>\n",
              "      <td>{'model__boosting_type': 'goss', 'model__n_est...</td>\n",
              "      <td>-13.068328</td>\n",
              "      <td>-18.825505</td>\n",
              "      <td>-17.060896</td>\n",
              "      <td>-19.538983</td>\n",
              "      <td>-14.823776</td>\n",
              "      <td>-16.663498</td>\n",
              "      <td>2.425301</td>\n",
              "      <td>1</td>\n",
              "    </tr>\n",
              "    <tr>\n",
              "      <th>12</th>\n",
              "      <td>0.015201</td>\n",
              "      <td>0.003159</td>\n",
              "      <td>0.005176</td>\n",
              "      <td>0.000618</td>\n",
              "      <td>goss</td>\n",
              "      <td>150</td>\n",
              "      <td>{'model__boosting_type': 'goss', 'model__n_est...</td>\n",
              "      <td>-13.068328</td>\n",
              "      <td>-18.825505</td>\n",
              "      <td>-17.060896</td>\n",
              "      <td>-19.538983</td>\n",
              "      <td>-14.823776</td>\n",
              "      <td>-16.663498</td>\n",
              "      <td>2.425301</td>\n",
              "      <td>1</td>\n",
              "    </tr>\n",
              "    <tr>\n",
              "      <th>13</th>\n",
              "      <td>0.019170</td>\n",
              "      <td>0.006990</td>\n",
              "      <td>0.006276</td>\n",
              "      <td>0.001416</td>\n",
              "      <td>goss</td>\n",
              "      <td>170</td>\n",
              "      <td>{'model__boosting_type': 'goss', 'model__n_est...</td>\n",
              "      <td>-13.068328</td>\n",
              "      <td>-18.825505</td>\n",
              "      <td>-17.060896</td>\n",
              "      <td>-19.538983</td>\n",
              "      <td>-14.823776</td>\n",
              "      <td>-16.663498</td>\n",
              "      <td>2.425301</td>\n",
              "      <td>1</td>\n",
              "    </tr>\n",
              "    <tr>\n",
              "      <th>14</th>\n",
              "      <td>0.016631</td>\n",
              "      <td>0.003994</td>\n",
              "      <td>0.004550</td>\n",
              "      <td>0.000721</td>\n",
              "      <td>goss</td>\n",
              "      <td>190</td>\n",
              "      <td>{'model__boosting_type': 'goss', 'model__n_est...</td>\n",
              "      <td>-13.068328</td>\n",
              "      <td>-18.825505</td>\n",
              "      <td>-17.060896</td>\n",
              "      <td>-19.538983</td>\n",
              "      <td>-14.823776</td>\n",
              "      <td>-16.663498</td>\n",
              "      <td>2.425301</td>\n",
              "      <td>1</td>\n",
              "    </tr>\n",
              "    <tr>\n",
              "      <th>5</th>\n",
              "      <td>0.022165</td>\n",
              "      <td>0.008150</td>\n",
              "      <td>0.004591</td>\n",
              "      <td>0.000305</td>\n",
              "      <td>gbdt</td>\n",
              "      <td>100</td>\n",
              "      <td>{'model__boosting_type': 'gbdt', 'model__n_est...</td>\n",
              "      <td>-14.542610</td>\n",
              "      <td>-20.272219</td>\n",
              "      <td>-17.402771</td>\n",
              "      <td>-18.798100</td>\n",
              "      <td>-15.169429</td>\n",
              "      <td>-17.237026</td>\n",
              "      <td>2.154607</td>\n",
              "      <td>6</td>\n",
              "    </tr>\n",
              "    <tr>\n",
              "      <th>4</th>\n",
              "      <td>0.034582</td>\n",
              "      <td>0.004006</td>\n",
              "      <td>0.005730</td>\n",
              "      <td>0.001346</td>\n",
              "      <td>dart</td>\n",
              "      <td>190</td>\n",
              "      <td>{'model__boosting_type': 'dart', 'model__n_est...</td>\n",
              "      <td>-14.538462</td>\n",
              "      <td>-19.479327</td>\n",
              "      <td>-18.262659</td>\n",
              "      <td>-18.981625</td>\n",
              "      <td>-15.295704</td>\n",
              "      <td>-17.311555</td>\n",
              "      <td>2.007320</td>\n",
              "      <td>7</td>\n",
              "    </tr>\n",
              "    <tr>\n",
              "      <th>6</th>\n",
              "      <td>0.022437</td>\n",
              "      <td>0.002724</td>\n",
              "      <td>0.004831</td>\n",
              "      <td>0.000106</td>\n",
              "      <td>gbdt</td>\n",
              "      <td>130</td>\n",
              "      <td>{'model__boosting_type': 'gbdt', 'model__n_est...</td>\n",
              "      <td>-14.981748</td>\n",
              "      <td>-20.322212</td>\n",
              "      <td>-17.474634</td>\n",
              "      <td>-18.722705</td>\n",
              "      <td>-15.310228</td>\n",
              "      <td>-17.362305</td>\n",
              "      <td>2.024965</td>\n",
              "      <td>8</td>\n",
              "    </tr>\n",
              "    <tr>\n",
              "      <th>7</th>\n",
              "      <td>0.021553</td>\n",
              "      <td>0.000677</td>\n",
              "      <td>0.005430</td>\n",
              "      <td>0.000593</td>\n",
              "      <td>gbdt</td>\n",
              "      <td>150</td>\n",
              "      <td>{'model__boosting_type': 'gbdt', 'model__n_est...</td>\n",
              "      <td>-15.243332</td>\n",
              "      <td>-20.340535</td>\n",
              "      <td>-17.521777</td>\n",
              "      <td>-18.677814</td>\n",
              "      <td>-15.386258</td>\n",
              "      <td>-17.433943</td>\n",
              "      <td>1.949102</td>\n",
              "      <td>9</td>\n",
              "    </tr>\n",
              "    <tr>\n",
              "      <th>8</th>\n",
              "      <td>0.025761</td>\n",
              "      <td>0.005295</td>\n",
              "      <td>0.005284</td>\n",
              "      <td>0.000564</td>\n",
              "      <td>gbdt</td>\n",
              "      <td>170</td>\n",
              "      <td>{'model__boosting_type': 'gbdt', 'model__n_est...</td>\n",
              "      <td>-15.471337</td>\n",
              "      <td>-20.362157</td>\n",
              "      <td>-17.551274</td>\n",
              "      <td>-18.641471</td>\n",
              "      <td>-15.435287</td>\n",
              "      <td>-17.492305</td>\n",
              "      <td>1.890806</td>\n",
              "      <td>10</td>\n",
              "    </tr>\n",
              "    <tr>\n",
              "      <th>2</th>\n",
              "      <td>0.028399</td>\n",
              "      <td>0.001202</td>\n",
              "      <td>0.005144</td>\n",
              "      <td>0.000062</td>\n",
              "      <td>dart</td>\n",
              "      <td>150</td>\n",
              "      <td>{'model__boosting_type': 'dart', 'model__n_est...</td>\n",
              "      <td>-14.836728</td>\n",
              "      <td>-19.344637</td>\n",
              "      <td>-18.748300</td>\n",
              "      <td>-19.144304</td>\n",
              "      <td>-15.534311</td>\n",
              "      <td>-17.521656</td>\n",
              "      <td>1.929730</td>\n",
              "      <td>11</td>\n",
              "    </tr>\n",
              "    <tr>\n",
              "      <th>9</th>\n",
              "      <td>0.026966</td>\n",
              "      <td>0.001022</td>\n",
              "      <td>0.005248</td>\n",
              "      <td>0.000377</td>\n",
              "      <td>gbdt</td>\n",
              "      <td>190</td>\n",
              "      <td>{'model__boosting_type': 'gbdt', 'model__n_est...</td>\n",
              "      <td>-15.680951</td>\n",
              "      <td>-20.381171</td>\n",
              "      <td>-17.579807</td>\n",
              "      <td>-18.611270</td>\n",
              "      <td>-15.483879</td>\n",
              "      <td>-17.547416</td>\n",
              "      <td>1.838743</td>\n",
              "      <td>12</td>\n",
              "    </tr>\n",
              "    <tr>\n",
              "      <th>3</th>\n",
              "      <td>0.032986</td>\n",
              "      <td>0.002059</td>\n",
              "      <td>0.005126</td>\n",
              "      <td>0.000118</td>\n",
              "      <td>dart</td>\n",
              "      <td>170</td>\n",
              "      <td>{'model__boosting_type': 'dart', 'model__n_est...</td>\n",
              "      <td>-15.394337</td>\n",
              "      <td>-19.474072</td>\n",
              "      <td>-19.262917</td>\n",
              "      <td>-19.259372</td>\n",
              "      <td>-15.864476</td>\n",
              "      <td>-17.851035</td>\n",
              "      <td>1.821695</td>\n",
              "      <td>13</td>\n",
              "    </tr>\n",
              "    <tr>\n",
              "      <th>1</th>\n",
              "      <td>0.025743</td>\n",
              "      <td>0.000972</td>\n",
              "      <td>0.005523</td>\n",
              "      <td>0.000718</td>\n",
              "      <td>dart</td>\n",
              "      <td>130</td>\n",
              "      <td>{'model__boosting_type': 'dart', 'model__n_est...</td>\n",
              "      <td>-15.394387</td>\n",
              "      <td>-19.370469</td>\n",
              "      <td>-19.393868</td>\n",
              "      <td>-19.387299</td>\n",
              "      <td>-15.909790</td>\n",
              "      <td>-17.891163</td>\n",
              "      <td>1.835463</td>\n",
              "      <td>14</td>\n",
              "    </tr>\n",
              "    <tr>\n",
              "      <th>0</th>\n",
              "      <td>0.032694</td>\n",
              "      <td>0.012265</td>\n",
              "      <td>0.005392</td>\n",
              "      <td>0.000311</td>\n",
              "      <td>dart</td>\n",
              "      <td>100</td>\n",
              "      <td>{'model__boosting_type': 'dart', 'model__n_est...</td>\n",
              "      <td>-16.691284</td>\n",
              "      <td>-19.644923</td>\n",
              "      <td>-20.716120</td>\n",
              "      <td>-20.027658</td>\n",
              "      <td>-16.882075</td>\n",
              "      <td>-18.792412</td>\n",
              "      <td>1.674359</td>\n",
              "      <td>15</td>\n",
              "    </tr>\n",
              "  </tbody>\n",
              "</table>\n",
              "</div>\n",
              "      <button class=\"colab-df-convert\" onclick=\"convertToInteractive('df-254c1b3d-59c7-4217-b6ea-512c6922a48b')\"\n",
              "              title=\"Convert this dataframe to an interactive table.\"\n",
              "              style=\"display:none;\">\n",
              "        \n",
              "  <svg xmlns=\"http://www.w3.org/2000/svg\" height=\"24px\"viewBox=\"0 0 24 24\"\n",
              "       width=\"24px\">\n",
              "    <path d=\"M0 0h24v24H0V0z\" fill=\"none\"/>\n",
              "    <path d=\"M18.56 5.44l.94 2.06.94-2.06 2.06-.94-2.06-.94-.94-2.06-.94 2.06-2.06.94zm-11 1L8.5 8.5l.94-2.06 2.06-.94-2.06-.94L8.5 2.5l-.94 2.06-2.06.94zm10 10l.94 2.06.94-2.06 2.06-.94-2.06-.94-.94-2.06-.94 2.06-2.06.94z\"/><path d=\"M17.41 7.96l-1.37-1.37c-.4-.4-.92-.59-1.43-.59-.52 0-1.04.2-1.43.59L10.3 9.45l-7.72 7.72c-.78.78-.78 2.05 0 2.83L4 21.41c.39.39.9.59 1.41.59.51 0 1.02-.2 1.41-.59l7.78-7.78 2.81-2.81c.8-.78.8-2.07 0-2.86zM5.41 20L4 18.59l7.72-7.72 1.47 1.35L5.41 20z\"/>\n",
              "  </svg>\n",
              "      </button>\n",
              "      \n",
              "  <style>\n",
              "    .colab-df-container {\n",
              "      display:flex;\n",
              "      flex-wrap:wrap;\n",
              "      gap: 12px;\n",
              "    }\n",
              "\n",
              "    .colab-df-convert {\n",
              "      background-color: #E8F0FE;\n",
              "      border: none;\n",
              "      border-radius: 50%;\n",
              "      cursor: pointer;\n",
              "      display: none;\n",
              "      fill: #1967D2;\n",
              "      height: 32px;\n",
              "      padding: 0 0 0 0;\n",
              "      width: 32px;\n",
              "    }\n",
              "\n",
              "    .colab-df-convert:hover {\n",
              "      background-color: #E2EBFA;\n",
              "      box-shadow: 0px 1px 2px rgba(60, 64, 67, 0.3), 0px 1px 3px 1px rgba(60, 64, 67, 0.15);\n",
              "      fill: #174EA6;\n",
              "    }\n",
              "\n",
              "    [theme=dark] .colab-df-convert {\n",
              "      background-color: #3B4455;\n",
              "      fill: #D2E3FC;\n",
              "    }\n",
              "\n",
              "    [theme=dark] .colab-df-convert:hover {\n",
              "      background-color: #434B5C;\n",
              "      box-shadow: 0px 1px 3px 1px rgba(0, 0, 0, 0.15);\n",
              "      filter: drop-shadow(0px 1px 2px rgba(0, 0, 0, 0.3));\n",
              "      fill: #FFFFFF;\n",
              "    }\n",
              "  </style>\n",
              "\n",
              "      <script>\n",
              "        const buttonEl =\n",
              "          document.querySelector('#df-254c1b3d-59c7-4217-b6ea-512c6922a48b button.colab-df-convert');\n",
              "        buttonEl.style.display =\n",
              "          google.colab.kernel.accessAllowed ? 'block' : 'none';\n",
              "\n",
              "        async function convertToInteractive(key) {\n",
              "          const element = document.querySelector('#df-254c1b3d-59c7-4217-b6ea-512c6922a48b');\n",
              "          const dataTable =\n",
              "            await google.colab.kernel.invokeFunction('convertToInteractive',\n",
              "                                                     [key], {});\n",
              "          if (!dataTable) return;\n",
              "\n",
              "          const docLinkHtml = 'Like what you see? Visit the ' +\n",
              "            '<a target=\"_blank\" href=https://colab.research.google.com/notebooks/data_table.ipynb>data table notebook</a>'\n",
              "            + ' to learn more about interactive tables.';\n",
              "          element.innerHTML = '';\n",
              "          dataTable['output_type'] = 'display_data';\n",
              "          await google.colab.output.renderOutput(dataTable, element);\n",
              "          const docLink = document.createElement('div');\n",
              "          docLink.innerHTML = docLinkHtml;\n",
              "          element.appendChild(docLink);\n",
              "        }\n",
              "      </script>\n",
              "    </div>\n",
              "  </div>\n",
              "  "
            ]
          },
          "metadata": {},
          "execution_count": 36
        }
      ]
    },
    {
      "cell_type": "markdown",
      "source": [
        "Here we output which model type was the best and the number of estimators used with that model."
      ],
      "metadata": {
        "id": "aFihcU6IrHrl"
      }
    },
    {
      "cell_type": "code",
      "source": [
        "gs.best_params_"
      ],
      "metadata": {
        "colab": {
          "base_uri": "https://localhost:8080/"
        },
        "id": "A6e4tFwAbh4Y",
        "outputId": "165c18ec-7bea-48af-ad8c-39d9ac19ef53"
      },
      "execution_count": 37,
      "outputs": [
        {
          "output_type": "execute_result",
          "data": {
            "text/plain": [
              "{'model__boosting_type': 'goss', 'model__n_estimators': 100}"
            ]
          },
          "metadata": {},
          "execution_count": 37
        }
      ]
    },
    {
      "cell_type": "markdown",
      "source": [
        "Here we find what was the true best score out of all the models."
      ],
      "metadata": {
        "id": "AAPacwg4rIYa"
      }
    },
    {
      "cell_type": "code",
      "source": [
        "gs.best_score_"
      ],
      "metadata": {
        "colab": {
          "base_uri": "https://localhost:8080/"
        },
        "id": "PL9EuPL7bkNj",
        "outputId": "5338420e-cba2-4f39-dece-5d41a98a530d"
      },
      "execution_count": 38,
      "outputs": [
        {
          "output_type": "execute_result",
          "data": {
            "text/plain": [
              "-16.663497768870034"
            ]
          },
          "metadata": {},
          "execution_count": 38
        }
      ]
    },
    {
      "cell_type": "markdown",
      "source": [
        "Here is another look at how our pipeline is using one hot encoder with column transformer in order to properly run the LGBM regressor."
      ],
      "metadata": {
        "id": "PU6HDpkMrI0h"
      }
    },
    {
      "cell_type": "code",
      "source": [
        "gs.best_estimator_"
      ],
      "metadata": {
        "colab": {
          "base_uri": "https://localhost:8080/",
          "height": 194
        },
        "id": "TPYUl1D2brQd",
        "outputId": "29002a23-e666-4e4b-f576-616b6012ee43"
      },
      "execution_count": 39,
      "outputs": [
        {
          "output_type": "execute_result",
          "data": {
            "text/plain": [
              "Pipeline(steps=[('trf',\n",
              "                 ColumnTransformer(remainder='passthrough',\n",
              "                                   transformers=[('ohe',\n",
              "                                                  OneHotEncoder(handle_unknown='ignore',\n",
              "                                                                sparse=False),\n",
              "                                                  ['Investment Name'])])),\n",
              "                ('model', LGBMRegressor(boosting_type='goss', random_state=0))])"
            ],
            "text/html": [
              "<style>#sk-container-id-4 {color: black;background-color: white;}#sk-container-id-4 pre{padding: 0;}#sk-container-id-4 div.sk-toggleable {background-color: white;}#sk-container-id-4 label.sk-toggleable__label {cursor: pointer;display: block;width: 100%;margin-bottom: 0;padding: 0.3em;box-sizing: border-box;text-align: center;}#sk-container-id-4 label.sk-toggleable__label-arrow:before {content: \"▸\";float: left;margin-right: 0.25em;color: #696969;}#sk-container-id-4 label.sk-toggleable__label-arrow:hover:before {color: black;}#sk-container-id-4 div.sk-estimator:hover label.sk-toggleable__label-arrow:before {color: black;}#sk-container-id-4 div.sk-toggleable__content {max-height: 0;max-width: 0;overflow: hidden;text-align: left;background-color: #f0f8ff;}#sk-container-id-4 div.sk-toggleable__content pre {margin: 0.2em;color: black;border-radius: 0.25em;background-color: #f0f8ff;}#sk-container-id-4 input.sk-toggleable__control:checked~div.sk-toggleable__content {max-height: 200px;max-width: 100%;overflow: auto;}#sk-container-id-4 input.sk-toggleable__control:checked~label.sk-toggleable__label-arrow:before {content: \"▾\";}#sk-container-id-4 div.sk-estimator input.sk-toggleable__control:checked~label.sk-toggleable__label {background-color: #d4ebff;}#sk-container-id-4 div.sk-label input.sk-toggleable__control:checked~label.sk-toggleable__label {background-color: #d4ebff;}#sk-container-id-4 input.sk-hidden--visually {border: 0;clip: rect(1px 1px 1px 1px);clip: rect(1px, 1px, 1px, 1px);height: 1px;margin: -1px;overflow: hidden;padding: 0;position: absolute;width: 1px;}#sk-container-id-4 div.sk-estimator {font-family: monospace;background-color: #f0f8ff;border: 1px dotted black;border-radius: 0.25em;box-sizing: border-box;margin-bottom: 0.5em;}#sk-container-id-4 div.sk-estimator:hover {background-color: #d4ebff;}#sk-container-id-4 div.sk-parallel-item::after {content: \"\";width: 100%;border-bottom: 1px solid gray;flex-grow: 1;}#sk-container-id-4 div.sk-label:hover label.sk-toggleable__label {background-color: #d4ebff;}#sk-container-id-4 div.sk-serial::before {content: \"\";position: absolute;border-left: 1px solid gray;box-sizing: border-box;top: 0;bottom: 0;left: 50%;z-index: 0;}#sk-container-id-4 div.sk-serial {display: flex;flex-direction: column;align-items: center;background-color: white;padding-right: 0.2em;padding-left: 0.2em;position: relative;}#sk-container-id-4 div.sk-item {position: relative;z-index: 1;}#sk-container-id-4 div.sk-parallel {display: flex;align-items: stretch;justify-content: center;background-color: white;position: relative;}#sk-container-id-4 div.sk-item::before, #sk-container-id-4 div.sk-parallel-item::before {content: \"\";position: absolute;border-left: 1px solid gray;box-sizing: border-box;top: 0;bottom: 0;left: 50%;z-index: -1;}#sk-container-id-4 div.sk-parallel-item {display: flex;flex-direction: column;z-index: 1;position: relative;background-color: white;}#sk-container-id-4 div.sk-parallel-item:first-child::after {align-self: flex-end;width: 50%;}#sk-container-id-4 div.sk-parallel-item:last-child::after {align-self: flex-start;width: 50%;}#sk-container-id-4 div.sk-parallel-item:only-child::after {width: 0;}#sk-container-id-4 div.sk-dashed-wrapped {border: 1px dashed gray;margin: 0 0.4em 0.5em 0.4em;box-sizing: border-box;padding-bottom: 0.4em;background-color: white;}#sk-container-id-4 div.sk-label label {font-family: monospace;font-weight: bold;display: inline-block;line-height: 1.2em;}#sk-container-id-4 div.sk-label-container {text-align: center;}#sk-container-id-4 div.sk-container {/* jupyter's `normalize.less` sets `[hidden] { display: none; }` but bootstrap.min.css set `[hidden] { display: none !important; }` so we also need the `!important` here to be able to override the default hidden behavior on the sphinx rendered scikit-learn.org. See: https://github.com/scikit-learn/scikit-learn/issues/21755 */display: inline-block !important;position: relative;}#sk-container-id-4 div.sk-text-repr-fallback {display: none;}</style><div id=\"sk-container-id-4\" class=\"sk-top-container\"><div class=\"sk-text-repr-fallback\"><pre>Pipeline(steps=[(&#x27;trf&#x27;,\n",
              "                 ColumnTransformer(remainder=&#x27;passthrough&#x27;,\n",
              "                                   transformers=[(&#x27;ohe&#x27;,\n",
              "                                                  OneHotEncoder(handle_unknown=&#x27;ignore&#x27;,\n",
              "                                                                sparse=False),\n",
              "                                                  [&#x27;Investment Name&#x27;])])),\n",
              "                (&#x27;model&#x27;, LGBMRegressor(boosting_type=&#x27;goss&#x27;, random_state=0))])</pre><b>In a Jupyter environment, please rerun this cell to show the HTML representation or trust the notebook. <br />On GitHub, the HTML representation is unable to render, please try loading this page with nbviewer.org.</b></div><div class=\"sk-container\" hidden><div class=\"sk-item sk-dashed-wrapped\"><div class=\"sk-label-container\"><div class=\"sk-label sk-toggleable\"><input class=\"sk-toggleable__control sk-hidden--visually\" id=\"sk-estimator-id-24\" type=\"checkbox\" ><label for=\"sk-estimator-id-24\" class=\"sk-toggleable__label sk-toggleable__label-arrow\">Pipeline</label><div class=\"sk-toggleable__content\"><pre>Pipeline(steps=[(&#x27;trf&#x27;,\n",
              "                 ColumnTransformer(remainder=&#x27;passthrough&#x27;,\n",
              "                                   transformers=[(&#x27;ohe&#x27;,\n",
              "                                                  OneHotEncoder(handle_unknown=&#x27;ignore&#x27;,\n",
              "                                                                sparse=False),\n",
              "                                                  [&#x27;Investment Name&#x27;])])),\n",
              "                (&#x27;model&#x27;, LGBMRegressor(boosting_type=&#x27;goss&#x27;, random_state=0))])</pre></div></div></div><div class=\"sk-serial\"><div class=\"sk-item sk-dashed-wrapped\"><div class=\"sk-label-container\"><div class=\"sk-label sk-toggleable\"><input class=\"sk-toggleable__control sk-hidden--visually\" id=\"sk-estimator-id-25\" type=\"checkbox\" ><label for=\"sk-estimator-id-25\" class=\"sk-toggleable__label sk-toggleable__label-arrow\">trf: ColumnTransformer</label><div class=\"sk-toggleable__content\"><pre>ColumnTransformer(remainder=&#x27;passthrough&#x27;,\n",
              "                  transformers=[(&#x27;ohe&#x27;,\n",
              "                                 OneHotEncoder(handle_unknown=&#x27;ignore&#x27;,\n",
              "                                               sparse=False),\n",
              "                                 [&#x27;Investment Name&#x27;])])</pre></div></div></div><div class=\"sk-parallel\"><div class=\"sk-parallel-item\"><div class=\"sk-item\"><div class=\"sk-label-container\"><div class=\"sk-label sk-toggleable\"><input class=\"sk-toggleable__control sk-hidden--visually\" id=\"sk-estimator-id-26\" type=\"checkbox\" ><label for=\"sk-estimator-id-26\" class=\"sk-toggleable__label sk-toggleable__label-arrow\">ohe</label><div class=\"sk-toggleable__content\"><pre>[&#x27;Investment Name&#x27;]</pre></div></div></div><div class=\"sk-serial\"><div class=\"sk-item\"><div class=\"sk-estimator sk-toggleable\"><input class=\"sk-toggleable__control sk-hidden--visually\" id=\"sk-estimator-id-27\" type=\"checkbox\" ><label for=\"sk-estimator-id-27\" class=\"sk-toggleable__label sk-toggleable__label-arrow\">OneHotEncoder</label><div class=\"sk-toggleable__content\"><pre>OneHotEncoder(handle_unknown=&#x27;ignore&#x27;, sparse=False)</pre></div></div></div></div></div></div><div class=\"sk-parallel-item\"><div class=\"sk-item\"><div class=\"sk-label-container\"><div class=\"sk-label sk-toggleable\"><input class=\"sk-toggleable__control sk-hidden--visually\" id=\"sk-estimator-id-28\" type=\"checkbox\" ><label for=\"sk-estimator-id-28\" class=\"sk-toggleable__label sk-toggleable__label-arrow\">remainder</label><div class=\"sk-toggleable__content\"><pre>[&#x27;Investment&#x27;, &#x27;Time&#x27;, &#x27;Skill&#x27;, &#x27;Impact&#x27;]</pre></div></div></div><div class=\"sk-serial\"><div class=\"sk-item\"><div class=\"sk-estimator sk-toggleable\"><input class=\"sk-toggleable__control sk-hidden--visually\" id=\"sk-estimator-id-29\" type=\"checkbox\" ><label for=\"sk-estimator-id-29\" class=\"sk-toggleable__label sk-toggleable__label-arrow\">passthrough</label><div class=\"sk-toggleable__content\"><pre>passthrough</pre></div></div></div></div></div></div></div></div><div class=\"sk-item\"><div class=\"sk-estimator sk-toggleable\"><input class=\"sk-toggleable__control sk-hidden--visually\" id=\"sk-estimator-id-30\" type=\"checkbox\" ><label for=\"sk-estimator-id-30\" class=\"sk-toggleable__label sk-toggleable__label-arrow\">LGBMRegressor</label><div class=\"sk-toggleable__content\"><pre>LGBMRegressor(boosting_type=&#x27;goss&#x27;, random_state=0)</pre></div></div></div></div></div></div></div>"
            ]
          },
          "metadata": {},
          "execution_count": 39
        }
      ]
    },
    {
      "cell_type": "markdown",
      "source": [
        "###Joblib"
      ],
      "metadata": {
        "id": "5wEjV3SL_cKX"
      }
    },
    {
      "cell_type": "markdown",
      "source": [
        "Finally we utilize joblib to load array files that were saved during the grid search. Joblib also enables us to use multiprocessing accross numerous machines so we can if we want use more computing resources to accelerate our model's training processes."
      ],
      "metadata": {
        "id": "eqQ9xuICrJRQ"
      }
    },
    {
      "cell_type": "code",
      "source": [
        "joblib.dump(gs.best_estimator_, 'model.joblib')"
      ],
      "metadata": {
        "colab": {
          "base_uri": "https://localhost:8080/"
        },
        "id": "vb90gOuhbtZo",
        "outputId": "0f22aca8-58df-432d-9e3b-5a8dc258f4e5"
      },
      "execution_count": 40,
      "outputs": [
        {
          "output_type": "execute_result",
          "data": {
            "text/plain": [
              "['model.joblib']"
            ]
          },
          "metadata": {},
          "execution_count": 40
        }
      ]
    },
    {
      "cell_type": "code",
      "source": [
        "mdl = joblib.load('model.joblib')"
      ],
      "metadata": {
        "id": "snD7nRg_bwDJ"
      },
      "execution_count": 41,
      "outputs": []
    },
    {
      "cell_type": "markdown",
      "source": [
        "##**Investment Prediction**"
      ],
      "metadata": {
        "id": "V8hApfhHfWwt"
      }
    },
    {
      "cell_type": "markdown",
      "source": [
        "###Dataset Information and Rules"
      ],
      "metadata": {
        "id": "5NMB88CHgE-0"
      }
    },
    {
      "cell_type": "markdown",
      "source": [
        "Bringing back the head of the CSV so we know the columns needed to set up our investment that we are trying to predict if it will be successful.\n",
        "\n",
        "Once again here is the key for the data set:\n",
        "\n",
        "1.   Investment Name: The name of where the investment came from.\n",
        "2.   Investment: Total dollars invested (USD)\n",
        "3.   Time: Short-term = 1, Long-term = 2\n",
        "4.   Skill: Low = 1, Medium = 2, High = 3\n",
        "5.   Impact: Low = 1, Medium = 2, High = 3\n",
        "6.   Successful: The percentage represented as an integer of the investment being successful.\n",
        "\n",
        "\n"
      ],
      "metadata": {
        "id": "cy9l70FiY5cK"
      }
    },
    {
      "cell_type": "code",
      "source": [
        "df.head(10)"
      ],
      "metadata": {
        "colab": {
          "base_uri": "https://localhost:8080/",
          "height": 363
        },
        "outputId": "5326971d-1a9e-46ad-cf8d-5c109ff752a6",
        "id": "dRR-EWweUnc6"
      },
      "execution_count": 42,
      "outputs": [
        {
          "output_type": "execute_result",
          "data": {
            "text/plain": [
              "    Investment Name  Investment  Time  Skill  Impact  Successful\n",
              "0           Stock A       10000     2      3       3          70\n",
              "1           Stock B       15000     1      2       3          60\n",
              "2     Mutual Fund C       20000     2      1       1          80\n",
              "3             ETF D       25000     1      3       1          85\n",
              "4     Real Estate E        5000     2      2       3          75\n",
              "5            Bond F        7500     2      3       1          65\n",
              "6       Commodity G       35000     2      2       2          55\n",
              "7           Forex H        5000     1      3       1          50\n",
              "8  Private Equity I       30000     2      1       2          70\n",
              "9      Hedge Fund J        2000     1      3       1          75"
            ],
            "text/html": [
              "\n",
              "  <div id=\"df-07b70224-f728-4ce2-8510-8c445b17f30b\">\n",
              "    <div class=\"colab-df-container\">\n",
              "      <div>\n",
              "<style scoped>\n",
              "    .dataframe tbody tr th:only-of-type {\n",
              "        vertical-align: middle;\n",
              "    }\n",
              "\n",
              "    .dataframe tbody tr th {\n",
              "        vertical-align: top;\n",
              "    }\n",
              "\n",
              "    .dataframe thead th {\n",
              "        text-align: right;\n",
              "    }\n",
              "</style>\n",
              "<table border=\"1\" class=\"dataframe\">\n",
              "  <thead>\n",
              "    <tr style=\"text-align: right;\">\n",
              "      <th></th>\n",
              "      <th>Investment Name</th>\n",
              "      <th>Investment</th>\n",
              "      <th>Time</th>\n",
              "      <th>Skill</th>\n",
              "      <th>Impact</th>\n",
              "      <th>Successful</th>\n",
              "    </tr>\n",
              "  </thead>\n",
              "  <tbody>\n",
              "    <tr>\n",
              "      <th>0</th>\n",
              "      <td>Stock A</td>\n",
              "      <td>10000</td>\n",
              "      <td>2</td>\n",
              "      <td>3</td>\n",
              "      <td>3</td>\n",
              "      <td>70</td>\n",
              "    </tr>\n",
              "    <tr>\n",
              "      <th>1</th>\n",
              "      <td>Stock B</td>\n",
              "      <td>15000</td>\n",
              "      <td>1</td>\n",
              "      <td>2</td>\n",
              "      <td>3</td>\n",
              "      <td>60</td>\n",
              "    </tr>\n",
              "    <tr>\n",
              "      <th>2</th>\n",
              "      <td>Mutual Fund C</td>\n",
              "      <td>20000</td>\n",
              "      <td>2</td>\n",
              "      <td>1</td>\n",
              "      <td>1</td>\n",
              "      <td>80</td>\n",
              "    </tr>\n",
              "    <tr>\n",
              "      <th>3</th>\n",
              "      <td>ETF D</td>\n",
              "      <td>25000</td>\n",
              "      <td>1</td>\n",
              "      <td>3</td>\n",
              "      <td>1</td>\n",
              "      <td>85</td>\n",
              "    </tr>\n",
              "    <tr>\n",
              "      <th>4</th>\n",
              "      <td>Real Estate E</td>\n",
              "      <td>5000</td>\n",
              "      <td>2</td>\n",
              "      <td>2</td>\n",
              "      <td>3</td>\n",
              "      <td>75</td>\n",
              "    </tr>\n",
              "    <tr>\n",
              "      <th>5</th>\n",
              "      <td>Bond F</td>\n",
              "      <td>7500</td>\n",
              "      <td>2</td>\n",
              "      <td>3</td>\n",
              "      <td>1</td>\n",
              "      <td>65</td>\n",
              "    </tr>\n",
              "    <tr>\n",
              "      <th>6</th>\n",
              "      <td>Commodity G</td>\n",
              "      <td>35000</td>\n",
              "      <td>2</td>\n",
              "      <td>2</td>\n",
              "      <td>2</td>\n",
              "      <td>55</td>\n",
              "    </tr>\n",
              "    <tr>\n",
              "      <th>7</th>\n",
              "      <td>Forex H</td>\n",
              "      <td>5000</td>\n",
              "      <td>1</td>\n",
              "      <td>3</td>\n",
              "      <td>1</td>\n",
              "      <td>50</td>\n",
              "    </tr>\n",
              "    <tr>\n",
              "      <th>8</th>\n",
              "      <td>Private Equity I</td>\n",
              "      <td>30000</td>\n",
              "      <td>2</td>\n",
              "      <td>1</td>\n",
              "      <td>2</td>\n",
              "      <td>70</td>\n",
              "    </tr>\n",
              "    <tr>\n",
              "      <th>9</th>\n",
              "      <td>Hedge Fund J</td>\n",
              "      <td>2000</td>\n",
              "      <td>1</td>\n",
              "      <td>3</td>\n",
              "      <td>1</td>\n",
              "      <td>75</td>\n",
              "    </tr>\n",
              "  </tbody>\n",
              "</table>\n",
              "</div>\n",
              "      <button class=\"colab-df-convert\" onclick=\"convertToInteractive('df-07b70224-f728-4ce2-8510-8c445b17f30b')\"\n",
              "              title=\"Convert this dataframe to an interactive table.\"\n",
              "              style=\"display:none;\">\n",
              "        \n",
              "  <svg xmlns=\"http://www.w3.org/2000/svg\" height=\"24px\"viewBox=\"0 0 24 24\"\n",
              "       width=\"24px\">\n",
              "    <path d=\"M0 0h24v24H0V0z\" fill=\"none\"/>\n",
              "    <path d=\"M18.56 5.44l.94 2.06.94-2.06 2.06-.94-2.06-.94-.94-2.06-.94 2.06-2.06.94zm-11 1L8.5 8.5l.94-2.06 2.06-.94-2.06-.94L8.5 2.5l-.94 2.06-2.06.94zm10 10l.94 2.06.94-2.06 2.06-.94-2.06-.94-.94-2.06-.94 2.06-2.06.94z\"/><path d=\"M17.41 7.96l-1.37-1.37c-.4-.4-.92-.59-1.43-.59-.52 0-1.04.2-1.43.59L10.3 9.45l-7.72 7.72c-.78.78-.78 2.05 0 2.83L4 21.41c.39.39.9.59 1.41.59.51 0 1.02-.2 1.41-.59l7.78-7.78 2.81-2.81c.8-.78.8-2.07 0-2.86zM5.41 20L4 18.59l7.72-7.72 1.47 1.35L5.41 20z\"/>\n",
              "  </svg>\n",
              "      </button>\n",
              "      \n",
              "  <style>\n",
              "    .colab-df-container {\n",
              "      display:flex;\n",
              "      flex-wrap:wrap;\n",
              "      gap: 12px;\n",
              "    }\n",
              "\n",
              "    .colab-df-convert {\n",
              "      background-color: #E8F0FE;\n",
              "      border: none;\n",
              "      border-radius: 50%;\n",
              "      cursor: pointer;\n",
              "      display: none;\n",
              "      fill: #1967D2;\n",
              "      height: 32px;\n",
              "      padding: 0 0 0 0;\n",
              "      width: 32px;\n",
              "    }\n",
              "\n",
              "    .colab-df-convert:hover {\n",
              "      background-color: #E2EBFA;\n",
              "      box-shadow: 0px 1px 2px rgba(60, 64, 67, 0.3), 0px 1px 3px 1px rgba(60, 64, 67, 0.15);\n",
              "      fill: #174EA6;\n",
              "    }\n",
              "\n",
              "    [theme=dark] .colab-df-convert {\n",
              "      background-color: #3B4455;\n",
              "      fill: #D2E3FC;\n",
              "    }\n",
              "\n",
              "    [theme=dark] .colab-df-convert:hover {\n",
              "      background-color: #434B5C;\n",
              "      box-shadow: 0px 1px 3px 1px rgba(0, 0, 0, 0.15);\n",
              "      filter: drop-shadow(0px 1px 2px rgba(0, 0, 0, 0.3));\n",
              "      fill: #FFFFFF;\n",
              "    }\n",
              "  </style>\n",
              "\n",
              "      <script>\n",
              "        const buttonEl =\n",
              "          document.querySelector('#df-07b70224-f728-4ce2-8510-8c445b17f30b button.colab-df-convert');\n",
              "        buttonEl.style.display =\n",
              "          google.colab.kernel.accessAllowed ? 'block' : 'none';\n",
              "\n",
              "        async function convertToInteractive(key) {\n",
              "          const element = document.querySelector('#df-07b70224-f728-4ce2-8510-8c445b17f30b');\n",
              "          const dataTable =\n",
              "            await google.colab.kernel.invokeFunction('convertToInteractive',\n",
              "                                                     [key], {});\n",
              "          if (!dataTable) return;\n",
              "\n",
              "          const docLinkHtml = 'Like what you see? Visit the ' +\n",
              "            '<a target=\"_blank\" href=https://colab.research.google.com/notebooks/data_table.ipynb>data table notebook</a>'\n",
              "            + ' to learn more about interactive tables.';\n",
              "          element.innerHTML = '';\n",
              "          dataTable['output_type'] = 'display_data';\n",
              "          await google.colab.output.renderOutput(dataTable, element);\n",
              "          const docLink = document.createElement('div');\n",
              "          docLink.innerHTML = docLinkHtml;\n",
              "          element.appendChild(docLink);\n",
              "        }\n",
              "      </script>\n",
              "    </div>\n",
              "  </div>\n",
              "  "
            ]
          },
          "metadata": {},
          "execution_count": 42
        }
      ]
    },
    {
      "cell_type": "markdown",
      "source": [
        "###Data Entry"
      ],
      "metadata": {
        "id": "AN2IErNmgNVd"
      }
    },
    {
      "cell_type": "markdown",
      "source": [
        "Within the Xnew line in our code in between each comma type in the data of the four features you are looking at using the above key and snippet of the data set as a guide. The Xnew line should be structured like this:\n",
        "\n",
        "**Xnew = [Investment Name, Investment, Time, Skill, Impact]**\n",
        "\n"
      ],
      "metadata": {
        "id": "AyA4RuK3fibE"
      }
    },
    {
      "cell_type": "code",
      "source": [
        "q = pd.DataFrame([['Tesla Stock', '20000', '2', '3', '3']],\n",
        "             columns=X.columns)\n",
        "q"
      ],
      "metadata": {
        "colab": {
          "base_uri": "https://localhost:8080/",
          "height": 81
        },
        "id": "zPwZiC4Yb1YD",
        "outputId": "ace4a3d3-24ab-4246-bf16-b96dad781c1d"
      },
      "execution_count": 43,
      "outputs": [
        {
          "output_type": "execute_result",
          "data": {
            "text/plain": [
              "  Investment Name Investment Time Skill Impact\n",
              "0     Tesla Stock      20000    2     3      3"
            ],
            "text/html": [
              "\n",
              "  <div id=\"df-8ff41a90-03ef-4437-91b0-ffa5e2b4368a\">\n",
              "    <div class=\"colab-df-container\">\n",
              "      <div>\n",
              "<style scoped>\n",
              "    .dataframe tbody tr th:only-of-type {\n",
              "        vertical-align: middle;\n",
              "    }\n",
              "\n",
              "    .dataframe tbody tr th {\n",
              "        vertical-align: top;\n",
              "    }\n",
              "\n",
              "    .dataframe thead th {\n",
              "        text-align: right;\n",
              "    }\n",
              "</style>\n",
              "<table border=\"1\" class=\"dataframe\">\n",
              "  <thead>\n",
              "    <tr style=\"text-align: right;\">\n",
              "      <th></th>\n",
              "      <th>Investment Name</th>\n",
              "      <th>Investment</th>\n",
              "      <th>Time</th>\n",
              "      <th>Skill</th>\n",
              "      <th>Impact</th>\n",
              "    </tr>\n",
              "  </thead>\n",
              "  <tbody>\n",
              "    <tr>\n",
              "      <th>0</th>\n",
              "      <td>Tesla Stock</td>\n",
              "      <td>20000</td>\n",
              "      <td>2</td>\n",
              "      <td>3</td>\n",
              "      <td>3</td>\n",
              "    </tr>\n",
              "  </tbody>\n",
              "</table>\n",
              "</div>\n",
              "      <button class=\"colab-df-convert\" onclick=\"convertToInteractive('df-8ff41a90-03ef-4437-91b0-ffa5e2b4368a')\"\n",
              "              title=\"Convert this dataframe to an interactive table.\"\n",
              "              style=\"display:none;\">\n",
              "        \n",
              "  <svg xmlns=\"http://www.w3.org/2000/svg\" height=\"24px\"viewBox=\"0 0 24 24\"\n",
              "       width=\"24px\">\n",
              "    <path d=\"M0 0h24v24H0V0z\" fill=\"none\"/>\n",
              "    <path d=\"M18.56 5.44l.94 2.06.94-2.06 2.06-.94-2.06-.94-.94-2.06-.94 2.06-2.06.94zm-11 1L8.5 8.5l.94-2.06 2.06-.94-2.06-.94L8.5 2.5l-.94 2.06-2.06.94zm10 10l.94 2.06.94-2.06 2.06-.94-2.06-.94-.94-2.06-.94 2.06-2.06.94z\"/><path d=\"M17.41 7.96l-1.37-1.37c-.4-.4-.92-.59-1.43-.59-.52 0-1.04.2-1.43.59L10.3 9.45l-7.72 7.72c-.78.78-.78 2.05 0 2.83L4 21.41c.39.39.9.59 1.41.59.51 0 1.02-.2 1.41-.59l7.78-7.78 2.81-2.81c.8-.78.8-2.07 0-2.86zM5.41 20L4 18.59l7.72-7.72 1.47 1.35L5.41 20z\"/>\n",
              "  </svg>\n",
              "      </button>\n",
              "      \n",
              "  <style>\n",
              "    .colab-df-container {\n",
              "      display:flex;\n",
              "      flex-wrap:wrap;\n",
              "      gap: 12px;\n",
              "    }\n",
              "\n",
              "    .colab-df-convert {\n",
              "      background-color: #E8F0FE;\n",
              "      border: none;\n",
              "      border-radius: 50%;\n",
              "      cursor: pointer;\n",
              "      display: none;\n",
              "      fill: #1967D2;\n",
              "      height: 32px;\n",
              "      padding: 0 0 0 0;\n",
              "      width: 32px;\n",
              "    }\n",
              "\n",
              "    .colab-df-convert:hover {\n",
              "      background-color: #E2EBFA;\n",
              "      box-shadow: 0px 1px 2px rgba(60, 64, 67, 0.3), 0px 1px 3px 1px rgba(60, 64, 67, 0.15);\n",
              "      fill: #174EA6;\n",
              "    }\n",
              "\n",
              "    [theme=dark] .colab-df-convert {\n",
              "      background-color: #3B4455;\n",
              "      fill: #D2E3FC;\n",
              "    }\n",
              "\n",
              "    [theme=dark] .colab-df-convert:hover {\n",
              "      background-color: #434B5C;\n",
              "      box-shadow: 0px 1px 3px 1px rgba(0, 0, 0, 0.15);\n",
              "      filter: drop-shadow(0px 1px 2px rgba(0, 0, 0, 0.3));\n",
              "      fill: #FFFFFF;\n",
              "    }\n",
              "  </style>\n",
              "\n",
              "      <script>\n",
              "        const buttonEl =\n",
              "          document.querySelector('#df-8ff41a90-03ef-4437-91b0-ffa5e2b4368a button.colab-df-convert');\n",
              "        buttonEl.style.display =\n",
              "          google.colab.kernel.accessAllowed ? 'block' : 'none';\n",
              "\n",
              "        async function convertToInteractive(key) {\n",
              "          const element = document.querySelector('#df-8ff41a90-03ef-4437-91b0-ffa5e2b4368a');\n",
              "          const dataTable =\n",
              "            await google.colab.kernel.invokeFunction('convertToInteractive',\n",
              "                                                     [key], {});\n",
              "          if (!dataTable) return;\n",
              "\n",
              "          const docLinkHtml = 'Like what you see? Visit the ' +\n",
              "            '<a target=\"_blank\" href=https://colab.research.google.com/notebooks/data_table.ipynb>data table notebook</a>'\n",
              "            + ' to learn more about interactive tables.';\n",
              "          element.innerHTML = '';\n",
              "          dataTable['output_type'] = 'display_data';\n",
              "          await google.colab.output.renderOutput(dataTable, element);\n",
              "          const docLink = document.createElement('div');\n",
              "          docLink.innerHTML = docLinkHtml;\n",
              "          element.appendChild(docLink);\n",
              "        }\n",
              "      </script>\n",
              "    </div>\n",
              "  </div>\n",
              "  "
            ]
          },
          "metadata": {},
          "execution_count": 43
        }
      ]
    },
    {
      "cell_type": "markdown",
      "source": [
        "This line will output whether the chance of the investment (startup) being successful based on KPI metrics as a percentage.\n",
        "\n"
      ],
      "metadata": {
        "id": "DlFVO6fEg4b8"
      }
    },
    {
      "cell_type": "code",
      "source": [
        " a = mdl.predict(q)\n",
        "\n",
        " for i in a:\n",
        "  score = i\n",
        "\n",
        "new_score = float(score)\n",
        "\n",
        "\n",
        "print(\"The investment has a {:0.2f}% chance of being successful.\".format(new_score))"
      ],
      "metadata": {
        "colab": {
          "base_uri": "https://localhost:8080/"
        },
        "id": "-dJx4rdpb5Z4",
        "outputId": "27294fce-78ca-4334-b76d-f919c41d00e8"
      },
      "execution_count": 64,
      "outputs": [
        {
          "output_type": "stream",
          "name": "stdout",
          "text": [
            "The investment has a 59.57% chance of being successful.\n"
          ]
        }
      ]
    }
  ]
}