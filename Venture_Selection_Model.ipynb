{
  "cells": [
    {
      "cell_type": "markdown",
      "metadata": {
        "id": "view-in-github",
        "colab_type": "text"
      },
      "source": [
        "<a href=\"https://colab.research.google.com/github/AryaJ3365/Investment-Prediction-Application/blob/main/Venture_Selection_Model.ipynb\" target=\"_parent\"><img src=\"https://colab.research.google.com/assets/colab-badge.svg\" alt=\"Open In Colab\"/></a>"
      ]
    },
    {
      "cell_type": "markdown",
      "metadata": {
        "id": "VBUb_QlkS2K2"
      },
      "source": [
        "#**Venture Selection Model**"
      ]
    },
    {
      "cell_type": "markdown",
      "metadata": {
        "id": "CiOmryTLS-li"
      },
      "source": [
        "##**Load Data**\n",
        "\n"
      ]
    },
    {
      "cell_type": "markdown",
      "source": [
        "We use this command to give us the ability to install the anvil-uplink library into our Google Colab environment. Which gives us the ability to deploy my notebook as a web application that can be usable by anyone with access."
      ],
      "metadata": {
        "id": "lE1n8GKzYoZY"
      }
    },
    {
      "cell_type": "code",
      "execution_count": null,
      "metadata": {
        "colab": {
          "base_uri": "https://localhost:8080/",
          "height": 436
        },
        "id": "SyR7_0rTtm5m",
        "outputId": "b5594912-59a3-44dd-8704-aa1cf8556995"
      },
      "outputs": [
        {
          "output_type": "stream",
          "name": "stdout",
          "text": [
            "Collecting anvil-uplink\n",
            "  Downloading anvil_uplink-0.4.2-py2.py3-none-any.whl (90 kB)\n",
            "\u001b[?25l     \u001b[90m━━━━━━━━━━━━━━━━━━━━━━━━━━━━━━━━━━━━━━━━\u001b[0m \u001b[32m0.0/90.1 kB\u001b[0m \u001b[31m?\u001b[0m eta \u001b[36m-:--:--\u001b[0m\r\u001b[2K     \u001b[90m━━━━━━━━━━━━━━━━━━━━━━━━━━━━━━━━━━━━━━━━\u001b[0m \u001b[32m90.1/90.1 kB\u001b[0m \u001b[31m3.4 MB/s\u001b[0m eta \u001b[36m0:00:00\u001b[0m\n",
            "\u001b[?25hCollecting argparse (from anvil-uplink)\n",
            "  Downloading argparse-1.4.0-py2.py3-none-any.whl (23 kB)\n",
            "Requirement already satisfied: future in /usr/local/lib/python3.10/dist-packages (from anvil-uplink) (0.18.3)\n",
            "Requirement already satisfied: six in /usr/local/lib/python3.10/dist-packages (from anvil-uplink) (1.16.0)\n",
            "Collecting ws4py (from anvil-uplink)\n",
            "  Downloading ws4py-0.5.1.tar.gz (51 kB)\n",
            "\u001b[2K     \u001b[90m━━━━━━━━━━━━━━━━━━━━━━━━━━━━━━━━━━━━━━━━\u001b[0m \u001b[32m51.4/51.4 kB\u001b[0m \u001b[31m4.5 MB/s\u001b[0m eta \u001b[36m0:00:00\u001b[0m\n",
            "\u001b[?25h  Preparing metadata (setup.py) ... \u001b[?25l\u001b[?25hdone\n",
            "Building wheels for collected packages: ws4py\n",
            "  Building wheel for ws4py (setup.py) ... \u001b[?25l\u001b[?25hdone\n",
            "  Created wheel for ws4py: filename=ws4py-0.5.1-py3-none-any.whl size=45228 sha256=6697ed305d5b1b0b2ca7ad32b1422f8c5ba4501826b06e7a47bf0b7927ec48f1\n",
            "  Stored in directory: /root/.cache/pip/wheels/2e/7c/ad/d9c746276bf024d44296340869fcb169f1e5d80fb147351a57\n",
            "Successfully built ws4py\n",
            "Installing collected packages: ws4py, argparse, anvil-uplink\n",
            "Successfully installed anvil-uplink-0.4.2 argparse-1.4.0 ws4py-0.5.1\n"
          ]
        },
        {
          "output_type": "display_data",
          "data": {
            "application/vnd.colab-display-data+json": {
              "pip_warning": {
                "packages": [
                  "argparse",
                  "google"
                ]
              }
            }
          },
          "metadata": {}
        }
      ],
      "source": [
        "!pip install anvil-uplink"
      ]
    },
    {
      "cell_type": "markdown",
      "source": [
        "Here we upload the anvil.server module then we connect to our server key which essentially allows us to use our application as a web app."
      ],
      "metadata": {
        "id": "c4bkkbv7YWfX"
      }
    },
    {
      "cell_type": "code",
      "execution_count": null,
      "metadata": {
        "id": "5cFZL9MDuAFH",
        "colab": {
          "base_uri": "https://localhost:8080/"
        },
        "outputId": "c51404d8-de6b-463d-8d78-37c3f4acebed"
      },
      "outputs": [
        {
          "output_type": "stream",
          "name": "stdout",
          "text": [
            "Connecting to wss://anvil.works/uplink\n",
            "Anvil websocket open\n",
            "Connected to \"Default Environment\" as SERVER\n"
          ]
        }
      ],
      "source": [
        "import anvil.server\n",
        "anvil.server.connect(\"server_XXRUOSEAF3ZUIZ2AROYMMQ5L-QLE4ORLXEQ5TQIGI\")"
      ]
    },
    {
      "cell_type": "markdown",
      "metadata": {
        "id": "eYkevG6OWDaf"
      },
      "source": [
        "###Import various needed python packages such as the SVM Classifier, numpy, pandas, and standard scaler"
      ]
    },
    {
      "cell_type": "code",
      "execution_count": null,
      "metadata": {
        "id": "Xm7rbAfVj53T"
      },
      "outputs": [],
      "source": [
        "import numpy as np\n",
        "import pandas as pd\n",
        "from sklearn.preprocessing import StandardScaler\n",
        "from sklearn.model_selection import train_test_split\n",
        "from sklearn import svm\n",
        "from sklearn.metrics import accuracy_score"
      ]
    },
    {
      "cell_type": "markdown",
      "metadata": {
        "id": "JzyGuvpAWvcY"
      },
      "source": [
        "Here we read in the CSV file that contains examples of past successful and unsuccessful investments to train the machine learning environment that I created through online research.\n",
        "\n",
        "After there is enough WiProsper selection model data in the WiProsper CSV that will be given you can eventually comment out my initial dataset using #, so that you can then enter the new link of the WiProsper dataset which in theory should give us the highest percent of prediction accuracy."
      ]
    },
    {
      "cell_type": "code",
      "execution_count": null,
      "metadata": {
        "id": "J8eRLOawn1cy"
      },
      "outputs": [],
      "source": [
        "# This is the inital data set link that will allow us to immediatly start predicting venture success rate.\n",
        "\n",
        "df = pd.read_csv(\"https://raw.githubusercontent.com/AryaJ3365/Investment-Prediction-Application/main/Venture_Selection_Dataset.csv\")\n",
        "\n",
        "# This is where once we have enough data the WiProsper dataset belongs. Just make sure to comment out the above dataset line of code\n",
        "# and uncomment out the new dataset's line of code.\n",
        "\n",
        "#df = pd.read_csv(\"Enter link or file location of WIPROSPER dataset here\")"
      ]
    },
    {
      "cell_type": "markdown",
      "metadata": {
        "id": "QhfX29hOXIXZ"
      },
      "source": [
        "##**Data Preparation**"
      ]
    },
    {
      "cell_type": "markdown",
      "metadata": {
        "id": "IvgizR-wXan3"
      },
      "source": [
        "###Analysis of the data"
      ]
    },
    {
      "cell_type": "markdown",
      "metadata": {
        "id": "NpO0bMh1Xgjy"
      },
      "source": [
        "First we look through the head of the data set which essentially is just showing us how the first five rows of the data set look like.\n",
        "\n",
        "Here is the key for the data set:\n",
        "\n",
        "1.   Investment Name: The name of where the investment came from.\n",
        "2.   Date: The timeframe we are looking at the investment.\n",
        "3.   Successful: The percentage represented as an integer of the investment being successful. Used to help start the ML model but has no effect in the training process\n",
        "\n",
        "KPIs (Key Performance Indicators) / Variables:\n",
        "1.   Return on Investment: Used to measured the winnings or losses created by an investment.\n",
        "3.   Debt-to-Equity: Indicates the amount of debt which a company is taking on. Calculated by dividing total liabilities by shareholder's equity which can be found on its balance sheet.\n",
        "3.   Profit Margins: Profit margins provide insights into a company's profitability. Key metrics include gross profit margin (revenue minus cost of goods sold divided by revenue) and net profit margin (net income divided by revenue). Higher margins suggest efficient operations and pricing power.\n",
        "4.   Social Media Engagement Rate: For companies with a strong social media presence, monitoring metrics like likes, shares, comments, and followers can help gauge customer engagement, brand awareness, and potential market sentiment.\n",
        "4.   P/E Ratio: Used to take a company's current market capitalization and divide it by it's annual earnings.\n",
        "\n",
        "\n"
      ]
    },
    {
      "cell_type": "code",
      "execution_count": null,
      "metadata": {
        "colab": {
          "base_uri": "https://localhost:8080/",
          "height": 285
        },
        "id": "LMP_vH7Y6sd3",
        "outputId": "bbc1d0ac-5749-4acd-f988-415abe2a54e3"
      },
      "outputs": [
        {
          "output_type": "execute_result",
          "data": {
            "text/plain": [
              "  Investment Name        Date  Return On Investment  Debt-to-Equity  \\\n",
              "0           Tesla  12/31/2009                 92.42            0.15   \n",
              "1           Visa   12/31/2009                 30.99            0.00   \n",
              "2          Nvidia  12/31/2009                 45.63            0.01   \n",
              "3         Netflix  12/31/2009                 25.70            0.19   \n",
              "4         Peloton   3/31/2023                  4.05            6.21   \n",
              "\n",
              "   Profit Margin  Social Media Engagement  P/E Ratio  Successful  \n",
              "0          33.25                       10      56.57         100  \n",
              "1          21.45                        9      23.47          93  \n",
              "2          24.63                        9      30.06          97  \n",
              "3          22.53                        8      27.82          90  \n",
              "4           0.34                        5       0.00          40  "
            ],
            "text/html": [
              "\n",
              "\n",
              "  <div id=\"df-3134d107-30c7-4fe3-a995-f530e7f3acd7\">\n",
              "    <div class=\"colab-df-container\">\n",
              "      <div>\n",
              "<style scoped>\n",
              "    .dataframe tbody tr th:only-of-type {\n",
              "        vertical-align: middle;\n",
              "    }\n",
              "\n",
              "    .dataframe tbody tr th {\n",
              "        vertical-align: top;\n",
              "    }\n",
              "\n",
              "    .dataframe thead th {\n",
              "        text-align: right;\n",
              "    }\n",
              "</style>\n",
              "<table border=\"1\" class=\"dataframe\">\n",
              "  <thead>\n",
              "    <tr style=\"text-align: right;\">\n",
              "      <th></th>\n",
              "      <th>Investment Name</th>\n",
              "      <th>Date</th>\n",
              "      <th>Return On Investment</th>\n",
              "      <th>Debt-to-Equity</th>\n",
              "      <th>Profit Margin</th>\n",
              "      <th>Social Media Engagement</th>\n",
              "      <th>P/E Ratio</th>\n",
              "      <th>Successful</th>\n",
              "    </tr>\n",
              "  </thead>\n",
              "  <tbody>\n",
              "    <tr>\n",
              "      <th>0</th>\n",
              "      <td>Tesla</td>\n",
              "      <td>12/31/2009</td>\n",
              "      <td>92.42</td>\n",
              "      <td>0.15</td>\n",
              "      <td>33.25</td>\n",
              "      <td>10</td>\n",
              "      <td>56.57</td>\n",
              "      <td>100</td>\n",
              "    </tr>\n",
              "    <tr>\n",
              "      <th>1</th>\n",
              "      <td>Visa</td>\n",
              "      <td>12/31/2009</td>\n",
              "      <td>30.99</td>\n",
              "      <td>0.00</td>\n",
              "      <td>21.45</td>\n",
              "      <td>9</td>\n",
              "      <td>23.47</td>\n",
              "      <td>93</td>\n",
              "    </tr>\n",
              "    <tr>\n",
              "      <th>2</th>\n",
              "      <td>Nvidia</td>\n",
              "      <td>12/31/2009</td>\n",
              "      <td>45.63</td>\n",
              "      <td>0.01</td>\n",
              "      <td>24.63</td>\n",
              "      <td>9</td>\n",
              "      <td>30.06</td>\n",
              "      <td>97</td>\n",
              "    </tr>\n",
              "    <tr>\n",
              "      <th>3</th>\n",
              "      <td>Netflix</td>\n",
              "      <td>12/31/2009</td>\n",
              "      <td>25.70</td>\n",
              "      <td>0.19</td>\n",
              "      <td>22.53</td>\n",
              "      <td>8</td>\n",
              "      <td>27.82</td>\n",
              "      <td>90</td>\n",
              "    </tr>\n",
              "    <tr>\n",
              "      <th>4</th>\n",
              "      <td>Peloton</td>\n",
              "      <td>3/31/2023</td>\n",
              "      <td>4.05</td>\n",
              "      <td>6.21</td>\n",
              "      <td>0.34</td>\n",
              "      <td>5</td>\n",
              "      <td>0.00</td>\n",
              "      <td>40</td>\n",
              "    </tr>\n",
              "  </tbody>\n",
              "</table>\n",
              "</div>\n",
              "      <button class=\"colab-df-convert\" onclick=\"convertToInteractive('df-3134d107-30c7-4fe3-a995-f530e7f3acd7')\"\n",
              "              title=\"Convert this dataframe to an interactive table.\"\n",
              "              style=\"display:none;\">\n",
              "\n",
              "  <svg xmlns=\"http://www.w3.org/2000/svg\" height=\"24px\"viewBox=\"0 0 24 24\"\n",
              "       width=\"24px\">\n",
              "    <path d=\"M0 0h24v24H0V0z\" fill=\"none\"/>\n",
              "    <path d=\"M18.56 5.44l.94 2.06.94-2.06 2.06-.94-2.06-.94-.94-2.06-.94 2.06-2.06.94zm-11 1L8.5 8.5l.94-2.06 2.06-.94-2.06-.94L8.5 2.5l-.94 2.06-2.06.94zm10 10l.94 2.06.94-2.06 2.06-.94-2.06-.94-.94-2.06-.94 2.06-2.06.94z\"/><path d=\"M17.41 7.96l-1.37-1.37c-.4-.4-.92-.59-1.43-.59-.52 0-1.04.2-1.43.59L10.3 9.45l-7.72 7.72c-.78.78-.78 2.05 0 2.83L4 21.41c.39.39.9.59 1.41.59.51 0 1.02-.2 1.41-.59l7.78-7.78 2.81-2.81c.8-.78.8-2.07 0-2.86zM5.41 20L4 18.59l7.72-7.72 1.47 1.35L5.41 20z\"/>\n",
              "  </svg>\n",
              "      </button>\n",
              "\n",
              "\n",
              "\n",
              "    <div id=\"df-85ffcffd-04f7-4c31-92c4-3cb59970eb62\">\n",
              "      <button class=\"colab-df-quickchart\" onclick=\"quickchart('df-85ffcffd-04f7-4c31-92c4-3cb59970eb62')\"\n",
              "              title=\"Suggest charts.\"\n",
              "              style=\"display:none;\">\n",
              "\n",
              "<svg xmlns=\"http://www.w3.org/2000/svg\" height=\"24px\"viewBox=\"0 0 24 24\"\n",
              "     width=\"24px\">\n",
              "    <g>\n",
              "        <path d=\"M19 3H5c-1.1 0-2 .9-2 2v14c0 1.1.9 2 2 2h14c1.1 0 2-.9 2-2V5c0-1.1-.9-2-2-2zM9 17H7v-7h2v7zm4 0h-2V7h2v10zm4 0h-2v-4h2v4z\"/>\n",
              "    </g>\n",
              "</svg>\n",
              "      </button>\n",
              "    </div>\n",
              "\n",
              "<style>\n",
              "  .colab-df-quickchart {\n",
              "    background-color: #E8F0FE;\n",
              "    border: none;\n",
              "    border-radius: 50%;\n",
              "    cursor: pointer;\n",
              "    display: none;\n",
              "    fill: #1967D2;\n",
              "    height: 32px;\n",
              "    padding: 0 0 0 0;\n",
              "    width: 32px;\n",
              "  }\n",
              "\n",
              "  .colab-df-quickchart:hover {\n",
              "    background-color: #E2EBFA;\n",
              "    box-shadow: 0px 1px 2px rgba(60, 64, 67, 0.3), 0px 1px 3px 1px rgba(60, 64, 67, 0.15);\n",
              "    fill: #174EA6;\n",
              "  }\n",
              "\n",
              "  [theme=dark] .colab-df-quickchart {\n",
              "    background-color: #3B4455;\n",
              "    fill: #D2E3FC;\n",
              "  }\n",
              "\n",
              "  [theme=dark] .colab-df-quickchart:hover {\n",
              "    background-color: #434B5C;\n",
              "    box-shadow: 0px 1px 3px 1px rgba(0, 0, 0, 0.15);\n",
              "    filter: drop-shadow(0px 1px 2px rgba(0, 0, 0, 0.3));\n",
              "    fill: #FFFFFF;\n",
              "  }\n",
              "</style>\n",
              "\n",
              "    <script>\n",
              "      async function quickchart(key) {\n",
              "        const containerElement = document.querySelector('#' + key);\n",
              "        const charts = await google.colab.kernel.invokeFunction(\n",
              "            'suggestCharts', [key], {});\n",
              "      }\n",
              "    </script>\n",
              "\n",
              "      <script>\n",
              "\n",
              "function displayQuickchartButton(domScope) {\n",
              "  let quickchartButtonEl =\n",
              "    domScope.querySelector('#df-85ffcffd-04f7-4c31-92c4-3cb59970eb62 button.colab-df-quickchart');\n",
              "  quickchartButtonEl.style.display =\n",
              "    google.colab.kernel.accessAllowed ? 'block' : 'none';\n",
              "}\n",
              "\n",
              "        displayQuickchartButton(document);\n",
              "      </script>\n",
              "      <style>\n",
              "    .colab-df-container {\n",
              "      display:flex;\n",
              "      flex-wrap:wrap;\n",
              "      gap: 12px;\n",
              "    }\n",
              "\n",
              "    .colab-df-convert {\n",
              "      background-color: #E8F0FE;\n",
              "      border: none;\n",
              "      border-radius: 50%;\n",
              "      cursor: pointer;\n",
              "      display: none;\n",
              "      fill: #1967D2;\n",
              "      height: 32px;\n",
              "      padding: 0 0 0 0;\n",
              "      width: 32px;\n",
              "    }\n",
              "\n",
              "    .colab-df-convert:hover {\n",
              "      background-color: #E2EBFA;\n",
              "      box-shadow: 0px 1px 2px rgba(60, 64, 67, 0.3), 0px 1px 3px 1px rgba(60, 64, 67, 0.15);\n",
              "      fill: #174EA6;\n",
              "    }\n",
              "\n",
              "    [theme=dark] .colab-df-convert {\n",
              "      background-color: #3B4455;\n",
              "      fill: #D2E3FC;\n",
              "    }\n",
              "\n",
              "    [theme=dark] .colab-df-convert:hover {\n",
              "      background-color: #434B5C;\n",
              "      box-shadow: 0px 1px 3px 1px rgba(0, 0, 0, 0.15);\n",
              "      filter: drop-shadow(0px 1px 2px rgba(0, 0, 0, 0.3));\n",
              "      fill: #FFFFFF;\n",
              "    }\n",
              "  </style>\n",
              "\n",
              "      <script>\n",
              "        const buttonEl =\n",
              "          document.querySelector('#df-3134d107-30c7-4fe3-a995-f530e7f3acd7 button.colab-df-convert');\n",
              "        buttonEl.style.display =\n",
              "          google.colab.kernel.accessAllowed ? 'block' : 'none';\n",
              "\n",
              "        async function convertToInteractive(key) {\n",
              "          const element = document.querySelector('#df-3134d107-30c7-4fe3-a995-f530e7f3acd7');\n",
              "          const dataTable =\n",
              "            await google.colab.kernel.invokeFunction('convertToInteractive',\n",
              "                                                     [key], {});\n",
              "          if (!dataTable) return;\n",
              "\n",
              "          const docLinkHtml = 'Like what you see? Visit the ' +\n",
              "            '<a target=\"_blank\" href=https://colab.research.google.com/notebooks/data_table.ipynb>data table notebook</a>'\n",
              "            + ' to learn more about interactive tables.';\n",
              "          element.innerHTML = '';\n",
              "          dataTable['output_type'] = 'display_data';\n",
              "          await google.colab.output.renderOutput(dataTable, element);\n",
              "          const docLink = document.createElement('div');\n",
              "          docLink.innerHTML = docLinkHtml;\n",
              "          element.appendChild(docLink);\n",
              "        }\n",
              "      </script>\n",
              "    </div>\n",
              "  </div>\n"
            ]
          },
          "metadata": {},
          "execution_count": 5
        }
      ],
      "source": [
        "df.head()"
      ]
    },
    {
      "cell_type": "markdown",
      "metadata": {
        "id": "i_zdKBaV79jY"
      },
      "source": [
        "Shows the number of rows and columns in the dataset. Denoted as: (rows, columns)\n",
        "\n",
        "\n"
      ]
    },
    {
      "cell_type": "code",
      "execution_count": null,
      "metadata": {
        "colab": {
          "base_uri": "https://localhost:8080/"
        },
        "id": "QTVDI0pBn_vE",
        "outputId": "aa309740-bea2-4b13-ce20-4695c840112e"
      },
      "outputs": [
        {
          "output_type": "execute_result",
          "data": {
            "text/plain": [
              "(59, 8)"
            ]
          },
          "metadata": {},
          "execution_count": 6
        }
      ],
      "source": [
        "df.shape"
      ]
    },
    {
      "cell_type": "markdown",
      "metadata": {
        "id": "4JYW2DZ98I4l"
      },
      "source": [
        "Gives common statistical values of numerical columns within the data set.\n",
        "\n",
        "\n"
      ]
    },
    {
      "cell_type": "code",
      "execution_count": null,
      "metadata": {
        "colab": {
          "base_uri": "https://localhost:8080/",
          "height": 362
        },
        "id": "zK3kif7coDSY",
        "outputId": "3c98d2f6-9ac7-4c2f-9ee1-2359fcec98cf"
      },
      "outputs": [
        {
          "output_type": "execute_result",
          "data": {
            "text/plain": [
              "       Return On Investment  Debt-to-Equity  Profit Margin  \\\n",
              "count             59.000000       59.000000      59.000000   \n",
              "mean              16.761525        1.851864      12.791186   \n",
              "std               14.733907        1.832765       7.589436   \n",
              "min                1.030000        0.000000       0.140000   \n",
              "25%                7.340000        0.615000       8.910000   \n",
              "50%               12.500000        1.340000      12.770000   \n",
              "75%               22.875000        2.355000      18.955000   \n",
              "max               92.420000        8.500000      33.250000   \n",
              "\n",
              "       Social Media Engagement  P/E Ratio  Successful  \n",
              "count                59.000000  59.000000   59.000000  \n",
              "mean                  6.830508  13.519153   71.864407  \n",
              "std                   2.035483   9.951843   19.769759  \n",
              "min                   0.000000   0.000000   20.000000  \n",
              "25%                   6.000000   7.545000   65.000000  \n",
              "50%                   7.000000  12.680000   75.000000  \n",
              "75%                   8.000000  17.800000   87.000000  \n",
              "max                  10.000000  56.570000  100.000000  "
            ],
            "text/html": [
              "\n",
              "\n",
              "  <div id=\"df-e4276b38-c56e-4a3c-a31b-085f4eb96fb6\">\n",
              "    <div class=\"colab-df-container\">\n",
              "      <div>\n",
              "<style scoped>\n",
              "    .dataframe tbody tr th:only-of-type {\n",
              "        vertical-align: middle;\n",
              "    }\n",
              "\n",
              "    .dataframe tbody tr th {\n",
              "        vertical-align: top;\n",
              "    }\n",
              "\n",
              "    .dataframe thead th {\n",
              "        text-align: right;\n",
              "    }\n",
              "</style>\n",
              "<table border=\"1\" class=\"dataframe\">\n",
              "  <thead>\n",
              "    <tr style=\"text-align: right;\">\n",
              "      <th></th>\n",
              "      <th>Return On Investment</th>\n",
              "      <th>Debt-to-Equity</th>\n",
              "      <th>Profit Margin</th>\n",
              "      <th>Social Media Engagement</th>\n",
              "      <th>P/E Ratio</th>\n",
              "      <th>Successful</th>\n",
              "    </tr>\n",
              "  </thead>\n",
              "  <tbody>\n",
              "    <tr>\n",
              "      <th>count</th>\n",
              "      <td>59.000000</td>\n",
              "      <td>59.000000</td>\n",
              "      <td>59.000000</td>\n",
              "      <td>59.000000</td>\n",
              "      <td>59.000000</td>\n",
              "      <td>59.000000</td>\n",
              "    </tr>\n",
              "    <tr>\n",
              "      <th>mean</th>\n",
              "      <td>16.761525</td>\n",
              "      <td>1.851864</td>\n",
              "      <td>12.791186</td>\n",
              "      <td>6.830508</td>\n",
              "      <td>13.519153</td>\n",
              "      <td>71.864407</td>\n",
              "    </tr>\n",
              "    <tr>\n",
              "      <th>std</th>\n",
              "      <td>14.733907</td>\n",
              "      <td>1.832765</td>\n",
              "      <td>7.589436</td>\n",
              "      <td>2.035483</td>\n",
              "      <td>9.951843</td>\n",
              "      <td>19.769759</td>\n",
              "    </tr>\n",
              "    <tr>\n",
              "      <th>min</th>\n",
              "      <td>1.030000</td>\n",
              "      <td>0.000000</td>\n",
              "      <td>0.140000</td>\n",
              "      <td>0.000000</td>\n",
              "      <td>0.000000</td>\n",
              "      <td>20.000000</td>\n",
              "    </tr>\n",
              "    <tr>\n",
              "      <th>25%</th>\n",
              "      <td>7.340000</td>\n",
              "      <td>0.615000</td>\n",
              "      <td>8.910000</td>\n",
              "      <td>6.000000</td>\n",
              "      <td>7.545000</td>\n",
              "      <td>65.000000</td>\n",
              "    </tr>\n",
              "    <tr>\n",
              "      <th>50%</th>\n",
              "      <td>12.500000</td>\n",
              "      <td>1.340000</td>\n",
              "      <td>12.770000</td>\n",
              "      <td>7.000000</td>\n",
              "      <td>12.680000</td>\n",
              "      <td>75.000000</td>\n",
              "    </tr>\n",
              "    <tr>\n",
              "      <th>75%</th>\n",
              "      <td>22.875000</td>\n",
              "      <td>2.355000</td>\n",
              "      <td>18.955000</td>\n",
              "      <td>8.000000</td>\n",
              "      <td>17.800000</td>\n",
              "      <td>87.000000</td>\n",
              "    </tr>\n",
              "    <tr>\n",
              "      <th>max</th>\n",
              "      <td>92.420000</td>\n",
              "      <td>8.500000</td>\n",
              "      <td>33.250000</td>\n",
              "      <td>10.000000</td>\n",
              "      <td>56.570000</td>\n",
              "      <td>100.000000</td>\n",
              "    </tr>\n",
              "  </tbody>\n",
              "</table>\n",
              "</div>\n",
              "      <button class=\"colab-df-convert\" onclick=\"convertToInteractive('df-e4276b38-c56e-4a3c-a31b-085f4eb96fb6')\"\n",
              "              title=\"Convert this dataframe to an interactive table.\"\n",
              "              style=\"display:none;\">\n",
              "\n",
              "  <svg xmlns=\"http://www.w3.org/2000/svg\" height=\"24px\"viewBox=\"0 0 24 24\"\n",
              "       width=\"24px\">\n",
              "    <path d=\"M0 0h24v24H0V0z\" fill=\"none\"/>\n",
              "    <path d=\"M18.56 5.44l.94 2.06.94-2.06 2.06-.94-2.06-.94-.94-2.06-.94 2.06-2.06.94zm-11 1L8.5 8.5l.94-2.06 2.06-.94-2.06-.94L8.5 2.5l-.94 2.06-2.06.94zm10 10l.94 2.06.94-2.06 2.06-.94-2.06-.94-.94-2.06-.94 2.06-2.06.94z\"/><path d=\"M17.41 7.96l-1.37-1.37c-.4-.4-.92-.59-1.43-.59-.52 0-1.04.2-1.43.59L10.3 9.45l-7.72 7.72c-.78.78-.78 2.05 0 2.83L4 21.41c.39.39.9.59 1.41.59.51 0 1.02-.2 1.41-.59l7.78-7.78 2.81-2.81c.8-.78.8-2.07 0-2.86zM5.41 20L4 18.59l7.72-7.72 1.47 1.35L5.41 20z\"/>\n",
              "  </svg>\n",
              "      </button>\n",
              "\n",
              "\n",
              "\n",
              "    <div id=\"df-dd370da4-b5fc-4449-a784-545165d24d60\">\n",
              "      <button class=\"colab-df-quickchart\" onclick=\"quickchart('df-dd370da4-b5fc-4449-a784-545165d24d60')\"\n",
              "              title=\"Suggest charts.\"\n",
              "              style=\"display:none;\">\n",
              "\n",
              "<svg xmlns=\"http://www.w3.org/2000/svg\" height=\"24px\"viewBox=\"0 0 24 24\"\n",
              "     width=\"24px\">\n",
              "    <g>\n",
              "        <path d=\"M19 3H5c-1.1 0-2 .9-2 2v14c0 1.1.9 2 2 2h14c1.1 0 2-.9 2-2V5c0-1.1-.9-2-2-2zM9 17H7v-7h2v7zm4 0h-2V7h2v10zm4 0h-2v-4h2v4z\"/>\n",
              "    </g>\n",
              "</svg>\n",
              "      </button>\n",
              "    </div>\n",
              "\n",
              "<style>\n",
              "  .colab-df-quickchart {\n",
              "    background-color: #E8F0FE;\n",
              "    border: none;\n",
              "    border-radius: 50%;\n",
              "    cursor: pointer;\n",
              "    display: none;\n",
              "    fill: #1967D2;\n",
              "    height: 32px;\n",
              "    padding: 0 0 0 0;\n",
              "    width: 32px;\n",
              "  }\n",
              "\n",
              "  .colab-df-quickchart:hover {\n",
              "    background-color: #E2EBFA;\n",
              "    box-shadow: 0px 1px 2px rgba(60, 64, 67, 0.3), 0px 1px 3px 1px rgba(60, 64, 67, 0.15);\n",
              "    fill: #174EA6;\n",
              "  }\n",
              "\n",
              "  [theme=dark] .colab-df-quickchart {\n",
              "    background-color: #3B4455;\n",
              "    fill: #D2E3FC;\n",
              "  }\n",
              "\n",
              "  [theme=dark] .colab-df-quickchart:hover {\n",
              "    background-color: #434B5C;\n",
              "    box-shadow: 0px 1px 3px 1px rgba(0, 0, 0, 0.15);\n",
              "    filter: drop-shadow(0px 1px 2px rgba(0, 0, 0, 0.3));\n",
              "    fill: #FFFFFF;\n",
              "  }\n",
              "</style>\n",
              "\n",
              "    <script>\n",
              "      async function quickchart(key) {\n",
              "        const containerElement = document.querySelector('#' + key);\n",
              "        const charts = await google.colab.kernel.invokeFunction(\n",
              "            'suggestCharts', [key], {});\n",
              "      }\n",
              "    </script>\n",
              "\n",
              "      <script>\n",
              "\n",
              "function displayQuickchartButton(domScope) {\n",
              "  let quickchartButtonEl =\n",
              "    domScope.querySelector('#df-dd370da4-b5fc-4449-a784-545165d24d60 button.colab-df-quickchart');\n",
              "  quickchartButtonEl.style.display =\n",
              "    google.colab.kernel.accessAllowed ? 'block' : 'none';\n",
              "}\n",
              "\n",
              "        displayQuickchartButton(document);\n",
              "      </script>\n",
              "      <style>\n",
              "    .colab-df-container {\n",
              "      display:flex;\n",
              "      flex-wrap:wrap;\n",
              "      gap: 12px;\n",
              "    }\n",
              "\n",
              "    .colab-df-convert {\n",
              "      background-color: #E8F0FE;\n",
              "      border: none;\n",
              "      border-radius: 50%;\n",
              "      cursor: pointer;\n",
              "      display: none;\n",
              "      fill: #1967D2;\n",
              "      height: 32px;\n",
              "      padding: 0 0 0 0;\n",
              "      width: 32px;\n",
              "    }\n",
              "\n",
              "    .colab-df-convert:hover {\n",
              "      background-color: #E2EBFA;\n",
              "      box-shadow: 0px 1px 2px rgba(60, 64, 67, 0.3), 0px 1px 3px 1px rgba(60, 64, 67, 0.15);\n",
              "      fill: #174EA6;\n",
              "    }\n",
              "\n",
              "    [theme=dark] .colab-df-convert {\n",
              "      background-color: #3B4455;\n",
              "      fill: #D2E3FC;\n",
              "    }\n",
              "\n",
              "    [theme=dark] .colab-df-convert:hover {\n",
              "      background-color: #434B5C;\n",
              "      box-shadow: 0px 1px 3px 1px rgba(0, 0, 0, 0.15);\n",
              "      filter: drop-shadow(0px 1px 2px rgba(0, 0, 0, 0.3));\n",
              "      fill: #FFFFFF;\n",
              "    }\n",
              "  </style>\n",
              "\n",
              "      <script>\n",
              "        const buttonEl =\n",
              "          document.querySelector('#df-e4276b38-c56e-4a3c-a31b-085f4eb96fb6 button.colab-df-convert');\n",
              "        buttonEl.style.display =\n",
              "          google.colab.kernel.accessAllowed ? 'block' : 'none';\n",
              "\n",
              "        async function convertToInteractive(key) {\n",
              "          const element = document.querySelector('#df-e4276b38-c56e-4a3c-a31b-085f4eb96fb6');\n",
              "          const dataTable =\n",
              "            await google.colab.kernel.invokeFunction('convertToInteractive',\n",
              "                                                     [key], {});\n",
              "          if (!dataTable) return;\n",
              "\n",
              "          const docLinkHtml = 'Like what you see? Visit the ' +\n",
              "            '<a target=\"_blank\" href=https://colab.research.google.com/notebooks/data_table.ipynb>data table notebook</a>'\n",
              "            + ' to learn more about interactive tables.';\n",
              "          element.innerHTML = '';\n",
              "          dataTable['output_type'] = 'display_data';\n",
              "          await google.colab.output.renderOutput(dataTable, element);\n",
              "          const docLink = document.createElement('div');\n",
              "          docLink.innerHTML = docLinkHtml;\n",
              "          element.appendChild(docLink);\n",
              "        }\n",
              "      </script>\n",
              "    </div>\n",
              "  </div>\n"
            ]
          },
          "metadata": {},
          "execution_count": 7
        }
      ],
      "source": [
        "df.describe()"
      ]
    },
    {
      "cell_type": "markdown",
      "metadata": {
        "id": "Y8AXOzWd8VI8"
      },
      "source": [
        "Depending on the initial success rate for each investment initial grades are given. However, the grades are used to show the application what of the results look like, the Machine Learning will then predict the testing set of the data set on it's own without knowing any of the grades to determine if the application is working accurately.\n",
        "\n",
        "\n"
      ]
    },
    {
      "cell_type": "code",
      "execution_count": null,
      "metadata": {
        "id": "6ZlsnlAlob7P"
      },
      "outputs": [],
      "source": [
        "grades = []\n",
        "\n",
        "for i in df['Successful']:\n",
        "    if(i >= 90):\n",
        "      grades.append('A')\n",
        "    elif(i >= 80):\n",
        "      grades.append('B')\n",
        "    elif(i >= 70):\n",
        "      grades.append('C')\n",
        "    elif(i >= 60):\n",
        "      grades.append('D')\n",
        "    elif(i < 60):\n",
        "      grades.append('F')\n",
        "\n",
        "df['Grades'] = grades"
      ]
    },
    {
      "cell_type": "markdown",
      "metadata": {
        "id": "hbTYNp4G-Z1z"
      },
      "source": [
        "The number counts of each letter grades currently in the data set.\n",
        "\n"
      ]
    },
    {
      "cell_type": "code",
      "execution_count": null,
      "metadata": {
        "colab": {
          "base_uri": "https://localhost:8080/"
        },
        "id": "AdU1kuE7oGHs",
        "outputId": "8ada2719-fef9-4d73-dacf-ef676db51539"
      },
      "outputs": [
        {
          "output_type": "execute_result",
          "data": {
            "text/plain": [
              "C    19\n",
              "A    11\n",
              "D    10\n",
              "B    10\n",
              "F     9\n",
              "Name: Grades, dtype: int64"
            ]
          },
          "metadata": {},
          "execution_count": 9
        }
      ],
      "source": [
        "df['Grades'].value_counts()"
      ]
    },
    {
      "cell_type": "markdown",
      "metadata": {
        "id": "7_HMZaZha15Y"
      },
      "source": [
        "##**Data Preparation**"
      ]
    },
    {
      "cell_type": "markdown",
      "metadata": {
        "id": "pOZuTh1mt7xo"
      },
      "source": [
        "###Column Dropping"
      ]
    },
    {
      "cell_type": "markdown",
      "metadata": {
        "id": "WCy8r8li-uUG"
      },
      "source": [
        "We drop the \"Investment Name\" and \"Date\" columns since technically this isn't considered numerical data that can be leveraged by the SVM classifier. We also remove the successful column since we don't want out ML environment to be able to see the actual percentages since it would give it an unfair advantage.\n",
        "\n"
      ]
    },
    {
      "cell_type": "code",
      "execution_count": null,
      "metadata": {
        "id": "coBdDCdXRMAr"
      },
      "outputs": [],
      "source": [
        "df = df.drop(columns='Investment Name')"
      ]
    },
    {
      "cell_type": "code",
      "execution_count": null,
      "metadata": {
        "id": "xkWDz73La8Wn"
      },
      "outputs": [],
      "source": [
        "df = df.drop(columns='Date')"
      ]
    },
    {
      "cell_type": "code",
      "execution_count": null,
      "metadata": {
        "id": "W5AjXB-NqEJK"
      },
      "outputs": [],
      "source": [
        "df = df.drop(columns='Successful')"
      ]
    },
    {
      "cell_type": "markdown",
      "metadata": {
        "id": "ibWOeg1Q_Nm7"
      },
      "source": [
        "Here is what our new data set head will look like now only containing KPI values.\n",
        "\n",
        "KPIs (Key Performance Indicators) / Variables:\n",
        "1.   Return on Investment: Used to measured the winnings or losses created by an investment.\n",
        "2.   Debt-to-Equity: Indicates the amount of debt which a company is taking on. Calculated by dividing total liabilities by shareholder's equity which can be found on its balance sheet.\n",
        "3.   Profit Margins: Profit margins provide insights into a company's profitability. Key metrics include gross profit margin (revenue minus cost of goods sold divided by revenue) and net profit margin (net income divided by revenue). Higher margins suggest efficient operations and pricing power.\n",
        "4.   Social Media Engagement Rate: For companies with a strong social media presence, monitoring metrics like likes, shares, comments, and followers can help gauge customer engagement, brand awareness, and potential market sentiment.\n",
        "5.   P/E Ratio: Used to take a company's current market capitalization and divide it by it's annual earnings.\n",
        "\n",
        "Note: Grades column is here currently but will be removed soon to start the data splitting.\n",
        "\n"
      ]
    },
    {
      "cell_type": "code",
      "execution_count": null,
      "metadata": {
        "colab": {
          "base_uri": "https://localhost:8080/",
          "height": 268
        },
        "id": "izS1XQ2i-rX9",
        "outputId": "0d65b381-2e32-4231-da60-1e7e3cc05061"
      },
      "outputs": [
        {
          "output_type": "execute_result",
          "data": {
            "text/plain": [
              "   Return On Investment  Debt-to-Equity  Profit Margin  \\\n",
              "0                 92.42            0.15          33.25   \n",
              "1                 30.99            0.00          21.45   \n",
              "2                 45.63            0.01          24.63   \n",
              "3                 25.70            0.19          22.53   \n",
              "4                  4.05            6.21           0.34   \n",
              "\n",
              "   Social Media Engagement  P/E Ratio Grades  \n",
              "0                       10      56.57      A  \n",
              "1                        9      23.47      A  \n",
              "2                        9      30.06      A  \n",
              "3                        8      27.82      A  \n",
              "4                        5       0.00      F  "
            ],
            "text/html": [
              "\n",
              "\n",
              "  <div id=\"df-abcf9aa0-d90f-4ca4-8548-bd2ffb32bbcd\">\n",
              "    <div class=\"colab-df-container\">\n",
              "      <div>\n",
              "<style scoped>\n",
              "    .dataframe tbody tr th:only-of-type {\n",
              "        vertical-align: middle;\n",
              "    }\n",
              "\n",
              "    .dataframe tbody tr th {\n",
              "        vertical-align: top;\n",
              "    }\n",
              "\n",
              "    .dataframe thead th {\n",
              "        text-align: right;\n",
              "    }\n",
              "</style>\n",
              "<table border=\"1\" class=\"dataframe\">\n",
              "  <thead>\n",
              "    <tr style=\"text-align: right;\">\n",
              "      <th></th>\n",
              "      <th>Return On Investment</th>\n",
              "      <th>Debt-to-Equity</th>\n",
              "      <th>Profit Margin</th>\n",
              "      <th>Social Media Engagement</th>\n",
              "      <th>P/E Ratio</th>\n",
              "      <th>Grades</th>\n",
              "    </tr>\n",
              "  </thead>\n",
              "  <tbody>\n",
              "    <tr>\n",
              "      <th>0</th>\n",
              "      <td>92.42</td>\n",
              "      <td>0.15</td>\n",
              "      <td>33.25</td>\n",
              "      <td>10</td>\n",
              "      <td>56.57</td>\n",
              "      <td>A</td>\n",
              "    </tr>\n",
              "    <tr>\n",
              "      <th>1</th>\n",
              "      <td>30.99</td>\n",
              "      <td>0.00</td>\n",
              "      <td>21.45</td>\n",
              "      <td>9</td>\n",
              "      <td>23.47</td>\n",
              "      <td>A</td>\n",
              "    </tr>\n",
              "    <tr>\n",
              "      <th>2</th>\n",
              "      <td>45.63</td>\n",
              "      <td>0.01</td>\n",
              "      <td>24.63</td>\n",
              "      <td>9</td>\n",
              "      <td>30.06</td>\n",
              "      <td>A</td>\n",
              "    </tr>\n",
              "    <tr>\n",
              "      <th>3</th>\n",
              "      <td>25.70</td>\n",
              "      <td>0.19</td>\n",
              "      <td>22.53</td>\n",
              "      <td>8</td>\n",
              "      <td>27.82</td>\n",
              "      <td>A</td>\n",
              "    </tr>\n",
              "    <tr>\n",
              "      <th>4</th>\n",
              "      <td>4.05</td>\n",
              "      <td>6.21</td>\n",
              "      <td>0.34</td>\n",
              "      <td>5</td>\n",
              "      <td>0.00</td>\n",
              "      <td>F</td>\n",
              "    </tr>\n",
              "  </tbody>\n",
              "</table>\n",
              "</div>\n",
              "      <button class=\"colab-df-convert\" onclick=\"convertToInteractive('df-abcf9aa0-d90f-4ca4-8548-bd2ffb32bbcd')\"\n",
              "              title=\"Convert this dataframe to an interactive table.\"\n",
              "              style=\"display:none;\">\n",
              "\n",
              "  <svg xmlns=\"http://www.w3.org/2000/svg\" height=\"24px\"viewBox=\"0 0 24 24\"\n",
              "       width=\"24px\">\n",
              "    <path d=\"M0 0h24v24H0V0z\" fill=\"none\"/>\n",
              "    <path d=\"M18.56 5.44l.94 2.06.94-2.06 2.06-.94-2.06-.94-.94-2.06-.94 2.06-2.06.94zm-11 1L8.5 8.5l.94-2.06 2.06-.94-2.06-.94L8.5 2.5l-.94 2.06-2.06.94zm10 10l.94 2.06.94-2.06 2.06-.94-2.06-.94-.94-2.06-.94 2.06-2.06.94z\"/><path d=\"M17.41 7.96l-1.37-1.37c-.4-.4-.92-.59-1.43-.59-.52 0-1.04.2-1.43.59L10.3 9.45l-7.72 7.72c-.78.78-.78 2.05 0 2.83L4 21.41c.39.39.9.59 1.41.59.51 0 1.02-.2 1.41-.59l7.78-7.78 2.81-2.81c.8-.78.8-2.07 0-2.86zM5.41 20L4 18.59l7.72-7.72 1.47 1.35L5.41 20z\"/>\n",
              "  </svg>\n",
              "      </button>\n",
              "\n",
              "\n",
              "\n",
              "    <div id=\"df-7421f73c-a4b3-4a42-b068-e3531ac2977c\">\n",
              "      <button class=\"colab-df-quickchart\" onclick=\"quickchart('df-7421f73c-a4b3-4a42-b068-e3531ac2977c')\"\n",
              "              title=\"Suggest charts.\"\n",
              "              style=\"display:none;\">\n",
              "\n",
              "<svg xmlns=\"http://www.w3.org/2000/svg\" height=\"24px\"viewBox=\"0 0 24 24\"\n",
              "     width=\"24px\">\n",
              "    <g>\n",
              "        <path d=\"M19 3H5c-1.1 0-2 .9-2 2v14c0 1.1.9 2 2 2h14c1.1 0 2-.9 2-2V5c0-1.1-.9-2-2-2zM9 17H7v-7h2v7zm4 0h-2V7h2v10zm4 0h-2v-4h2v4z\"/>\n",
              "    </g>\n",
              "</svg>\n",
              "      </button>\n",
              "    </div>\n",
              "\n",
              "<style>\n",
              "  .colab-df-quickchart {\n",
              "    background-color: #E8F0FE;\n",
              "    border: none;\n",
              "    border-radius: 50%;\n",
              "    cursor: pointer;\n",
              "    display: none;\n",
              "    fill: #1967D2;\n",
              "    height: 32px;\n",
              "    padding: 0 0 0 0;\n",
              "    width: 32px;\n",
              "  }\n",
              "\n",
              "  .colab-df-quickchart:hover {\n",
              "    background-color: #E2EBFA;\n",
              "    box-shadow: 0px 1px 2px rgba(60, 64, 67, 0.3), 0px 1px 3px 1px rgba(60, 64, 67, 0.15);\n",
              "    fill: #174EA6;\n",
              "  }\n",
              "\n",
              "  [theme=dark] .colab-df-quickchart {\n",
              "    background-color: #3B4455;\n",
              "    fill: #D2E3FC;\n",
              "  }\n",
              "\n",
              "  [theme=dark] .colab-df-quickchart:hover {\n",
              "    background-color: #434B5C;\n",
              "    box-shadow: 0px 1px 3px 1px rgba(0, 0, 0, 0.15);\n",
              "    filter: drop-shadow(0px 1px 2px rgba(0, 0, 0, 0.3));\n",
              "    fill: #FFFFFF;\n",
              "  }\n",
              "</style>\n",
              "\n",
              "    <script>\n",
              "      async function quickchart(key) {\n",
              "        const containerElement = document.querySelector('#' + key);\n",
              "        const charts = await google.colab.kernel.invokeFunction(\n",
              "            'suggestCharts', [key], {});\n",
              "      }\n",
              "    </script>\n",
              "\n",
              "      <script>\n",
              "\n",
              "function displayQuickchartButton(domScope) {\n",
              "  let quickchartButtonEl =\n",
              "    domScope.querySelector('#df-7421f73c-a4b3-4a42-b068-e3531ac2977c button.colab-df-quickchart');\n",
              "  quickchartButtonEl.style.display =\n",
              "    google.colab.kernel.accessAllowed ? 'block' : 'none';\n",
              "}\n",
              "\n",
              "        displayQuickchartButton(document);\n",
              "      </script>\n",
              "      <style>\n",
              "    .colab-df-container {\n",
              "      display:flex;\n",
              "      flex-wrap:wrap;\n",
              "      gap: 12px;\n",
              "    }\n",
              "\n",
              "    .colab-df-convert {\n",
              "      background-color: #E8F0FE;\n",
              "      border: none;\n",
              "      border-radius: 50%;\n",
              "      cursor: pointer;\n",
              "      display: none;\n",
              "      fill: #1967D2;\n",
              "      height: 32px;\n",
              "      padding: 0 0 0 0;\n",
              "      width: 32px;\n",
              "    }\n",
              "\n",
              "    .colab-df-convert:hover {\n",
              "      background-color: #E2EBFA;\n",
              "      box-shadow: 0px 1px 2px rgba(60, 64, 67, 0.3), 0px 1px 3px 1px rgba(60, 64, 67, 0.15);\n",
              "      fill: #174EA6;\n",
              "    }\n",
              "\n",
              "    [theme=dark] .colab-df-convert {\n",
              "      background-color: #3B4455;\n",
              "      fill: #D2E3FC;\n",
              "    }\n",
              "\n",
              "    [theme=dark] .colab-df-convert:hover {\n",
              "      background-color: #434B5C;\n",
              "      box-shadow: 0px 1px 3px 1px rgba(0, 0, 0, 0.15);\n",
              "      filter: drop-shadow(0px 1px 2px rgba(0, 0, 0, 0.3));\n",
              "      fill: #FFFFFF;\n",
              "    }\n",
              "  </style>\n",
              "\n",
              "      <script>\n",
              "        const buttonEl =\n",
              "          document.querySelector('#df-abcf9aa0-d90f-4ca4-8548-bd2ffb32bbcd button.colab-df-convert');\n",
              "        buttonEl.style.display =\n",
              "          google.colab.kernel.accessAllowed ? 'block' : 'none';\n",
              "\n",
              "        async function convertToInteractive(key) {\n",
              "          const element = document.querySelector('#df-abcf9aa0-d90f-4ca4-8548-bd2ffb32bbcd');\n",
              "          const dataTable =\n",
              "            await google.colab.kernel.invokeFunction('convertToInteractive',\n",
              "                                                     [key], {});\n",
              "          if (!dataTable) return;\n",
              "\n",
              "          const docLinkHtml = 'Like what you see? Visit the ' +\n",
              "            '<a target=\"_blank\" href=https://colab.research.google.com/notebooks/data_table.ipynb>data table notebook</a>'\n",
              "            + ' to learn more about interactive tables.';\n",
              "          element.innerHTML = '';\n",
              "          dataTable['output_type'] = 'display_data';\n",
              "          await google.colab.output.renderOutput(dataTable, element);\n",
              "          const docLink = document.createElement('div');\n",
              "          docLink.innerHTML = docLinkHtml;\n",
              "          element.appendChild(docLink);\n",
              "        }\n",
              "      </script>\n",
              "    </div>\n",
              "  </div>\n"
            ]
          },
          "metadata": {},
          "execution_count": 13
        }
      ],
      "source": [
        "df.head()"
      ]
    },
    {
      "cell_type": "markdown",
      "metadata": {
        "id": "l2QkibZJ_p3f"
      },
      "source": [
        "##**Data Splitting**"
      ]
    },
    {
      "cell_type": "markdown",
      "metadata": {
        "id": "fK3LT5sya5dO"
      },
      "source": [
        "###Dataset Transformations"
      ]
    },
    {
      "cell_type": "markdown",
      "metadata": {
        "id": "H_rcajWUa_f8"
      },
      "source": [
        "Data separation as X and y. With X being denoted as the testing set and Y being denoted as our training set."
      ]
    },
    {
      "cell_type": "code",
      "execution_count": null,
      "metadata": {
        "id": "R5jG-jbHpyyR"
      },
      "outputs": [],
      "source": [
        "X = df.drop(columns='Grades', axis = 1)\n",
        "Y = df['Grades']"
      ]
    },
    {
      "cell_type": "markdown",
      "metadata": {
        "id": "bjQSEWtCb0Zg"
      },
      "source": [
        "Next we implement the standard scaler package in order to ensure that the data will be able to fit with the SVM Classification machine learning model that we will be using in the next section."
      ]
    },
    {
      "cell_type": "code",
      "execution_count": null,
      "metadata": {
        "id": "7qoAud2VqPj6"
      },
      "outputs": [],
      "source": [
        "scaler = StandardScaler()"
      ]
    },
    {
      "cell_type": "code",
      "execution_count": null,
      "metadata": {
        "colab": {
          "base_uri": "https://localhost:8080/",
          "height": 75
        },
        "id": "-AgHgbcRqSk3",
        "outputId": "9c7604e0-23db-4f05-e283-9e3dccbf1af1"
      },
      "outputs": [
        {
          "output_type": "execute_result",
          "data": {
            "text/plain": [
              "StandardScaler()"
            ],
            "text/html": [
              "<style>#sk-container-id-1 {color: black;background-color: white;}#sk-container-id-1 pre{padding: 0;}#sk-container-id-1 div.sk-toggleable {background-color: white;}#sk-container-id-1 label.sk-toggleable__label {cursor: pointer;display: block;width: 100%;margin-bottom: 0;padding: 0.3em;box-sizing: border-box;text-align: center;}#sk-container-id-1 label.sk-toggleable__label-arrow:before {content: \"▸\";float: left;margin-right: 0.25em;color: #696969;}#sk-container-id-1 label.sk-toggleable__label-arrow:hover:before {color: black;}#sk-container-id-1 div.sk-estimator:hover label.sk-toggleable__label-arrow:before {color: black;}#sk-container-id-1 div.sk-toggleable__content {max-height: 0;max-width: 0;overflow: hidden;text-align: left;background-color: #f0f8ff;}#sk-container-id-1 div.sk-toggleable__content pre {margin: 0.2em;color: black;border-radius: 0.25em;background-color: #f0f8ff;}#sk-container-id-1 input.sk-toggleable__control:checked~div.sk-toggleable__content {max-height: 200px;max-width: 100%;overflow: auto;}#sk-container-id-1 input.sk-toggleable__control:checked~label.sk-toggleable__label-arrow:before {content: \"▾\";}#sk-container-id-1 div.sk-estimator input.sk-toggleable__control:checked~label.sk-toggleable__label {background-color: #d4ebff;}#sk-container-id-1 div.sk-label input.sk-toggleable__control:checked~label.sk-toggleable__label {background-color: #d4ebff;}#sk-container-id-1 input.sk-hidden--visually {border: 0;clip: rect(1px 1px 1px 1px);clip: rect(1px, 1px, 1px, 1px);height: 1px;margin: -1px;overflow: hidden;padding: 0;position: absolute;width: 1px;}#sk-container-id-1 div.sk-estimator {font-family: monospace;background-color: #f0f8ff;border: 1px dotted black;border-radius: 0.25em;box-sizing: border-box;margin-bottom: 0.5em;}#sk-container-id-1 div.sk-estimator:hover {background-color: #d4ebff;}#sk-container-id-1 div.sk-parallel-item::after {content: \"\";width: 100%;border-bottom: 1px solid gray;flex-grow: 1;}#sk-container-id-1 div.sk-label:hover label.sk-toggleable__label {background-color: #d4ebff;}#sk-container-id-1 div.sk-serial::before {content: \"\";position: absolute;border-left: 1px solid gray;box-sizing: border-box;top: 0;bottom: 0;left: 50%;z-index: 0;}#sk-container-id-1 div.sk-serial {display: flex;flex-direction: column;align-items: center;background-color: white;padding-right: 0.2em;padding-left: 0.2em;position: relative;}#sk-container-id-1 div.sk-item {position: relative;z-index: 1;}#sk-container-id-1 div.sk-parallel {display: flex;align-items: stretch;justify-content: center;background-color: white;position: relative;}#sk-container-id-1 div.sk-item::before, #sk-container-id-1 div.sk-parallel-item::before {content: \"\";position: absolute;border-left: 1px solid gray;box-sizing: border-box;top: 0;bottom: 0;left: 50%;z-index: -1;}#sk-container-id-1 div.sk-parallel-item {display: flex;flex-direction: column;z-index: 1;position: relative;background-color: white;}#sk-container-id-1 div.sk-parallel-item:first-child::after {align-self: flex-end;width: 50%;}#sk-container-id-1 div.sk-parallel-item:last-child::after {align-self: flex-start;width: 50%;}#sk-container-id-1 div.sk-parallel-item:only-child::after {width: 0;}#sk-container-id-1 div.sk-dashed-wrapped {border: 1px dashed gray;margin: 0 0.4em 0.5em 0.4em;box-sizing: border-box;padding-bottom: 0.4em;background-color: white;}#sk-container-id-1 div.sk-label label {font-family: monospace;font-weight: bold;display: inline-block;line-height: 1.2em;}#sk-container-id-1 div.sk-label-container {text-align: center;}#sk-container-id-1 div.sk-container {/* jupyter's `normalize.less` sets `[hidden] { display: none; }` but bootstrap.min.css set `[hidden] { display: none !important; }` so we also need the `!important` here to be able to override the default hidden behavior on the sphinx rendered scikit-learn.org. See: https://github.com/scikit-learn/scikit-learn/issues/21755 */display: inline-block !important;position: relative;}#sk-container-id-1 div.sk-text-repr-fallback {display: none;}</style><div id=\"sk-container-id-1\" class=\"sk-top-container\"><div class=\"sk-text-repr-fallback\"><pre>StandardScaler()</pre><b>In a Jupyter environment, please rerun this cell to show the HTML representation or trust the notebook. <br />On GitHub, the HTML representation is unable to render, please try loading this page with nbviewer.org.</b></div><div class=\"sk-container\" hidden><div class=\"sk-item\"><div class=\"sk-estimator sk-toggleable\"><input class=\"sk-toggleable__control sk-hidden--visually\" id=\"sk-estimator-id-1\" type=\"checkbox\" checked><label for=\"sk-estimator-id-1\" class=\"sk-toggleable__label sk-toggleable__label-arrow\">StandardScaler</label><div class=\"sk-toggleable__content\"><pre>StandardScaler()</pre></div></div></div></div></div>"
            ]
          },
          "metadata": {},
          "execution_count": 16
        }
      ],
      "source": [
        "scaler.fit(X)"
      ]
    },
    {
      "cell_type": "markdown",
      "metadata": {
        "id": "E-zY26xScCJ2"
      },
      "source": [
        "Standard scaler transformation now takes place which now allows our training data set to be fed into our machine learning model"
      ]
    },
    {
      "cell_type": "code",
      "execution_count": null,
      "metadata": {
        "id": "N7BhzQifqEqH"
      },
      "outputs": [],
      "source": [
        "stdata = scaler.transform(X)"
      ]
    },
    {
      "cell_type": "code",
      "execution_count": null,
      "metadata": {
        "id": "1fAwLWfsqVfC"
      },
      "outputs": [],
      "source": [
        "X = stdata"
      ]
    },
    {
      "cell_type": "markdown",
      "metadata": {
        "id": "d9FWA4EFcMJK"
      },
      "source": [
        "Next we create two data sets a testing data set and training data set with standard conventions that are typically used by machine learning models. Our testing data set will be 20% the size of our original data set, while our training data set will be 80% of the size of our original data set."
      ]
    },
    {
      "cell_type": "code",
      "execution_count": null,
      "metadata": {
        "id": "zhgQYjCi55rb"
      },
      "outputs": [],
      "source": [
        "X_train,X_test,Y_train,Y_test = train_test_split(X,Y, test_size=0.2, stratify=Y, random_state=2)"
      ]
    },
    {
      "cell_type": "markdown",
      "metadata": {
        "id": "QDgLGVqDcn9i"
      },
      "source": [
        "We print out the shape of the testing and training data just to verify once again that changes took place."
      ]
    },
    {
      "cell_type": "code",
      "execution_count": null,
      "metadata": {
        "colab": {
          "base_uri": "https://localhost:8080/"
        },
        "id": "kagtnORN9j1U",
        "outputId": "25edcba1-ca43-403c-a431-1dce2a38ddef"
      },
      "outputs": [
        {
          "output_type": "stream",
          "name": "stdout",
          "text": [
            "(59, 5) (12, 5) (47, 5)\n"
          ]
        }
      ],
      "source": [
        "print(X.shape, X_test.shape, X_train.shape)"
      ]
    },
    {
      "cell_type": "markdown",
      "metadata": {
        "id": "gYo-_mr8a8uy"
      },
      "source": [
        "###SVM Classification Algorithm"
      ]
    },
    {
      "cell_type": "markdown",
      "metadata": {
        "id": "ii2OwrOFpsN3"
      },
      "source": [
        "Here we are now going to run the SVM classifier through our code and this will allow us to now be able to test our ML environment.\n",
        "\n",
        "**Support Vector Machine (SVM) Algorithm:** Are very helpful in determining complex relationships within our data set which is why it is a better fit than other algorithms like liner regression or logisitic regression."
      ]
    },
    {
      "cell_type": "code",
      "execution_count": null,
      "metadata": {
        "id": "g_hoodsu9vSx"
      },
      "outputs": [],
      "source": [
        "classifier = svm.SVC(kernel='linear')"
      ]
    },
    {
      "cell_type": "markdown",
      "metadata": {
        "id": "DExF6AqJaDgm"
      },
      "source": [
        "In our SVM model I chose to use a linear kernel in conjunction with our classification model in order to allow us the ability to skip the process of mapping our data onto higher dimensional space and calculate the inner product directly. Which in theory leads to a more efficient program."
      ]
    },
    {
      "cell_type": "code",
      "execution_count": null,
      "metadata": {
        "colab": {
          "base_uri": "https://localhost:8080/",
          "height": 75
        },
        "id": "8PC-OeTe-P0Y",
        "outputId": "9c590b7b-b884-41a0-d788-d89e5000c697"
      },
      "outputs": [
        {
          "output_type": "execute_result",
          "data": {
            "text/plain": [
              "SVC(kernel='linear')"
            ],
            "text/html": [
              "<style>#sk-container-id-2 {color: black;background-color: white;}#sk-container-id-2 pre{padding: 0;}#sk-container-id-2 div.sk-toggleable {background-color: white;}#sk-container-id-2 label.sk-toggleable__label {cursor: pointer;display: block;width: 100%;margin-bottom: 0;padding: 0.3em;box-sizing: border-box;text-align: center;}#sk-container-id-2 label.sk-toggleable__label-arrow:before {content: \"▸\";float: left;margin-right: 0.25em;color: #696969;}#sk-container-id-2 label.sk-toggleable__label-arrow:hover:before {color: black;}#sk-container-id-2 div.sk-estimator:hover label.sk-toggleable__label-arrow:before {color: black;}#sk-container-id-2 div.sk-toggleable__content {max-height: 0;max-width: 0;overflow: hidden;text-align: left;background-color: #f0f8ff;}#sk-container-id-2 div.sk-toggleable__content pre {margin: 0.2em;color: black;border-radius: 0.25em;background-color: #f0f8ff;}#sk-container-id-2 input.sk-toggleable__control:checked~div.sk-toggleable__content {max-height: 200px;max-width: 100%;overflow: auto;}#sk-container-id-2 input.sk-toggleable__control:checked~label.sk-toggleable__label-arrow:before {content: \"▾\";}#sk-container-id-2 div.sk-estimator input.sk-toggleable__control:checked~label.sk-toggleable__label {background-color: #d4ebff;}#sk-container-id-2 div.sk-label input.sk-toggleable__control:checked~label.sk-toggleable__label {background-color: #d4ebff;}#sk-container-id-2 input.sk-hidden--visually {border: 0;clip: rect(1px 1px 1px 1px);clip: rect(1px, 1px, 1px, 1px);height: 1px;margin: -1px;overflow: hidden;padding: 0;position: absolute;width: 1px;}#sk-container-id-2 div.sk-estimator {font-family: monospace;background-color: #f0f8ff;border: 1px dotted black;border-radius: 0.25em;box-sizing: border-box;margin-bottom: 0.5em;}#sk-container-id-2 div.sk-estimator:hover {background-color: #d4ebff;}#sk-container-id-2 div.sk-parallel-item::after {content: \"\";width: 100%;border-bottom: 1px solid gray;flex-grow: 1;}#sk-container-id-2 div.sk-label:hover label.sk-toggleable__label {background-color: #d4ebff;}#sk-container-id-2 div.sk-serial::before {content: \"\";position: absolute;border-left: 1px solid gray;box-sizing: border-box;top: 0;bottom: 0;left: 50%;z-index: 0;}#sk-container-id-2 div.sk-serial {display: flex;flex-direction: column;align-items: center;background-color: white;padding-right: 0.2em;padding-left: 0.2em;position: relative;}#sk-container-id-2 div.sk-item {position: relative;z-index: 1;}#sk-container-id-2 div.sk-parallel {display: flex;align-items: stretch;justify-content: center;background-color: white;position: relative;}#sk-container-id-2 div.sk-item::before, #sk-container-id-2 div.sk-parallel-item::before {content: \"\";position: absolute;border-left: 1px solid gray;box-sizing: border-box;top: 0;bottom: 0;left: 50%;z-index: -1;}#sk-container-id-2 div.sk-parallel-item {display: flex;flex-direction: column;z-index: 1;position: relative;background-color: white;}#sk-container-id-2 div.sk-parallel-item:first-child::after {align-self: flex-end;width: 50%;}#sk-container-id-2 div.sk-parallel-item:last-child::after {align-self: flex-start;width: 50%;}#sk-container-id-2 div.sk-parallel-item:only-child::after {width: 0;}#sk-container-id-2 div.sk-dashed-wrapped {border: 1px dashed gray;margin: 0 0.4em 0.5em 0.4em;box-sizing: border-box;padding-bottom: 0.4em;background-color: white;}#sk-container-id-2 div.sk-label label {font-family: monospace;font-weight: bold;display: inline-block;line-height: 1.2em;}#sk-container-id-2 div.sk-label-container {text-align: center;}#sk-container-id-2 div.sk-container {/* jupyter's `normalize.less` sets `[hidden] { display: none; }` but bootstrap.min.css set `[hidden] { display: none !important; }` so we also need the `!important` here to be able to override the default hidden behavior on the sphinx rendered scikit-learn.org. See: https://github.com/scikit-learn/scikit-learn/issues/21755 */display: inline-block !important;position: relative;}#sk-container-id-2 div.sk-text-repr-fallback {display: none;}</style><div id=\"sk-container-id-2\" class=\"sk-top-container\"><div class=\"sk-text-repr-fallback\"><pre>SVC(kernel=&#x27;linear&#x27;)</pre><b>In a Jupyter environment, please rerun this cell to show the HTML representation or trust the notebook. <br />On GitHub, the HTML representation is unable to render, please try loading this page with nbviewer.org.</b></div><div class=\"sk-container\" hidden><div class=\"sk-item\"><div class=\"sk-estimator sk-toggleable\"><input class=\"sk-toggleable__control sk-hidden--visually\" id=\"sk-estimator-id-2\" type=\"checkbox\" checked><label for=\"sk-estimator-id-2\" class=\"sk-toggleable__label sk-toggleable__label-arrow\">SVC</label><div class=\"sk-toggleable__content\"><pre>SVC(kernel=&#x27;linear&#x27;)</pre></div></div></div></div></div>"
            ]
          },
          "metadata": {},
          "execution_count": 22
        }
      ],
      "source": [
        "classifier.fit(X_train, Y_train)"
      ]
    },
    {
      "cell_type": "markdown",
      "metadata": {
        "id": "vpQbXJI8ay9F"
      },
      "source": [
        "###Dataset Prediction Accuracy"
      ]
    },
    {
      "cell_type": "markdown",
      "metadata": {
        "id": "x6jT138gp4Mr"
      },
      "source": [
        "Here we have the results of the testing and already without even a large data set we see that the model can currently predict 93% of the results correctly.\n",
        "\n",
        "**New Dataset Note:** It is important to note that the accuracy of the model does not correlate to correct predictions, but rather how many trends and relations can be found within the data. So if your accuracy of a new dataset is low that is okay. The main thing is even with low accuracy that the new trained model is making decisions that seem logical and understandable after you input the data. Over time, however, the accuracy should go up depending on your sample size, so this metric should not be used to grade the model."
      ]
    },
    {
      "cell_type": "code",
      "execution_count": null,
      "metadata": {
        "id": "TxfemtAM-yUG"
      },
      "outputs": [],
      "source": [
        "train_pred = classifier.predict(X_train)\n",
        "accuracy = accuracy_score(train_pred, Y_train)"
      ]
    },
    {
      "cell_type": "markdown",
      "metadata": {
        "id": "X-4cSTZDalbb"
      },
      "source": [
        "Training dataset score accuracy:"
      ]
    },
    {
      "cell_type": "code",
      "execution_count": null,
      "metadata": {
        "colab": {
          "base_uri": "https://localhost:8080/"
        },
        "id": "Rnud1HDm_5UV",
        "outputId": "f41e2559-3f8f-44a3-f2c4-4b01e95dc6a1"
      },
      "outputs": [
        {
          "output_type": "stream",
          "name": "stdout",
          "text": [
            "Accuracy score of train data = 0.9361702127659575\n"
          ]
        }
      ],
      "source": [
        "print(\"Accuracy score of train data = {}\".format(accuracy))"
      ]
    },
    {
      "cell_type": "markdown",
      "metadata": {
        "id": "zSl8-SZZaqE9"
      },
      "source": [
        "Testing dataset score accuracy:"
      ]
    },
    {
      "cell_type": "code",
      "execution_count": null,
      "metadata": {
        "id": "pOO7gHarAkFt"
      },
      "outputs": [],
      "source": [
        "test_pred = classifier.predict(X_test)\n",
        "accuracy2 = accuracy_score(test_pred, Y_test)"
      ]
    },
    {
      "cell_type": "code",
      "execution_count": null,
      "metadata": {
        "colab": {
          "base_uri": "https://localhost:8080/"
        },
        "id": "NZuWg2V6A1Gt",
        "outputId": "af7cfaf3-c115-4536-a89f-624d2177b05f"
      },
      "outputs": [
        {
          "output_type": "stream",
          "name": "stdout",
          "text": [
            "Accuracy score on test data = 0.9166666666666666\n"
          ]
        }
      ],
      "source": [
        "print('Accuracy score on test data = {}'.format(accuracy2))"
      ]
    },
    {
      "cell_type": "markdown",
      "metadata": {
        "id": "V8hApfhHfWwt"
      },
      "source": [
        "##**Investment Prediction**"
      ]
    },
    {
      "cell_type": "markdown",
      "metadata": {
        "id": "5NMB88CHgE-0"
      },
      "source": [
        "###Dataset Information and Rules"
      ]
    },
    {
      "cell_type": "markdown",
      "metadata": {
        "id": "j734J8LrAdWA"
      },
      "source": [
        "Here is the data set head for reference.\n",
        "\n",
        "KPIs (Key Performance Indicators) / Variables:\n",
        "1.   Return on Investment: Used to measured the winnings or losses created by an investment.\n",
        "2.   Debt-to-Equity: Indicates the amount of debt which a company is taking on. Calculated by dividing total liabilities by shareholder's equity which can be found on its balance sheet.\n",
        "3.   Profit Margins: Profit margins provide insights into a company's profitability. Key metrics include gross profit margin (revenue minus cost of goods sold divided by revenue) and net profit margin (net income divided by revenue). Higher margins suggest efficient operations and pricing power.\n",
        "4.   Social Media Engagement Rate: For companies with a strong social media presence, monitoring metrics like likes, shares, comments, and followers can help gauge customer engagement, brand awareness, and potential market sentiment.\n",
        "5.   P/E Ratio: Used to take a company's current market capitalization and divide it by it's annual earnings.\n",
        "\n",
        "Note: Grades column will not be seen by the testing set and is only shown now for reference as to what the prediction features will look like.\n",
        "\n"
      ]
    },
    {
      "cell_type": "code",
      "execution_count": null,
      "metadata": {
        "colab": {
          "base_uri": "https://localhost:8080/",
          "height": 424
        },
        "id": "_dOG_jwirENn",
        "outputId": "867701b1-4cd9-44d7-8f8e-666c4055a9d3"
      },
      "outputs": [
        {
          "output_type": "execute_result",
          "data": {
            "text/plain": [
              "   Return On Investment  Debt-to-Equity  Profit Margin  \\\n",
              "0                 92.42            0.15          33.25   \n",
              "1                 30.99            0.00          21.45   \n",
              "2                 45.63            0.01          24.63   \n",
              "3                 25.70            0.19          22.53   \n",
              "4                  4.05            6.21           0.34   \n",
              "5                  3.40            5.03           1.49   \n",
              "6                  2.50            6.47           0.14   \n",
              "7                  1.03            8.50           0.79   \n",
              "8                 25.11            0.07          20.43   \n",
              "9                  3.47            5.52           0.58   \n",
              "\n",
              "   Social Media Engagement  P/E Ratio Grades  \n",
              "0                       10      56.57      A  \n",
              "1                        9      23.47      A  \n",
              "2                        9      30.06      A  \n",
              "3                        8      27.82      A  \n",
              "4                        5       0.00      F  \n",
              "5                        6       6.57      F  \n",
              "6                        2       0.00      F  \n",
              "7                        2       0.18      F  \n",
              "8                        8      21.59      A  \n",
              "9                        4       0.00      F  "
            ],
            "text/html": [
              "\n",
              "\n",
              "  <div id=\"df-1e8c5585-bc32-456b-ba49-5893d764ba19\">\n",
              "    <div class=\"colab-df-container\">\n",
              "      <div>\n",
              "<style scoped>\n",
              "    .dataframe tbody tr th:only-of-type {\n",
              "        vertical-align: middle;\n",
              "    }\n",
              "\n",
              "    .dataframe tbody tr th {\n",
              "        vertical-align: top;\n",
              "    }\n",
              "\n",
              "    .dataframe thead th {\n",
              "        text-align: right;\n",
              "    }\n",
              "</style>\n",
              "<table border=\"1\" class=\"dataframe\">\n",
              "  <thead>\n",
              "    <tr style=\"text-align: right;\">\n",
              "      <th></th>\n",
              "      <th>Return On Investment</th>\n",
              "      <th>Debt-to-Equity</th>\n",
              "      <th>Profit Margin</th>\n",
              "      <th>Social Media Engagement</th>\n",
              "      <th>P/E Ratio</th>\n",
              "      <th>Grades</th>\n",
              "    </tr>\n",
              "  </thead>\n",
              "  <tbody>\n",
              "    <tr>\n",
              "      <th>0</th>\n",
              "      <td>92.42</td>\n",
              "      <td>0.15</td>\n",
              "      <td>33.25</td>\n",
              "      <td>10</td>\n",
              "      <td>56.57</td>\n",
              "      <td>A</td>\n",
              "    </tr>\n",
              "    <tr>\n",
              "      <th>1</th>\n",
              "      <td>30.99</td>\n",
              "      <td>0.00</td>\n",
              "      <td>21.45</td>\n",
              "      <td>9</td>\n",
              "      <td>23.47</td>\n",
              "      <td>A</td>\n",
              "    </tr>\n",
              "    <tr>\n",
              "      <th>2</th>\n",
              "      <td>45.63</td>\n",
              "      <td>0.01</td>\n",
              "      <td>24.63</td>\n",
              "      <td>9</td>\n",
              "      <td>30.06</td>\n",
              "      <td>A</td>\n",
              "    </tr>\n",
              "    <tr>\n",
              "      <th>3</th>\n",
              "      <td>25.70</td>\n",
              "      <td>0.19</td>\n",
              "      <td>22.53</td>\n",
              "      <td>8</td>\n",
              "      <td>27.82</td>\n",
              "      <td>A</td>\n",
              "    </tr>\n",
              "    <tr>\n",
              "      <th>4</th>\n",
              "      <td>4.05</td>\n",
              "      <td>6.21</td>\n",
              "      <td>0.34</td>\n",
              "      <td>5</td>\n",
              "      <td>0.00</td>\n",
              "      <td>F</td>\n",
              "    </tr>\n",
              "    <tr>\n",
              "      <th>5</th>\n",
              "      <td>3.40</td>\n",
              "      <td>5.03</td>\n",
              "      <td>1.49</td>\n",
              "      <td>6</td>\n",
              "      <td>6.57</td>\n",
              "      <td>F</td>\n",
              "    </tr>\n",
              "    <tr>\n",
              "      <th>6</th>\n",
              "      <td>2.50</td>\n",
              "      <td>6.47</td>\n",
              "      <td>0.14</td>\n",
              "      <td>2</td>\n",
              "      <td>0.00</td>\n",
              "      <td>F</td>\n",
              "    </tr>\n",
              "    <tr>\n",
              "      <th>7</th>\n",
              "      <td>1.03</td>\n",
              "      <td>8.50</td>\n",
              "      <td>0.79</td>\n",
              "      <td>2</td>\n",
              "      <td>0.18</td>\n",
              "      <td>F</td>\n",
              "    </tr>\n",
              "    <tr>\n",
              "      <th>8</th>\n",
              "      <td>25.11</td>\n",
              "      <td>0.07</td>\n",
              "      <td>20.43</td>\n",
              "      <td>8</td>\n",
              "      <td>21.59</td>\n",
              "      <td>A</td>\n",
              "    </tr>\n",
              "    <tr>\n",
              "      <th>9</th>\n",
              "      <td>3.47</td>\n",
              "      <td>5.52</td>\n",
              "      <td>0.58</td>\n",
              "      <td>4</td>\n",
              "      <td>0.00</td>\n",
              "      <td>F</td>\n",
              "    </tr>\n",
              "  </tbody>\n",
              "</table>\n",
              "</div>\n",
              "      <button class=\"colab-df-convert\" onclick=\"convertToInteractive('df-1e8c5585-bc32-456b-ba49-5893d764ba19')\"\n",
              "              title=\"Convert this dataframe to an interactive table.\"\n",
              "              style=\"display:none;\">\n",
              "\n",
              "  <svg xmlns=\"http://www.w3.org/2000/svg\" height=\"24px\"viewBox=\"0 0 24 24\"\n",
              "       width=\"24px\">\n",
              "    <path d=\"M0 0h24v24H0V0z\" fill=\"none\"/>\n",
              "    <path d=\"M18.56 5.44l.94 2.06.94-2.06 2.06-.94-2.06-.94-.94-2.06-.94 2.06-2.06.94zm-11 1L8.5 8.5l.94-2.06 2.06-.94-2.06-.94L8.5 2.5l-.94 2.06-2.06.94zm10 10l.94 2.06.94-2.06 2.06-.94-2.06-.94-.94-2.06-.94 2.06-2.06.94z\"/><path d=\"M17.41 7.96l-1.37-1.37c-.4-.4-.92-.59-1.43-.59-.52 0-1.04.2-1.43.59L10.3 9.45l-7.72 7.72c-.78.78-.78 2.05 0 2.83L4 21.41c.39.39.9.59 1.41.59.51 0 1.02-.2 1.41-.59l7.78-7.78 2.81-2.81c.8-.78.8-2.07 0-2.86zM5.41 20L4 18.59l7.72-7.72 1.47 1.35L5.41 20z\"/>\n",
              "  </svg>\n",
              "      </button>\n",
              "\n",
              "\n",
              "\n",
              "    <div id=\"df-722addf6-bf16-492b-965b-9bb2e36a6f7f\">\n",
              "      <button class=\"colab-df-quickchart\" onclick=\"quickchart('df-722addf6-bf16-492b-965b-9bb2e36a6f7f')\"\n",
              "              title=\"Suggest charts.\"\n",
              "              style=\"display:none;\">\n",
              "\n",
              "<svg xmlns=\"http://www.w3.org/2000/svg\" height=\"24px\"viewBox=\"0 0 24 24\"\n",
              "     width=\"24px\">\n",
              "    <g>\n",
              "        <path d=\"M19 3H5c-1.1 0-2 .9-2 2v14c0 1.1.9 2 2 2h14c1.1 0 2-.9 2-2V5c0-1.1-.9-2-2-2zM9 17H7v-7h2v7zm4 0h-2V7h2v10zm4 0h-2v-4h2v4z\"/>\n",
              "    </g>\n",
              "</svg>\n",
              "      </button>\n",
              "    </div>\n",
              "\n",
              "<style>\n",
              "  .colab-df-quickchart {\n",
              "    background-color: #E8F0FE;\n",
              "    border: none;\n",
              "    border-radius: 50%;\n",
              "    cursor: pointer;\n",
              "    display: none;\n",
              "    fill: #1967D2;\n",
              "    height: 32px;\n",
              "    padding: 0 0 0 0;\n",
              "    width: 32px;\n",
              "  }\n",
              "\n",
              "  .colab-df-quickchart:hover {\n",
              "    background-color: #E2EBFA;\n",
              "    box-shadow: 0px 1px 2px rgba(60, 64, 67, 0.3), 0px 1px 3px 1px rgba(60, 64, 67, 0.15);\n",
              "    fill: #174EA6;\n",
              "  }\n",
              "\n",
              "  [theme=dark] .colab-df-quickchart {\n",
              "    background-color: #3B4455;\n",
              "    fill: #D2E3FC;\n",
              "  }\n",
              "\n",
              "  [theme=dark] .colab-df-quickchart:hover {\n",
              "    background-color: #434B5C;\n",
              "    box-shadow: 0px 1px 3px 1px rgba(0, 0, 0, 0.15);\n",
              "    filter: drop-shadow(0px 1px 2px rgba(0, 0, 0, 0.3));\n",
              "    fill: #FFFFFF;\n",
              "  }\n",
              "</style>\n",
              "\n",
              "    <script>\n",
              "      async function quickchart(key) {\n",
              "        const containerElement = document.querySelector('#' + key);\n",
              "        const charts = await google.colab.kernel.invokeFunction(\n",
              "            'suggestCharts', [key], {});\n",
              "      }\n",
              "    </script>\n",
              "\n",
              "      <script>\n",
              "\n",
              "function displayQuickchartButton(domScope) {\n",
              "  let quickchartButtonEl =\n",
              "    domScope.querySelector('#df-722addf6-bf16-492b-965b-9bb2e36a6f7f button.colab-df-quickchart');\n",
              "  quickchartButtonEl.style.display =\n",
              "    google.colab.kernel.accessAllowed ? 'block' : 'none';\n",
              "}\n",
              "\n",
              "        displayQuickchartButton(document);\n",
              "      </script>\n",
              "      <style>\n",
              "    .colab-df-container {\n",
              "      display:flex;\n",
              "      flex-wrap:wrap;\n",
              "      gap: 12px;\n",
              "    }\n",
              "\n",
              "    .colab-df-convert {\n",
              "      background-color: #E8F0FE;\n",
              "      border: none;\n",
              "      border-radius: 50%;\n",
              "      cursor: pointer;\n",
              "      display: none;\n",
              "      fill: #1967D2;\n",
              "      height: 32px;\n",
              "      padding: 0 0 0 0;\n",
              "      width: 32px;\n",
              "    }\n",
              "\n",
              "    .colab-df-convert:hover {\n",
              "      background-color: #E2EBFA;\n",
              "      box-shadow: 0px 1px 2px rgba(60, 64, 67, 0.3), 0px 1px 3px 1px rgba(60, 64, 67, 0.15);\n",
              "      fill: #174EA6;\n",
              "    }\n",
              "\n",
              "    [theme=dark] .colab-df-convert {\n",
              "      background-color: #3B4455;\n",
              "      fill: #D2E3FC;\n",
              "    }\n",
              "\n",
              "    [theme=dark] .colab-df-convert:hover {\n",
              "      background-color: #434B5C;\n",
              "      box-shadow: 0px 1px 3px 1px rgba(0, 0, 0, 0.15);\n",
              "      filter: drop-shadow(0px 1px 2px rgba(0, 0, 0, 0.3));\n",
              "      fill: #FFFFFF;\n",
              "    }\n",
              "  </style>\n",
              "\n",
              "      <script>\n",
              "        const buttonEl =\n",
              "          document.querySelector('#df-1e8c5585-bc32-456b-ba49-5893d764ba19 button.colab-df-convert');\n",
              "        buttonEl.style.display =\n",
              "          google.colab.kernel.accessAllowed ? 'block' : 'none';\n",
              "\n",
              "        async function convertToInteractive(key) {\n",
              "          const element = document.querySelector('#df-1e8c5585-bc32-456b-ba49-5893d764ba19');\n",
              "          const dataTable =\n",
              "            await google.colab.kernel.invokeFunction('convertToInteractive',\n",
              "                                                     [key], {});\n",
              "          if (!dataTable) return;\n",
              "\n",
              "          const docLinkHtml = 'Like what you see? Visit the ' +\n",
              "            '<a target=\"_blank\" href=https://colab.research.google.com/notebooks/data_table.ipynb>data table notebook</a>'\n",
              "            + ' to learn more about interactive tables.';\n",
              "          element.innerHTML = '';\n",
              "          dataTable['output_type'] = 'display_data';\n",
              "          await google.colab.output.renderOutput(dataTable, element);\n",
              "          const docLink = document.createElement('div');\n",
              "          docLink.innerHTML = docLinkHtml;\n",
              "          element.appendChild(docLink);\n",
              "        }\n",
              "      </script>\n",
              "    </div>\n",
              "  </div>\n"
            ]
          },
          "metadata": {},
          "execution_count": 27
        }
      ],
      "source": [
        "df.head(10)"
      ]
    },
    {
      "cell_type": "markdown",
      "metadata": {
        "id": "AN2IErNmgNVd"
      },
      "source": [
        "###Data Entry"
      ]
    },
    {
      "cell_type": "markdown",
      "metadata": {
        "id": "AyA4RuK3fibE"
      },
      "source": [
        "Here is where we will go ahead and enter the values of the investment you want to predict. For now go ahead and in the Fill Yourself Section in the code below edit the corresponding variables to match the investment you want to predict.\n",
        "\n"
      ]
    },
    {
      "cell_type": "markdown",
      "metadata": {
        "id": "DlFVO6fEg4b8"
      },
      "source": [
        "We will then be given output of the score of our investment. Here is what each output that is possible means.\n",
        "\n",
        "**Letter Grade Scale:**\n",
        "\n",
        "**A**: (90% - 100%)\n",
        "\n",
        "**B**: (80% - 90%)\n",
        "\n",
        "**C**: (70% - 80%)\n",
        "\n",
        "**D**: (60% - 70%)\n",
        "\n",
        "**F**: (<60%)\n"
      ]
    },
    {
      "cell_type": "markdown",
      "metadata": {
        "id": "S-dvZ9TyY_op"
      },
      "source": [
        "This is where we do our data prediction for an investment, however, if you are planning to use the web application for startup prediction then feel free to ignore this entire block of code completely.\n",
        "\n"
      ]
    },
    {
      "cell_type": "code",
      "execution_count": null,
      "metadata": {
        "id": "hjOGiOf-rM6l",
        "colab": {
          "base_uri": "https://localhost:8080/"
        },
        "outputId": "96301986-5c56-40ae-9c93-bcd29bae2216"
      },
      "outputs": [
        {
          "output_type": "stream",
          "name": "stdout",
          "text": [
            "[[ -0.72091714 -18.84904425   3.88829535  -0.90701876   0.80984396]]\n",
            "output grade:  ['A']\n"
          ]
        },
        {
          "output_type": "stream",
          "name": "stderr",
          "text": [
            "/usr/local/lib/python3.10/dist-packages/sklearn/base.py:439: UserWarning: X does not have valid feature names, but StandardScaler was fitted with feature names\n",
            "  warnings.warn(\n"
          ]
        }
      ],
      "source": [
        "#Enter Values of the Startup you want the ML Model to predict:\n",
        "#***FOR YOU TO FILL OUT***\n",
        "InvestmentName = \"AMD\"\n",
        "DateOfInvestment = \"10/31/2009\"\n",
        "ROI = 6.23\n",
        "DebtToEquityRatio = -32.4\n",
        "ProfitMargin = 42.05\n",
        "SocialMediaEngagement = 5\n",
        "PE_Ratio = 21.51\n",
        "#*************************\n",
        "\n",
        "#input = (FreeCashFlow, ROI, DebtToEquityRatio, PE_Ratio)\n",
        "input = (ROI, DebtToEquityRatio, ProfitMargin, SocialMediaEngagement, PE_Ratio)\n",
        "\n",
        "data_changed = np.asarray(input)\n",
        "\n",
        "data_reshaped = data_changed.reshape(1,-1)\n",
        "\n",
        "std_data = scaler.transform(data_reshaped)\n",
        "print(std_data)\n",
        "\n",
        "prediction = classifier.predict(std_data)\n",
        "print(\"output grade: \", prediction)"
      ]
    },
    {
      "cell_type": "markdown",
      "metadata": {
        "id": "nbBl2ipBZQPp"
      },
      "source": [
        "###Anvil Web Application Date Entry Function"
      ]
    },
    {
      "cell_type": "markdown",
      "metadata": {
        "id": "aLxmBm5KZj9D"
      },
      "source": [
        "This is the investment_predict function used in the Anvil web app to allow users to predict startup investments through the web app rather than the notebook.\n"
      ]
    },
    {
      "cell_type": "code",
      "execution_count": null,
      "metadata": {
        "id": "VJDKZ4kUsC7a"
      },
      "outputs": [],
      "source": [
        "@anvil.server.callable\n",
        "def investment_predict(investment_name, date_of_investment, free_cash_flow, debt_to_equity_ratio, pe_ratio, roi):\n",
        "\n",
        "  #Variables that will be used in determining the grade of the prediction.\n",
        "  InvestmentName = investment_name\n",
        "  DateOfInvestment = date_of_investment\n",
        "  FreeCashFlow = free_cash_flow\n",
        "  DebtToEquityRatio = debt_to_equity_ratio\n",
        "  PE_Ratio = pe_ratio\n",
        "  ROI = roi\n",
        "\n",
        "  # Looking primarily at the KPI columns\n",
        "  input = (FreeCashFlow, DebtToEquityRatio, PE_Ratio, ROI)\n",
        "\n",
        "  # Reshape the data to include this new input while also ensuring that all the columns\n",
        "  # are valid for prediction using the standard scaler transformation.\n",
        "  data_changed = np.asarray(input)\n",
        "  data_reshaped = data_changed.reshape(1,-1)\n",
        "  std_data = scaler.transform(data_reshaped)\n",
        "  #print(std_data)\n",
        "\n",
        "  # Predicting the grade of the added investment using the SVM classifier.\n",
        "  prediction = classifier.predict(std_data)\n",
        "\n",
        "  return prediction"
      ]
    },
    {
      "cell_type": "markdown",
      "metadata": {
        "id": "ForZc7DwZY8J"
      },
      "source": [
        "This function is used to allow us to keep our notebook running in the background which will allow the Anvil app to continuously call functions.\n"
      ]
    },
    {
      "cell_type": "code",
      "execution_count": null,
      "metadata": {
        "id": "U_VY1uphubhe",
        "colab": {
          "base_uri": "https://localhost:8080/",
          "height": 252
        },
        "outputId": "c648942a-9c0a-40f8-a823-cb7c39c85a5b"
      },
      "outputs": [
        {
          "output_type": "error",
          "ename": "KeyboardInterrupt",
          "evalue": "ignored",
          "traceback": [
            "\u001b[0;31m---------------------------------------------------------------------------\u001b[0m",
            "\u001b[0;31mKeyboardInterrupt\u001b[0m                         Traceback (most recent call last)",
            "\u001b[0;32m<ipython-input-30-95cac3476493>\u001b[0m in \u001b[0;36m<cell line: 1>\u001b[0;34m()\u001b[0m\n\u001b[0;32m----> 1\u001b[0;31m \u001b[0manvil\u001b[0m\u001b[0;34m.\u001b[0m\u001b[0mserver\u001b[0m\u001b[0;34m.\u001b[0m\u001b[0mwait_forever\u001b[0m\u001b[0;34m(\u001b[0m\u001b[0;34m)\u001b[0m\u001b[0;34m\u001b[0m\u001b[0;34m\u001b[0m\u001b[0m\n\u001b[0m",
            "\u001b[0;32m/usr/local/lib/python3.10/dist-packages/anvil/server.py\u001b[0m in \u001b[0;36mwait_forever\u001b[0;34m()\u001b[0m\n\u001b[1;32m    435\u001b[0m     \u001b[0m_get_connection\u001b[0m\u001b[0;34m(\u001b[0m\u001b[0;34m)\u001b[0m\u001b[0;34m\u001b[0m\u001b[0;34m\u001b[0m\u001b[0m\n\u001b[1;32m    436\u001b[0m     \u001b[0;32mwhile\u001b[0m \u001b[0;32mTrue\u001b[0m\u001b[0;34m:\u001b[0m\u001b[0;34m\u001b[0m\u001b[0;34m\u001b[0m\u001b[0m\n\u001b[0;32m--> 437\u001b[0;31m         \u001b[0mtime\u001b[0m\u001b[0;34m.\u001b[0m\u001b[0msleep\u001b[0m\u001b[0;34m(\u001b[0m\u001b[0;36m1\u001b[0m\u001b[0;34m)\u001b[0m\u001b[0;34m\u001b[0m\u001b[0;34m\u001b[0m\u001b[0m\n\u001b[0m",
            "\u001b[0;31mKeyboardInterrupt\u001b[0m: "
          ]
        }
      ],
      "source": [
        "anvil.server.wait_forever()"
      ]
    }
  ],
  "metadata": {
    "colab": {
      "provenance": [],
      "authorship_tag": "ABX9TyOZlh8Y8VhUM7/OhPbTgQIu",
      "include_colab_link": true
    },
    "kernelspec": {
      "display_name": "Python 3",
      "name": "python3"
    },
    "language_info": {
      "name": "python"
    }
  },
  "nbformat": 4,
  "nbformat_minor": 0
}